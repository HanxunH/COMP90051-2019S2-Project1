{
 "cells": [
  {
   "cell_type": "markdown",
   "metadata": {},
   "source": [
    "### Create BERT sentence embeddings for further use"
   ]
  },
  {
   "cell_type": "code",
   "execution_count": 1,
   "metadata": {
    "ExecuteTime": {
     "end_time": "2019-08-24T01:40:51.368467Z",
     "start_time": "2019-08-24T01:40:50.785233Z"
    }
   },
   "outputs": [],
   "source": [
    "import pandas as pd \n",
    "import numpy as np\n",
    "\n",
    "use_dev_set = True\n",
    "\n",
    "train = pd.read_csv('data/train_set_v1_4.txt', sep='\\t', header=None)\n",
    "\n",
    "if use_dev_set:\n",
    "    test = pd.read_csv('data/dev_set_v1_4.txt', sep='\\t', header=None)\n",
    "    test_list = list(test[1])\n",
    "else:\n",
    "    test = pd.read_csv('data/test_tweets_unlabeled_dataframe_v1_4.txt', sep='\\t', header=None)\n",
    "    test_list = list(test[0])\n",
    "\n",
    "    \n",
    "train_list = list(train[1])\n",
    "\n",
    "for i in range(len(train_list)):\n",
    "    if type(train_list[i]) is float:\n",
    "        train_list[i] = \"none\"\n",
    "\n",
    "for i in range(len(test_list)):\n",
    "    if type(test_list[i]) is float:\n",
    "        test_list[i] = \"none\""
   ]
  },
  {
   "cell_type": "code",
   "execution_count": 2,
   "metadata": {},
   "outputs": [
    {
     "data": {
      "text/plain": [
       "(257226, 2)"
      ]
     },
     "execution_count": 2,
     "metadata": {},
     "output_type": "execute_result"
    }
   ],
   "source": [
    "train.shape"
   ]
  },
  {
   "cell_type": "code",
   "execution_count": 3,
   "metadata": {},
   "outputs": [
    {
     "data": {
      "text/plain": [
       "(32827, 2)"
      ]
     },
     "execution_count": 3,
     "metadata": {},
     "output_type": "execute_result"
    }
   ],
   "source": [
    "test.shape"
   ]
  },
  {
   "cell_type": "code",
   "execution_count": 4,
   "metadata": {},
   "outputs": [
    {
     "data": {
      "text/plain": [
       "'hopefully soon. (re: Connecting at #txfm09)'"
      ]
     },
     "execution_count": 4,
     "metadata": {},
     "output_type": "execute_result"
    }
   ],
   "source": [
    "train.iloc[3544][1]"
   ]
  },
  {
   "cell_type": "code",
   "execution_count": 5,
   "metadata": {
    "ExecuteTime": {
     "end_time": "2019-08-24T01:41:03.404186Z",
     "start_time": "2019-08-24T01:41:03.396088Z"
    }
   },
   "outputs": [
    {
     "data": {
      "text/html": [
       "<div>\n",
       "<style scoped>\n",
       "    .dataframe tbody tr th:only-of-type {\n",
       "        vertical-align: middle;\n",
       "    }\n",
       "\n",
       "    .dataframe tbody tr th {\n",
       "        vertical-align: top;\n",
       "    }\n",
       "\n",
       "    .dataframe thead th {\n",
       "        text-align: right;\n",
       "    }\n",
       "</style>\n",
       "<table border=\"1\" class=\"dataframe\">\n",
       "  <thead>\n",
       "    <tr style=\"text-align: right;\">\n",
       "      <th></th>\n",
       "      <th>0</th>\n",
       "      <th>1</th>\n",
       "    </tr>\n",
       "  </thead>\n",
       "  <tbody>\n",
       "    <tr>\n",
       "      <th>0</th>\n",
       "      <td>7834</td>\n",
       "      <td>Technology Review counted 967,000 monthly uniq...</td>\n",
       "    </tr>\n",
       "    <tr>\n",
       "      <th>1</th>\n",
       "      <td>3666</td>\n",
       "      <td>Netscape's code was in such bad shape bc of jw...</td>\n",
       "    </tr>\n",
       "    <tr>\n",
       "      <th>2</th>\n",
       "      <td>379</td>\n",
       "      <td>thanks for alerting me. I guess I like being i...</td>\n",
       "    </tr>\n",
       "    <tr>\n",
       "      <th>3</th>\n",
       "      <td>4994</td>\n",
       "      <td>Prevention is sexy. It looks good. It feels go...</td>\n",
       "    </tr>\n",
       "    <tr>\n",
       "      <th>4</th>\n",
       "      <td>3630</td>\n",
       "      <td>council to get financial update from August fr...</td>\n",
       "    </tr>\n",
       "  </tbody>\n",
       "</table>\n",
       "</div>"
      ],
      "text/plain": [
       "      0                                                  1\n",
       "0  7834  Technology Review counted 967,000 monthly uniq...\n",
       "1  3666  Netscape's code was in such bad shape bc of jw...\n",
       "2   379  thanks for alerting me. I guess I like being i...\n",
       "3  4994  Prevention is sexy. It looks good. It feels go...\n",
       "4  3630  council to get financial update from August fr..."
      ]
     },
     "execution_count": 5,
     "metadata": {},
     "output_type": "execute_result"
    }
   ],
   "source": [
    "train.head(5)"
   ]
  },
  {
   "cell_type": "code",
   "execution_count": 6,
   "metadata": {
    "ExecuteTime": {
     "end_time": "2019-08-24T01:41:04.696209Z",
     "start_time": "2019-08-24T01:41:04.687819Z"
    }
   },
   "outputs": [
    {
     "data": {
      "text/html": [
       "<div>\n",
       "<style scoped>\n",
       "    .dataframe tbody tr th:only-of-type {\n",
       "        vertical-align: middle;\n",
       "    }\n",
       "\n",
       "    .dataframe tbody tr th {\n",
       "        vertical-align: top;\n",
       "    }\n",
       "\n",
       "    .dataframe thead th {\n",
       "        text-align: right;\n",
       "    }\n",
       "</style>\n",
       "<table border=\"1\" class=\"dataframe\">\n",
       "  <thead>\n",
       "    <tr style=\"text-align: right;\">\n",
       "      <th></th>\n",
       "      <th>0</th>\n",
       "      <th>1</th>\n",
       "    </tr>\n",
       "  </thead>\n",
       "  <tbody>\n",
       "    <tr>\n",
       "      <th>0</th>\n",
       "      <td>774</td>\n",
       "      <td>me too!! I went to sleep at 12:30 and was wide...</td>\n",
       "    </tr>\n",
       "    <tr>\n",
       "      <th>1</th>\n",
       "      <td>2129</td>\n",
       "      <td>lmao whats given to nothing atall beside a hou...</td>\n",
       "    </tr>\n",
       "    <tr>\n",
       "      <th>2</th>\n",
       "      <td>262</td>\n",
       "      <td>bed, goodnight tweeter world! &lt;3 cya tomorrow,...</td>\n",
       "    </tr>\n",
       "    <tr>\n",
       "      <th>3</th>\n",
       "      <td>6910</td>\n",
       "      <td>Guess who fits into a size 13 jeans now!</td>\n",
       "    </tr>\n",
       "    <tr>\n",
       "      <th>4</th>\n",
       "      <td>1091</td>\n",
       "      <td>Look another Brittney showed up makes me miss ...</td>\n",
       "    </tr>\n",
       "  </tbody>\n",
       "</table>\n",
       "</div>"
      ],
      "text/plain": [
       "      0                                                  1\n",
       "0   774  me too!! I went to sleep at 12:30 and was wide...\n",
       "1  2129  lmao whats given to nothing atall beside a hou...\n",
       "2   262  bed, goodnight tweeter world! <3 cya tomorrow,...\n",
       "3  6910           Guess who fits into a size 13 jeans now!\n",
       "4  1091  Look another Brittney showed up makes me miss ..."
      ]
     },
     "execution_count": 6,
     "metadata": {},
     "output_type": "execute_result"
    }
   ],
   "source": [
    "test.head(5)"
   ]
  },
  {
   "cell_type": "code",
   "execution_count": 7,
   "metadata": {},
   "outputs": [],
   "source": [
    "# bert-serving-start -model_dir /share/BERT_pretrained/cased_L-24_H-1024_A-16/ -max_batch_size=384 -cased_tokenization -max_seq_len=150 -gpu_memory_fraction=0.9 -num_worker=1\n",
    "\n",
    "from bert_serving.client import BertClient\n",
    "bc = BertClient()\n",
    "# bc.encode(['First do it', 'then do it right', 'then do it better'])\n",
    "\n"
   ]
  },
  {
   "cell_type": "code",
   "execution_count": 8,
   "metadata": {},
   "outputs": [],
   "source": [
    "train_encode = bc.encode(train_list)"
   ]
  },
  {
   "cell_type": "code",
   "execution_count": 9,
   "metadata": {},
   "outputs": [],
   "source": [
    "test_encode = bc.encode(test_list)"
   ]
  },
  {
   "cell_type": "code",
   "execution_count": 10,
   "metadata": {},
   "outputs": [
    {
     "data": {
      "text/plain": [
       "(32827, 768)"
      ]
     },
     "execution_count": 10,
     "metadata": {},
     "output_type": "execute_result"
    }
   ],
   "source": [
    "test_encode.shape"
   ]
  },
  {
   "cell_type": "code",
   "execution_count": 11,
   "metadata": {},
   "outputs": [
    {
     "data": {
      "text/plain": [
       "array([[ 0.36801082, -0.20410907, -0.75166273, ...,  0.12373435,\n",
       "        -0.6609348 ,  0.6144171 ],\n",
       "       [-0.02898635,  0.25758898, -0.67760336, ...,  0.8075008 ,\n",
       "         0.24650171,  0.01623557],\n",
       "       [ 0.02078831,  0.3311842 , -0.3961721 , ...,  0.16357166,\n",
       "        -0.06616009,  0.21068504],\n",
       "       ...,\n",
       "       [-0.28847003, -0.03020469, -0.92304546, ...,  0.35518   ,\n",
       "        -0.022833  ,  0.74080044],\n",
       "       [ 0.0951407 ,  0.41858208, -0.73990643, ...,  0.39774477,\n",
       "        -0.3599281 ,  0.1166632 ],\n",
       "       [-0.11449274,  0.18208271, -0.06862237, ...,  0.5837979 ,\n",
       "        -0.29327014,  0.37188235]], dtype=float32)"
      ]
     },
     "execution_count": 11,
     "metadata": {},
     "output_type": "execute_result"
    }
   ],
   "source": [
    "train_encode"
   ]
  },
  {
   "cell_type": "markdown",
   "metadata": {},
   "source": [
    "### Save sentence embeddings to file\n",
    "path: data/BERT_encodings   \n",
    "save to npy file, to read the file, use np.load(\"FILE_PATH\")"
   ]
  },
  {
   "cell_type": "code",
   "execution_count": 12,
   "metadata": {},
   "outputs": [],
   "source": [
    "np.save(\"./data/BERT_encoding/new_train_encode_2nditer\", train_encode)\n",
    "\n",
    "if use_dev_set:\n",
    "    np.save(\"./data/BERT_encoding/new_dev_encode_2nditer\", test_encode)\n",
    "else:\n",
    "    np.save(\"./data/BERT_encoding/new_test_encode_2nditer\", test_encode)"
   ]
  },
  {
   "cell_type": "code",
   "execution_count": null,
   "metadata": {},
   "outputs": [],
   "source": [
    "test_encode"
   ]
  },
  {
   "cell_type": "code",
   "execution_count": null,
   "metadata": {},
   "outputs": [],
   "source": []
  }
 ],
 "metadata": {
  "hide_input": false,
  "kernelspec": {
   "display_name": "Python 3",
   "language": "python",
   "name": "python3"
  },
  "language_info": {
   "codemirror_mode": {
    "name": "ipython",
    "version": 3
   },
   "file_extension": ".py",
   "mimetype": "text/x-python",
   "name": "python",
   "nbconvert_exporter": "python",
   "pygments_lexer": "ipython3",
   "version": "3.5.2"
  },
  "toc": {
   "base_numbering": 1,
   "nav_menu": {},
   "number_sections": true,
   "sideBar": true,
   "skip_h1_title": false,
   "title_cell": "Table of Contents",
   "title_sidebar": "Contents",
   "toc_cell": false,
   "toc_position": {},
   "toc_section_display": true,
   "toc_window_display": false
  },
  "varInspector": {
   "cols": {
    "lenName": 16,
    "lenType": 16,
    "lenVar": 40
   },
   "kernels_config": {
    "python": {
     "delete_cmd_postfix": "",
     "delete_cmd_prefix": "del ",
     "library": "var_list.py",
     "varRefreshCmd": "print(var_dic_list())"
    },
    "r": {
     "delete_cmd_postfix": ") ",
     "delete_cmd_prefix": "rm(",
     "library": "var_list.r",
     "varRefreshCmd": "cat(var_dic_list()) "
    }
   },
   "types_to_exclude": [
    "module",
    "function",
    "builtin_function_or_method",
    "instance",
    "_Feature"
   ],
   "window_display": false
  }
 },
 "nbformat": 4,
 "nbformat_minor": 2
}
