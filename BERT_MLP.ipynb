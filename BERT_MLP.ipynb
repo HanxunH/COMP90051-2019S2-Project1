{
 "cells": [
  {
   "cell_type": "markdown",
   "metadata": {},
   "source": [
    "# Baseline method\n",
    "BERT get sentence embeddings, then use a dense layer and softmax to output directly"
   ]
  },
  {
   "cell_type": "markdown",
   "metadata": {},
   "source": [
    "## Import files to workspace"
   ]
  },
  {
   "cell_type": "code",
   "execution_count": 1,
   "metadata": {
    "ExecuteTime": {
     "end_time": "2019-08-24T08:19:52.530413Z",
     "start_time": "2019-08-24T08:19:51.506081Z"
    }
   },
   "outputs": [],
   "source": [
    "import pandas as pd \n",
    "import numpy as np \n",
    "\n",
    "use_dev_set = True\n",
    "\n",
    "# load original data file\n",
    "original_data = pd.read_csv('./data/train_tweets.txt', sep='\\t', header=None)\n",
    "\n",
    "train = pd.read_csv('./data/train_set_v1.txt', sep='\\t', header=None)\n",
    "dev = pd.read_csv('./data/dev_set_v1.txt', sep='\\t', header=None)"
   ]
  },
  {
   "cell_type": "code",
   "execution_count": 2,
   "metadata": {
    "ExecuteTime": {
     "end_time": "2019-08-24T08:37:16.040526Z",
     "start_time": "2019-08-24T08:37:15.157397Z"
    }
   },
   "outputs": [],
   "source": [
    "\n",
    "# load embeddings\n",
    "x_train = np.load('./data/BERT_encoding/train_encode.npy')\n",
    "x_dev = np.load('./data/BERT_encoding/dev_encode.npy')\n",
    "\n",
    "if not use_dev_set:\n",
    "    x_test = np.load('./data/BERT_encoding/test_encode.npy')"
   ]
  },
  {
   "cell_type": "code",
   "execution_count": 3,
   "metadata": {
    "ExecuteTime": {
     "end_time": "2019-08-24T08:19:54.206380Z",
     "start_time": "2019-08-24T08:19:54.197903Z"
    }
   },
   "outputs": [
    {
     "data": {
      "text/html": [
       "<div>\n",
       "<style scoped>\n",
       "    .dataframe tbody tr th:only-of-type {\n",
       "        vertical-align: middle;\n",
       "    }\n",
       "\n",
       "    .dataframe tbody tr th {\n",
       "        vertical-align: top;\n",
       "    }\n",
       "\n",
       "    .dataframe thead th {\n",
       "        text-align: right;\n",
       "    }\n",
       "</style>\n",
       "<table border=\"1\" class=\"dataframe\">\n",
       "  <thead>\n",
       "    <tr style=\"text-align: right;\">\n",
       "      <th></th>\n",
       "      <th>0</th>\n",
       "      <th>1</th>\n",
       "    </tr>\n",
       "  </thead>\n",
       "  <tbody>\n",
       "    <tr>\n",
       "      <th>0</th>\n",
       "      <td>5592</td>\n",
       "      <td>Do you enjoy the games you are playing in life...</td>\n",
       "    </tr>\n",
       "    <tr>\n",
       "      <th>1</th>\n",
       "      <td>8940</td>\n",
       "      <td>Most fun part of owning team. Charging court a...</td>\n",
       "    </tr>\n",
       "    <tr>\n",
       "      <th>2</th>\n",
       "      <td>5149</td>\n",
       "      <td>WSJ: Fannie, Freddie Woes Hurt Apartments #rea...</td>\n",
       "    </tr>\n",
       "    <tr>\n",
       "      <th>3</th>\n",
       "      <td>4562</td>\n",
       "      <td>45% of execs, managers spend 3+ hours a day us...</td>\n",
       "    </tr>\n",
       "    <tr>\n",
       "      <th>4</th>\n",
       "      <td>8061</td>\n",
       "      <td>loves audiobooks</td>\n",
       "    </tr>\n",
       "  </tbody>\n",
       "</table>\n",
       "</div>"
      ],
      "text/plain": [
       "      0                                                  1\n",
       "0  5592  Do you enjoy the games you are playing in life...\n",
       "1  8940  Most fun part of owning team. Charging court a...\n",
       "2  5149  WSJ: Fannie, Freddie Woes Hurt Apartments #rea...\n",
       "3  4562  45% of execs, managers spend 3+ hours a day us...\n",
       "4  8061                                   loves audiobooks"
      ]
     },
     "execution_count": 3,
     "metadata": {},
     "output_type": "execute_result"
    }
   ],
   "source": [
    "train.head(5)"
   ]
  },
  {
   "cell_type": "code",
   "execution_count": 4,
   "metadata": {
    "ExecuteTime": {
     "end_time": "2019-08-24T08:19:54.617658Z",
     "start_time": "2019-08-24T08:19:54.609764Z"
    }
   },
   "outputs": [
    {
     "data": {
      "text/html": [
       "<div>\n",
       "<style scoped>\n",
       "    .dataframe tbody tr th:only-of-type {\n",
       "        vertical-align: middle;\n",
       "    }\n",
       "\n",
       "    .dataframe tbody tr th {\n",
       "        vertical-align: top;\n",
       "    }\n",
       "\n",
       "    .dataframe thead th {\n",
       "        text-align: right;\n",
       "    }\n",
       "</style>\n",
       "<table border=\"1\" class=\"dataframe\">\n",
       "  <thead>\n",
       "    <tr style=\"text-align: right;\">\n",
       "      <th></th>\n",
       "      <th>0</th>\n",
       "      <th>1</th>\n",
       "    </tr>\n",
       "  </thead>\n",
       "  <tbody>\n",
       "    <tr>\n",
       "      <th>0</th>\n",
       "      <td>8363</td>\n",
       "      <td>Or, one of these? This @handle shot top 10 wor...</td>\n",
       "    </tr>\n",
       "    <tr>\n",
       "      <th>1</th>\n",
       "      <td>8687</td>\n",
       "      <td>Blog Post: Chris Brown Speaking to MTV</td>\n",
       "    </tr>\n",
       "    <tr>\n",
       "      <th>2</th>\n",
       "      <td>2228</td>\n",
       "      <td>No Vegas for me either. Although it will proba...</td>\n",
       "    </tr>\n",
       "    <tr>\n",
       "      <th>3</th>\n",
       "      <td>3088</td>\n",
       "      <td>Salvation Army Expecting to Help More During H...</td>\n",
       "    </tr>\n",
       "    <tr>\n",
       "      <th>4</th>\n",
       "      <td>1013</td>\n",
       "      <td>Bummed about the Charger loss, SD? Come down t...</td>\n",
       "    </tr>\n",
       "  </tbody>\n",
       "</table>\n",
       "</div>"
      ],
      "text/plain": [
       "      0                                                  1\n",
       "0  8363  Or, one of these? This @handle shot top 10 wor...\n",
       "1  8687             Blog Post: Chris Brown Speaking to MTV\n",
       "2  2228  No Vegas for me either. Although it will proba...\n",
       "3  3088  Salvation Army Expecting to Help More During H...\n",
       "4  1013  Bummed about the Charger loss, SD? Come down t..."
      ]
     },
     "execution_count": 4,
     "metadata": {},
     "output_type": "execute_result"
    }
   ],
   "source": [
    "dev.head(5)"
   ]
  },
  {
   "cell_type": "code",
   "execution_count": 5,
   "metadata": {
    "ExecuteTime": {
     "end_time": "2019-08-24T08:19:58.068004Z",
     "start_time": "2019-08-24T08:19:58.062273Z"
    }
   },
   "outputs": [
    {
     "name": "stdout",
     "output_type": "stream",
     "text": [
      "291862\n",
      "36124\n",
      "(291862, 1024)\n",
      "(36124, 1024)\n"
     ]
    },
    {
     "ename": "NameError",
     "evalue": "name 'x_test' is not defined",
     "output_type": "error",
     "traceback": [
      "\u001b[0;31m---------------------------------------------------------------------------\u001b[0m",
      "\u001b[0;31mNameError\u001b[0m                                 Traceback (most recent call last)",
      "\u001b[0;32m<ipython-input-5-e24988d4c6c8>\u001b[0m in \u001b[0;36m<module>\u001b[0;34m\u001b[0m\n\u001b[1;32m      4\u001b[0m \u001b[0mprint\u001b[0m\u001b[0;34m(\u001b[0m\u001b[0mx_train\u001b[0m\u001b[0;34m.\u001b[0m\u001b[0mshape\u001b[0m\u001b[0;34m)\u001b[0m\u001b[0;34m\u001b[0m\u001b[0m\n\u001b[1;32m      5\u001b[0m \u001b[0mprint\u001b[0m\u001b[0;34m(\u001b[0m\u001b[0mx_dev\u001b[0m\u001b[0;34m.\u001b[0m\u001b[0mshape\u001b[0m\u001b[0;34m)\u001b[0m\u001b[0;34m\u001b[0m\u001b[0m\n\u001b[0;32m----> 6\u001b[0;31m \u001b[0mprint\u001b[0m\u001b[0;34m(\u001b[0m\u001b[0mx_test\u001b[0m\u001b[0;34m.\u001b[0m\u001b[0mshape\u001b[0m\u001b[0;34m)\u001b[0m\u001b[0;34m\u001b[0m\u001b[0m\n\u001b[0m",
      "\u001b[0;31mNameError\u001b[0m: name 'x_test' is not defined"
     ]
    }
   ],
   "source": [
    "print(len(train))\n",
    "print(len(dev))\n",
    "\n",
    "print(x_train.shape)\n",
    "print(x_dev.shape)\n",
    "print(x_test.shape)\n"
   ]
  },
  {
   "cell_type": "markdown",
   "metadata": {},
   "source": [
    "## Construct projection dictionary\n",
    "Construct the user_id - class_id hash dictionary, for softmax"
   ]
  },
  {
   "cell_type": "code",
   "execution_count": 6,
   "metadata": {
    "ExecuteTime": {
     "end_time": "2019-08-24T08:53:59.554202Z",
     "start_time": "2019-08-24T08:53:59.550355Z"
    }
   },
   "outputs": [
    {
     "data": {
      "text/plain": [
       "328195"
      ]
     },
     "execution_count": 6,
     "metadata": {},
     "output_type": "execute_result"
    }
   ],
   "source": [
    "len(original_data)"
   ]
  },
  {
   "cell_type": "code",
   "execution_count": 7,
   "metadata": {
    "ExecuteTime": {
     "end_time": "2019-08-24T08:57:05.120906Z",
     "start_time": "2019-08-24T08:57:04.781342Z"
    }
   },
   "outputs": [],
   "source": [
    "projection_dict = {}\n",
    "inverse_projection_dict = {}\n",
    "counter = 0\n",
    "for row in train.itertuples():\n",
    "    if row[1] not in projection_dict.keys():\n",
    "        projection_dict.update({\n",
    "            row[1]: counter\n",
    "        })\n",
    "        inverse_projection_dict.update({\n",
    "            counter: row[1]\n",
    "        })\n",
    "        counter += 1\n",
    "        "
   ]
  },
  {
   "cell_type": "code",
   "execution_count": 8,
   "metadata": {
    "ExecuteTime": {
     "end_time": "2019-08-24T08:57:36.685666Z",
     "start_time": "2019-08-24T08:57:36.153525Z"
    }
   },
   "outputs": [],
   "source": [
    "train_class_id = []\n",
    "for row in train.itertuples():\n",
    "    class_id = int(projection_dict.get(row[1]))\n",
    "    train_class_id.append(class_id)\n",
    "                   \n",
    "dev_class_id = []\n",
    "for row in dev.itertuples():\n",
    "    dev_class_id.append(str(projection_dict.get(row[1])))"
   ]
  },
  {
   "cell_type": "code",
   "execution_count": 9,
   "metadata": {
    "ExecuteTime": {
     "end_time": "2019-08-24T08:57:42.895007Z",
     "start_time": "2019-08-24T08:57:42.811793Z"
    }
   },
   "outputs": [],
   "source": [
    "train['class_id'] = train_class_id\n",
    "dev['class_id'] = dev_class_id\n",
    "\n",
    "y_train = train['class_id']\n",
    "y_dev = dev['class_id']"
   ]
  },
  {
   "cell_type": "code",
   "execution_count": 10,
   "metadata": {
    "ExecuteTime": {
     "end_time": "2019-08-24T08:59:53.038121Z",
     "start_time": "2019-08-24T08:59:36.208152Z"
    }
   },
   "outputs": [],
   "source": [
    "# change training target to one_hot\n",
    "nb_classes = len(projection_dict)\n",
    "targets = np.array([y_train]).reshape(-1)\n",
    "y_train_one_hot = np.eye(nb_classes)[targets]"
   ]
  },
  {
   "cell_type": "code",
   "execution_count": 11,
   "metadata": {},
   "outputs": [
    {
     "data": {
      "text/plain": [
       "array([[1., 0., 0., ..., 0., 0., 0.],\n",
       "       [0., 1., 0., ..., 0., 0., 0.],\n",
       "       [0., 0., 1., ..., 0., 0., 0.],\n",
       "       ...,\n",
       "       [0., 0., 0., ..., 0., 0., 0.],\n",
       "       [0., 0., 0., ..., 0., 0., 0.],\n",
       "       [0., 0., 0., ..., 0., 0., 0.]])"
      ]
     },
     "execution_count": 11,
     "metadata": {},
     "output_type": "execute_result"
    }
   ],
   "source": [
    "y_train_one_hot"
   ]
  },
  {
   "cell_type": "markdown",
   "metadata": {},
   "source": [
    "## Constrtuct Keras MLP model"
   ]
  },
  {
   "cell_type": "code",
   "execution_count": 13,
   "metadata": {
    "ExecuteTime": {
     "end_time": "2019-08-24T10:50:42.503816Z",
     "start_time": "2019-08-24T10:50:42.320551Z"
    }
   },
   "outputs": [
    {
     "name": "stdout",
     "output_type": "stream",
     "text": [
      "_________________________________________________________________\n",
      "Layer (type)                 Output Shape              Param #   \n",
      "=================================================================\n",
      "dense_4 (Dense)              (None, 1024)              1049600   \n",
      "_________________________________________________________________\n",
      "dense_5 (Dense)              (None, 512)               524800    \n",
      "_________________________________________________________________\n",
      "dropout_2 (Dropout)          (None, 512)               0         \n",
      "_________________________________________________________________\n",
      "dense_6 (Dense)              (None, 9266)              4753458   \n",
      "=================================================================\n",
      "Total params: 6,327,858\n",
      "Trainable params: 6,327,858\n",
      "Non-trainable params: 0\n",
      "_________________________________________________________________\n"
     ]
    }
   ],
   "source": [
    "import keras\n",
    "from keras.callbacks import ModelCheckpoint, EarlyStopping\n",
    "from keras.models import Sequential\n",
    "from keras.layers import Dense, Dropout\n",
    "from IPython.display import SVG\n",
    "from keras.utils.vis_utils import model_to_dot\n",
    "from keras.optimizers import Adam\n",
    "\n",
    "\n",
    "seed = 7\n",
    "np.random.seed(seed)\n",
    "\n",
    "\n",
    "model = Sequential()\n",
    "model.add(Dense(units=1024, activation='relu', input_dim=x_train.shape[1]))\n",
    "model.add(Dense(units=512, activation='relu', input_dim=x_train.shape[1]))\n",
    "model.add(Dropout(0.3))\n",
    "model.add(Dense(units=len(projection_dict), activation='softmax'))\n",
    "# optimizer = Adam(lr=0.01)\n",
    "model.compile(loss=keras.losses.categorical_crossentropy,\n",
    "              optimizer='adam', metrics=['accuracy'])\n",
    "\n",
    "model.summary()\n",
    "\n",
    "\n",
    "# callbacks\n",
    "filepath=\"best_weights_tough_head.hdf5\"\n",
    "checkpoint = ModelCheckpoint(filepath, monitor='val_acc', verbose=1, save_best_only=True, mode='auto')\n",
    "earlyStopping = EarlyStopping(monitor='val_acc', patience=2, verbose=0, mode='auto')\n",
    "\n",
    "callbacks_list = [checkpoint, earlyStopping]\n",
    "\n",
    "# "
   ]
  },
  {
   "cell_type": "code",
   "execution_count": 14,
   "metadata": {
    "ExecuteTime": {
     "end_time": "2019-08-24T10:51:03.265810Z",
     "start_time": "2019-08-24T10:50:45.264370Z"
    },
    "scrolled": true
   },
   "outputs": [
    {
     "name": "stdout",
     "output_type": "stream",
     "text": [
      "WARNING:tensorflow:From /usr/local/lib/python3.5/dist-packages/tensorflow/python/ops/math_ops.py:3066: to_int32 (from tensorflow.python.ops.math_ops) is deprecated and will be removed in a future version.\n",
      "Instructions for updating:\n",
      "Use tf.cast instead.\n",
      "Train on 262675 samples, validate on 29187 samples\n",
      "Epoch 1/50\n",
      "262675/262675 [==============================] - 88s 335us/step - loss: 8.2191 - acc: 0.0190 - val_loss: 7.6811 - val_acc: 0.0367\n",
      "\n",
      "Epoch 00001: val_acc improved from -inf to 0.03669, saving model to best_weights_tough_head.hdf5\n",
      "Epoch 2/50\n",
      "262675/262675 [==============================] - 87s 332us/step - loss: 7.3714 - acc: 0.0446 - val_loss: 7.4061 - val_acc: 0.0549\n",
      "\n",
      "Epoch 00002: val_acc improved from 0.03669 to 0.05492, saving model to best_weights_tough_head.hdf5\n",
      "Epoch 3/50\n",
      "262675/262675 [==============================] - 87s 333us/step - loss: 6.9976 - acc: 0.0603 - val_loss: 7.3138 - val_acc: 0.0670\n",
      "\n",
      "Epoch 00003: val_acc improved from 0.05492 to 0.06702, saving model to best_weights_tough_head.hdf5\n",
      "Epoch 4/50\n",
      "262675/262675 [==============================] - 84s 321us/step - loss: 6.7840 - acc: 0.0700 - val_loss: 7.2838 - val_acc: 0.0695\n",
      "\n",
      "Epoch 00004: val_acc improved from 0.06702 to 0.06948, saving model to best_weights_tough_head.hdf5\n",
      "Epoch 5/50\n",
      "262675/262675 [==============================] - 84s 320us/step - loss: 6.6364 - acc: 0.0777 - val_loss: 7.3223 - val_acc: 0.0751\n",
      "\n",
      "Epoch 00005: val_acc improved from 0.06948 to 0.07507, saving model to best_weights_tough_head.hdf5\n",
      "Epoch 6/50\n",
      "262675/262675 [==============================] - 84s 320us/step - loss: 6.5338 - acc: 0.0829 - val_loss: 7.3399 - val_acc: 0.0786\n",
      "\n",
      "Epoch 00006: val_acc improved from 0.07507 to 0.07863, saving model to best_weights_tough_head.hdf5\n",
      "Epoch 7/50\n",
      "262675/262675 [==============================] - 85s 323us/step - loss: 6.4583 - acc: 0.0860 - val_loss: 7.3494 - val_acc: 0.0829\n",
      "\n",
      "Epoch 00007: val_acc improved from 0.07863 to 0.08291, saving model to best_weights_tough_head.hdf5\n",
      "Epoch 8/50\n",
      "262675/262675 [==============================] - 84s 321us/step - loss: 6.3948 - acc: 0.0899 - val_loss: 7.3760 - val_acc: 0.0810\n",
      "\n",
      "Epoch 00008: val_acc did not improve from 0.08291\n",
      "Epoch 9/50\n",
      "262675/262675 [==============================] - 83s 318us/step - loss: 6.3606 - acc: 0.0912 - val_loss: 7.3470 - val_acc: 0.0829\n",
      "\n",
      "Epoch 00009: val_acc did not improve from 0.08291\n"
     ]
    },
    {
     "data": {
      "text/plain": [
       "<keras.callbacks.History at 0x7f8fa53149e8>"
      ]
     },
     "execution_count": 14,
     "metadata": {},
     "output_type": "execute_result"
    }
   ],
   "source": [
    "model.fit(x=x_train, y=y_train_one_hot, batch_size=32, epochs=50, validation_split=0.1, callbacks=callbacks_list)"
   ]
  },
  {
   "cell_type": "markdown",
   "metadata": {},
   "source": [
    "## Apply keras model"
   ]
  },
  {
   "cell_type": "code",
   "execution_count": 15,
   "metadata": {},
   "outputs": [
    {
     "name": "stdout",
     "output_type": "stream",
     "text": [
      "36124/36124 [==============================] - 1s 37us/step\n"
     ]
    },
    {
     "data": {
      "text/plain": [
       "array([[2.52128229e-04, 4.78287664e-04, 1.03502953e-06, ...,\n",
       "        4.78794334e-07, 1.42071102e-08, 1.39120191e-08],\n",
       "       [1.27373085e-06, 8.65117784e-07, 7.70490715e-07, ...,\n",
       "        1.09587525e-07, 2.42102693e-08, 2.21087131e-08],\n",
       "       [3.53152209e-05, 6.06618472e-04, 2.42241953e-07, ...,\n",
       "        3.62016195e-08, 2.07881556e-09, 2.00881356e-09],\n",
       "       ...,\n",
       "       [3.01541422e-05, 1.62081251e-05, 5.67836356e-09, ...,\n",
       "        5.43668897e-08, 2.98618801e-08, 2.67783307e-08],\n",
       "       [1.45513541e-05, 5.93461709e-06, 2.71375598e-08, ...,\n",
       "        1.38389865e-07, 3.00772229e-09, 2.87059065e-09],\n",
       "       [1.93709257e-05, 1.10128494e-04, 5.90464151e-05, ...,\n",
       "        1.42818153e-05, 3.41318014e-08, 3.53840868e-08]], dtype=float32)"
      ]
     },
     "execution_count": 15,
     "metadata": {},
     "output_type": "execute_result"
    }
   ],
   "source": [
    "# load from file\n",
    "model.load_weights(\"best_weights_tough_head.hdf5\")\n",
    "if use_dev_set:\n",
    "    y_test = model.predict(x_dev, batch_size=128, verbose=1)\n",
    "else:\n",
    "    y_test = model.predict(x_test, batch_size=128, verbose=1)\n",
    "y_test\n",
    "\n",
    "\n",
    "# for i in range(len(test_df)):\n",
    "#     if np.argmax(y_test[i]) == 0:\n",
    "#         label = \"NOT ENOUGH INFO\"\n",
    "# #         test_df['evidence'][i] = []\n",
    "#     elif np.argmax(y_test[i]) == 1:\n",
    "#         label = \"REFUTES\"\n",
    "#     else:\n",
    "#         label = \"SUPPORTS\"\n",
    "#     key = test_df['key'][i]\n",
    "#     result_dict.update({\n",
    "#         key:{\n",
    "#             \"claim\": test_df['claim'][i],\n",
    "#             \"label\": label,\n",
    "#             \"evidence\": test_df['evidence'][i]\n",
    "#         }\n",
    "#     })\n",
    "    \n",
    "# with open('dev_top7_test.json', 'w') as outfile:\n",
    "#     json.dump(result_dict, outfile, indent=4)\n"
   ]
  },
  {
   "cell_type": "code",
   "execution_count": 16,
   "metadata": {},
   "outputs": [
    {
     "data": {
      "text/plain": [
       "(36124, 9266)"
      ]
     },
     "execution_count": 16,
     "metadata": {},
     "output_type": "execute_result"
    }
   ],
   "source": [
    "y_test.shape"
   ]
  },
  {
   "cell_type": "code",
   "execution_count": 17,
   "metadata": {},
   "outputs": [],
   "source": [
    "predict_result = list(np.argmax(y_test, axis=1))"
   ]
  },
  {
   "cell_type": "code",
   "execution_count": 18,
   "metadata": {},
   "outputs": [],
   "source": [
    "projected_result = []\n",
    "for r in predict_result:\n",
    "    projected_result.append(inverse_projection_dict.get(r))"
   ]
  },
  {
   "cell_type": "code",
   "execution_count": 19,
   "metadata": {},
   "outputs": [],
   "source": [
    "np.save(\"./data/result/BERT_MLP_DEV\", projected_result)"
   ]
  },
  {
   "cell_type": "code",
   "execution_count": null,
   "metadata": {},
   "outputs": [],
   "source": []
  }
 ],
 "metadata": {
  "hide_input": false,
  "kernelspec": {
   "display_name": "Python 3",
   "language": "python",
   "name": "python3"
  },
  "language_info": {
   "codemirror_mode": {
    "name": "ipython",
    "version": 3
   },
   "file_extension": ".py",
   "mimetype": "text/x-python",
   "name": "python",
   "nbconvert_exporter": "python",
   "pygments_lexer": "ipython3",
   "version": "3.5.2"
  },
  "toc": {
   "base_numbering": 1,
   "nav_menu": {},
   "number_sections": true,
   "sideBar": true,
   "skip_h1_title": false,
   "title_cell": "Table of Contents",
   "title_sidebar": "Contents",
   "toc_cell": false,
   "toc_position": {},
   "toc_section_display": true,
   "toc_window_display": false
  },
  "varInspector": {
   "cols": {
    "lenName": 16,
    "lenType": 16,
    "lenVar": 40
   },
   "kernels_config": {
    "python": {
     "delete_cmd_postfix": "",
     "delete_cmd_prefix": "del ",
     "library": "var_list.py",
     "varRefreshCmd": "print(var_dic_list())"
    },
    "r": {
     "delete_cmd_postfix": ") ",
     "delete_cmd_prefix": "rm(",
     "library": "var_list.r",
     "varRefreshCmd": "cat(var_dic_list()) "
    }
   },
   "types_to_exclude": [
    "module",
    "function",
    "builtin_function_or_method",
    "instance",
    "_Feature"
   ],
   "window_display": false
  }
 },
 "nbformat": 4,
 "nbformat_minor": 2
}
