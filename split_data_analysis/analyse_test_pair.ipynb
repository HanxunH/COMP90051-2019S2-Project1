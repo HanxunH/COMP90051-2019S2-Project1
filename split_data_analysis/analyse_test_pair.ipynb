{
 "cells": [
  {
   "cell_type": "code",
   "execution_count": 1,
   "metadata": {},
   "outputs": [],
   "source": [
    "import numpy as np\n",
    "import pandas as pd"
   ]
  },
  {
   "cell_type": "code",
   "execution_count": 2,
   "metadata": {},
   "outputs": [],
   "source": [
    "def getSortedByProbability(original_shape, candidate_mat, probability_mat):\n",
    "    sorted_candidate_mat = np.zeros((original_shape)).astype('int')\n",
    "    sorted_probability_mat = np.zeros((original_shape))\n",
    "    for i in range(original_shape[0]):\n",
    "        sorted_index = probability_mat[i].argsort()[::-1]\n",
    "        sorted_candidate_mat[i] = candidate_mat[i, sorted_index]\n",
    "        sorted_probability_mat[i] = probability_mat[i, sorted_index] \n",
    "    return (sorted_candidate_mat, sorted_probability_mat)"
   ]
  },
  {
   "cell_type": "code",
   "execution_count": 6,
   "metadata": {},
   "outputs": [
    {
     "name": "stdout",
     "output_type": "stream",
     "text": [
      "CPU times: user 1.03 s, sys: 47.7 ms, total: 1.08 s\n",
      "Wall time: 783 ms\n"
     ]
    }
   ],
   "source": [
    "%%time\n",
    "k = 20\n",
    "split_pair_path = \"../data/sep_9_lemonbear_triplet_1epoch/pair_test_k_20_siamese_bert_base_cased_triplet_epoch1.txt\"\n",
    "\n",
    "split_data = pd.read_csv(split_pair_path, sep='\\t')"
   ]
  },
  {
   "cell_type": "code",
   "execution_count": 7,
   "metadata": {},
   "outputs": [
    {
     "name": "stdout",
     "output_type": "stream",
     "text": [
      "CPU times: user 268 ms, sys: 8.01 ms, total: 276 ms\n",
      "Wall time: 60.5 ms\n"
     ]
    }
   ],
   "source": [
    "%%time\n",
    "total_len = len(split_data)\n",
    "unique_len = int(total_len/k)\n",
    "original_shape = (unique_len, k)\n",
    "true_sentence = np.array(split_data.true_sentence).reshape(original_shape)\n",
    "candidate_sentence = np.array(split_data.candidate_sentence).reshape(original_shape)\n",
    "candidate_label = np.array(split_data.candidate_label).reshape(original_shape)"
   ]
  },
  {
   "cell_type": "code",
   "execution_count": 8,
   "metadata": {},
   "outputs": [
    {
     "name": "stdout",
     "output_type": "stream",
     "text": [
      "CPU times: user 125 ms, sys: 3.9 ms, total: 129 ms\n",
      "Wall time: 109 ms\n"
     ]
    }
   ],
   "source": [
    "%%time\n",
    "# from probability file, get top k candidates\n",
    "probability_file_path = \"../data/sep_9_lemonbear_triplet_1epoch/begin_again_2nd_iter_k_50_623w_1epoch_test_results.tsv\"\n",
    "\n",
    "probability_file = pd.read_csv(probability_file_path, sep='\\t',header=None).iloc[:,1]\n",
    "probability_mat = np.array(probability_file).reshape(original_shape)"
   ]
  },
  {
   "cell_type": "code",
   "execution_count": 9,
   "metadata": {},
   "outputs": [
    {
     "name": "stdout",
     "output_type": "stream",
     "text": [
      "CPU times: user 157 ms, sys: 25 µs, total: 157 ms\n",
      "Wall time: 155 ms\n"
     ]
    }
   ],
   "source": [
    "%%time\n",
    "# Sort according to probability, descending\n",
    "sorted_candidate_label, sorted_probability_mat = \\\n",
    "        getSortedByProbability(original_shape,\n",
    "                                candidate_label,\n",
    "                                probability_mat)"
   ]
  },
  {
   "cell_type": "code",
   "execution_count": 114,
   "metadata": {},
   "outputs": [
    {
     "name": "stdout",
     "output_type": "stream",
     "text": [
      "True: Some people say that rappers don’t have feelings. We have feelings. Some people say that we are not rappers. That hurts our feelings.\n",
      "Candidate: In the words of Reggie Noble aka Redman : \"I'll Be Dat\"\n",
      "Candidate Label: 5032\n",
      "Probability: 0.12616585\n"
     ]
    }
   ],
   "source": [
    "line_num = 0\n",
    "arg_index = np.argmax(probability_mat[line_num,:])\n",
    "print(\"True: {0}\".format(true_sentence[line_num,0]))\n",
    "print(\"Candidate: {0}\".format(candidate_sentence[line_num, arg_index]))\n",
    "print(\"Candidate Label: {0}\".format(candidate_label[line_num, arg_index]))\n",
    "print(\"Probability: {0}\".format(probability_mat[line_num, arg_index]))"
   ]
  },
  {
   "cell_type": "code",
   "execution_count": 80,
   "metadata": {},
   "outputs": [
    {
     "data": {
      "text/plain": [
       "0.9995931999999998"
      ]
     },
     "execution_count": 80,
     "metadata": {},
     "output_type": "execute_result"
    }
   ],
   "source": []
  },
  {
   "cell_type": "code",
   "execution_count": 10,
   "metadata": {},
   "outputs": [],
   "source": [
    "output_path = \"../data/sep_9_lemonbear_triplet_1epoch/submit_result_lemonbear_triplet_1epoch_k_20_test\"\n",
    "np.save(output_path, sorted_candidate_label[:,0])"
   ]
  },
  {
   "cell_type": "code",
   "execution_count": 2,
   "metadata": {},
   "outputs": [],
   "source": [
    "k = 100\n",
    "split_pair_path = \"../data/split_test/new_split_pair_test_k_{0}.txt\".format(k)\n",
    "# train_data_path = \"../data/split_test/train_set.txt\"\n",
    "test_data_path = \"../data/split_test/test_tweets_unlabeled_dataframe_v1_4.txt\"\n",
    "\n",
    "\n",
    "# train_data = pd.read_csv(train_data_path, sep='\\t', header=None)\n",
    "# train_label = np.array(train_data.iloc[:,0]).astype('int')\n",
    "test_data = pd.read_csv(test_data_path)\n",
    "split_data = pd.read_csv(split_pair_path, sep='\\t')"
   ]
  },
  {
   "cell_type": "code",
   "execution_count": 3,
   "metadata": {},
   "outputs": [],
   "source": [
    "# from probability file, get top k candidates\n",
    "probability_file_path = \"../data/split_test/test_results_k_100.csv\"\n",
    "\n",
    "probability_file = pd.read_csv(probability_file_path, sep='\\t',header=None).iloc[:,1]\n"
   ]
  },
  {
   "cell_type": "code",
   "execution_count": 4,
   "metadata": {},
   "outputs": [
    {
     "name": "stdout",
     "output_type": "stream",
     "text": [
      "CPU times: user 18 s, sys: 12.8 ms, total: 18 s\n",
      "Wall time: 18 s\n"
     ]
    }
   ],
   "source": [
    "%%time\n",
    "top = k\n",
    "new_top = top\n",
    "probability_threshold = 1\n",
    "new_candidate_list = [None] * int(len(split_data)/top)\n",
    "counter = 0\n",
    "for i in range(0, len(split_data), top):\n",
    "    new_train_data_single_split = split_data[i:(i+top)]\n",
    "    new_train_label_single_split = np.array(new_train_data_single_split.candidate_label)\n",
    "    probability_single_split = probability_file[i:(i+top)]\n",
    "    sorted_index = np.array(np.argsort(probability_single_split)[::-1][:new_top])\n",
    "    sorted_probability_split = np.array(probability_single_split)[sorted_index]\n",
    "    new_train_label_single_split = new_train_label_single_split[sorted_index]\n",
    "    filted_probability_split = sorted_probability_split[sorted_probability_split > probability_threshold]\n",
    "    candidate_label = np.array([new_train_label_single_split[0]])\n",
    "    if 0 != len(filted_probability_split):\n",
    "        candidate_label = new_train_label_single_split[:len(filted_probability_split)]\n",
    "        #new_candidate_list.append(candidate_label)\n",
    "    new_candidate_list[counter] = candidate_label\n",
    "    counter += 1\n",
    "    "
   ]
  },
  {
   "cell_type": "code",
   "execution_count": 5,
   "metadata": {},
   "outputs": [],
   "source": [
    "new_top_predict_label_list = np.zeros((len(new_candidate_list), 1)).astype('int')\n",
    "for i in range(0, len(new_candidate_list)):\n",
    "    predict_label = np.argmax(np.bincount(new_candidate_list[i]))\n",
    "    new_top_predict_label_list[i] = predict_label"
   ]
  },
  {
   "cell_type": "code",
   "execution_count": 6,
   "metadata": {},
   "outputs": [],
   "source": [
    "output_path = \"../data/split_test/test_predict_label_k_{0}\".format(k)\n",
    "np.save(output_path, new_top_predict_label_list)"
   ]
  },
  {
   "cell_type": "code",
   "execution_count": 7,
   "metadata": {},
   "outputs": [
    {
     "data": {
      "text/plain": [
       "array([[6353],\n",
       "       [ 249],\n",
       "       [6492],\n",
       "       ...,\n",
       "       [4181],\n",
       "       [9205],\n",
       "       [  82]])"
      ]
     },
     "execution_count": 7,
     "metadata": {},
     "output_type": "execute_result"
    }
   ],
   "source": [
    "new_top_predict_label_list"
   ]
  },
  {
   "cell_type": "code",
   "execution_count": null,
   "metadata": {},
   "outputs": [],
   "source": []
  }
 ],
 "metadata": {
  "kernelspec": {
   "display_name": "Python 3",
   "language": "python",
   "name": "python3"
  },
  "language_info": {
   "codemirror_mode": {
    "name": "ipython",
    "version": 3
   },
   "file_extension": ".py",
   "mimetype": "text/x-python",
   "name": "python",
   "nbconvert_exporter": "python",
   "pygments_lexer": "ipython3",
   "version": "3.7.4"
  }
 },
 "nbformat": 4,
 "nbformat_minor": 2
}
