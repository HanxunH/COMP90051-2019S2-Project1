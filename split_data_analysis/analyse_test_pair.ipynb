{
 "cells": [
  {
   "cell_type": "code",
   "execution_count": 1,
   "metadata": {},
   "outputs": [],
   "source": [
    "import numpy as np\n",
    "import pandas as pd"
   ]
  },
  {
   "cell_type": "code",
   "execution_count": 2,
   "metadata": {},
   "outputs": [],
   "source": [
    "k = 100\n",
    "split_pair_path = \"../data/split_test/new_split_pair_test_k_{0}.txt\".format(k)\n",
    "train_data_path = \"../data/split_test/train_set.txt\"\n",
    "test_data_path = \"../data/split_test/test_tweets_unlabeled_dataframe_v1_4.txt\"\n",
    "\n",
    "\n",
    "train_data = pd.read_csv(train_data_path, sep='\\t', header=None)\n",
    "train_label = np.array(train_data.iloc[:,0]).astype('int')\n",
    "test_data = pd.read_csv(test_data_path)\n",
    "split_data = pd.read_csv(split_pair_path, sep='\\t')"
   ]
  },
  {
   "cell_type": "code",
   "execution_count": 3,
   "metadata": {},
   "outputs": [],
   "source": [
    "# from probability file, get top k candidates\n",
    "probability_file_path = \"../data/split_test/test_results_k_100.csv\"\n",
    "\n",
    "probability_file = pd.read_csv(probability_file_path, sep='\\t',header=None).iloc[:,1]\n"
   ]
  },
  {
   "cell_type": "code",
   "execution_count": 4,
   "metadata": {},
   "outputs": [
    {
     "name": "stdout",
     "output_type": "stream",
     "text": [
      "CPU times: user 18 s, sys: 12.8 ms, total: 18 s\n",
      "Wall time: 18 s\n"
     ]
    }
   ],
   "source": [
    "%%time\n",
    "top = k\n",
    "new_top = top\n",
    "probability_threshold = 1\n",
    "new_candidate_list = [None] * int(len(split_data)/top)\n",
    "counter = 0\n",
    "for i in range(0, len(split_data), top):\n",
    "    new_train_data_single_split = split_data[i:(i+top)]\n",
    "    new_train_label_single_split = np.array(new_train_data_single_split.candidate_label)\n",
    "    probability_single_split = probability_file[i:(i+top)]\n",
    "    sorted_index = np.array(np.argsort(probability_single_split)[::-1][:new_top])\n",
    "    sorted_probability_split = np.array(probability_single_split)[sorted_index]\n",
    "    new_train_label_single_split = new_train_label_single_split[sorted_index]\n",
    "    filted_probability_split = sorted_probability_split[sorted_probability_split > probability_threshold]\n",
    "    candidate_label = np.array([new_train_label_single_split[0]])\n",
    "    if 0 != len(filted_probability_split):\n",
    "        candidate_label = new_train_label_single_split[:len(filted_probability_split)]\n",
    "        #new_candidate_list.append(candidate_label)\n",
    "    new_candidate_list[counter] = candidate_label\n",
    "    counter += 1\n",
    "    "
   ]
  },
  {
   "cell_type": "code",
   "execution_count": 5,
   "metadata": {},
   "outputs": [],
   "source": [
    "new_top_predict_label_list = np.zeros((len(new_candidate_list), 1)).astype('int')\n",
    "for i in range(0, len(new_candidate_list)):\n",
    "    predict_label = np.argmax(np.bincount(new_candidate_list[i]))\n",
    "    new_top_predict_label_list[i] = predict_label"
   ]
  },
  {
   "cell_type": "code",
   "execution_count": 6,
   "metadata": {},
   "outputs": [],
   "source": [
    "output_path = \"../data/split_test/test_predict_label_k_{0}\".format(k)\n",
    "np.save(output_path, new_top_predict_label_list)"
   ]
  },
  {
   "cell_type": "code",
   "execution_count": 7,
   "metadata": {},
   "outputs": [
    {
     "data": {
      "text/plain": [
       "array([[6353],\n",
       "       [ 249],\n",
       "       [6492],\n",
       "       ...,\n",
       "       [4181],\n",
       "       [9205],\n",
       "       [  82]])"
      ]
     },
     "execution_count": 7,
     "metadata": {},
     "output_type": "execute_result"
    }
   ],
   "source": [
    "new_top_predict_label_list"
   ]
  },
  {
   "cell_type": "code",
   "execution_count": null,
   "metadata": {},
   "outputs": [],
   "source": []
  }
 ],
 "metadata": {
  "kernelspec": {
   "display_name": "Python 3",
   "language": "python",
   "name": "python3"
  },
  "language_info": {
   "codemirror_mode": {
    "name": "ipython",
    "version": 3
   },
   "file_extension": ".py",
   "mimetype": "text/x-python",
   "name": "python",
   "nbconvert_exporter": "python",
   "pygments_lexer": "ipython3",
   "version": "3.7.4"
  }
 },
 "nbformat": 4,
 "nbformat_minor": 2
}
