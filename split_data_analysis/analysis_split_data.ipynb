{
 "cells": [
  {
   "cell_type": "code",
   "execution_count": 1,
   "metadata": {},
   "outputs": [],
   "source": [
    "import numpy as np\n",
    "import pandas as pd\n",
    "from sklearn.metrics import accuracy_score"
   ]
  },
  {
   "cell_type": "code",
   "execution_count": 4,
   "metadata": {},
   "outputs": [],
   "source": [
    "k = 1000\n",
    "split_pair_path = \"../data/split_600w_2epoch/split_pair_dev_k_600w_2epoch_{0}.txt\".format(k)\n",
    "# split_pair_path = \"../data/split_dev/split_pair_dev_k_{0}_all.txt\".format(k)\n",
    "# train_data_path = \"../data/split_dev_encode_600w/train_set.txt\"\n",
    "# dev_data_path = \"../data/split_dev_encode_600w/dev_set_v1_4.txt\"\n",
    "\n",
    "# train_data = pd.read_csv(train_data_path, sep='\\t', header=None)\n",
    "# train_label = np.array(train_data.iloc[:,0]).astype('int')\n",
    "# dev_data = pd.read_csv(dev_data_path, sep='\\t', header=None)\n",
    "# dev_label = np.array(dev_data.iloc[:,0]).astype('int')\n",
    "split_data = pd.read_csv(split_pair_path, sep='\\t')"
   ]
  },
  {
   "cell_type": "code",
   "execution_count": 5,
   "metadata": {},
   "outputs": [
    {
     "name": "stdout",
     "output_type": "stream",
     "text": [
      "CPU times: user 1.52 s, sys: 143 ms, total: 1.67 s\n",
      "Wall time: 1.33 s\n"
     ]
    }
   ],
   "source": [
    "%%time\n",
    "total_len = len(split_data)\n",
    "unique_len = int(total_len/k)\n",
    "original_shape = (unique_len, k)\n",
    "true_sentence = np.array(split_data.true_sentence).reshape(original_shape)\n",
    "candidate_sentence = np.array(split_data.candidate_sentence).reshape(original_shape)\n",
    "pair_result = np.array(split_data.pair_result).reshape(original_shape)\n",
    "true_label = np.array(split_data.true_label).reshape(original_shape)\n",
    "candidate_label = np.array(split_data.candidate_label).reshape(original_shape)"
   ]
  },
  {
   "cell_type": "code",
   "execution_count": 13,
   "metadata": {
    "scrolled": true
   },
   "outputs": [
    {
     "data": {
      "text/plain": [
       "0.49361702127659574"
      ]
     },
     "execution_count": 13,
     "metadata": {},
     "output_type": "execute_result"
    }
   ],
   "source": [
    "top = 100\n",
    "np.mean(np.max(pair_result[:,:top], axis=1))"
   ]
  },
  {
   "cell_type": "code",
   "execution_count": 30,
   "metadata": {},
   "outputs": [],
   "source": [
    "new_train_data = split_data"
   ]
  },
  {
   "cell_type": "code",
   "execution_count": 32,
   "metadata": {},
   "outputs": [],
   "source": [
    "# from probability file, get top k candidates\n",
    "probability_file_path = \"../data/first_filter_2epoch/test_results_k_{0}_of_k_1000.csv\".format(k)\n",
    "\n",
    "probability_file = pd.read_csv(probability_file_path, sep='\\t',header=None).iloc[:,1]\n",
    "probability_mat = np.array(probability_file).reshape(original_shape)"
   ]
  },
  {
   "cell_type": "code",
   "execution_count": 33,
   "metadata": {},
   "outputs": [
    {
     "name": "stdout",
     "output_type": "stream",
     "text": [
      "CPU times: user 88.1 ms, sys: 288 µs, total: 88.4 ms\n",
      "Wall time: 90.1 ms\n"
     ]
    }
   ],
   "source": [
    "%%time\n",
    "sorted_candidate_label = np.zeros((original_shape)).astype('int')\n",
    "sorted_probability_mat = np.zeros((original_shape))\n",
    "for i in range(unique_len):\n",
    "    sorted_index = probability_mat[i].argsort()[::-1]\n",
    "    sorted_candidate_label[i] = candidate_label[i, sorted_index]\n",
    "    sorted_probability_mat[i] = probability_mat[i, sorted_index] "
   ]
  },
  {
   "cell_type": "code",
   "execution_count": 34,
   "metadata": {},
   "outputs": [],
   "source": [
    "def getFilteredLabel(weights, label_list):\n",
    "    unique_label = np.unique(label_list)\n",
    "    final_weights = np.zeros((unique_label.shape))\n",
    "    for i, label in enumerate(unique_label):\n",
    "        label_index = (label == label_list)\n",
    "        final_weights[i] = sum(weights[label_index])\n",
    "    sorted_index = final_weights.argsort()[::-1]\n",
    "    return unique_label[sorted_index[0]]\n",
    "\n",
    "def getWeightedLabel(weights, labels, threshold, filter=True):\n",
    "    if filter:\n",
    "        if weights[0] <= threshold:\n",
    "            return labels[0]\n",
    "        filtered_index = (weights > threshold)\n",
    "        return getFilteredLabel(weights[filtered_index], labels[filtered_index])\n",
    "    else:\n",
    "        return getFilteredLabel(weights, labels)\n",
    "\n",
    "def computeAccuracy(predicted, true_label):\n",
    "    accuracy = accuracy_score(true_label, predicted)\n",
    "    print(\"accuracy: {0}\".format(accuracy))"
   ]
  },
  {
   "cell_type": "code",
   "execution_count": 42,
   "metadata": {},
   "outputs": [
    {
     "name": "stdout",
     "output_type": "stream",
     "text": [
      "accuracy: 0.6945309026233881\n",
      "CPU times: user 620 ms, sys: 4.21 ms, total: 625 ms\n",
      "Wall time: 620 ms\n"
     ]
    }
   ],
   "source": [
    "%%time\n",
    "top = 20\n",
    "probability_threshold = 0.5\n",
    "new_candidate_list = np.zeros((unique_len, 1)).astype('int')\n",
    "for i in range(unique_len):\n",
    "    new_candidate_list[i] = \\\n",
    "            getWeightedLabel(\n",
    "                    sorted_probability_mat[i,:top],\n",
    "                    sorted_candidate_label[i,:top],\n",
    "                    probability_threshold, False)\n",
    "computeAccuracy(new_candidate_list, true_label[:,0])"
   ]
  }
 ],
 "metadata": {
  "kernelspec": {
   "display_name": "Python 3",
   "language": "python",
   "name": "python3"
  },
  "language_info": {
   "codemirror_mode": {
    "name": "ipython",
    "version": 3
   },
   "file_extension": ".py",
   "mimetype": "text/x-python",
   "name": "python",
   "nbconvert_exporter": "python",
   "pygments_lexer": "ipython3",
   "version": "3.7.4"
  }
 },
 "nbformat": 4,
 "nbformat_minor": 2
}
