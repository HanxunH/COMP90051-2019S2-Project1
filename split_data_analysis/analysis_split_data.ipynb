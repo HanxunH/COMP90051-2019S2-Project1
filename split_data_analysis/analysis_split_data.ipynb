{
 "cells": [
  {
   "cell_type": "code",
   "execution_count": 1,
   "metadata": {},
   "outputs": [],
   "source": [
    "import numpy as np\n",
    "import pandas as pd"
   ]
  },
  {
   "cell_type": "code",
   "execution_count": 2,
   "metadata": {},
   "outputs": [],
   "source": [
    "split_pair_path = \"../data/split_dev/split_pair_dev.txt\"\n",
    "\n",
    "split_data = pd.read_csv(split_pair_path, sep='\\t', header=None)"
   ]
  },
  {
   "cell_type": "code",
   "execution_count": 5,
   "metadata": {},
   "outputs": [
    {
     "name": "stdout",
     "output_type": "stream",
     "text": [
      "582173\n"
     ]
    }
   ],
   "source": [
    "split_yes_no_list = np.array(split_data.iloc[:,2])\n",
    "result = sum(split_yes_no_list==0)\n",
    "print(result)"
   ]
  },
  {
   "cell_type": "code",
   "execution_count": 99,
   "metadata": {},
   "outputs": [],
   "source": [
    "#a = pd.DataFrame()\n",
    "#a = a.append(split_data.iloc[:10,:])\n",
    "#split_data.iloc[:10,:]"
   ]
  },
  {
   "cell_type": "code",
   "execution_count": 6,
   "metadata": {},
   "outputs": [
    {
     "name": "stdout",
     "output_type": "stream",
     "text": [
      "recall: 12557/32827\n",
      "CPU times: user 1min 36s, sys: 480 ms, total: 1min 36s\n",
      "Wall time: 1min 36s\n"
     ]
    }
   ],
   "source": [
    "%%time\n",
    "k = 20\n",
    "top =20\n",
    "\n",
    "total_single_split_num = int(len(split_yes_no_list)/20)\n",
    "new_train_data = pd.DataFrame()\n",
    "counter = 0\n",
    "for i in range(0, len(split_yes_no_list), 20):\n",
    "    single_split = split_yes_no_list[i:(i+top)]\n",
    "    if 1 in single_split:\n",
    "        new_train_data = new_train_data.append(split_data.iloc[i:(i+top),:])\n",
    "        counter += 1\n",
    "print(\"recall: {0}/{1}\".format(counter, total_single_split_num))"
   ]
  },
  {
   "cell_type": "code",
   "execution_count": 10,
   "metadata": {},
   "outputs": [
    {
     "data": {
      "text/plain": [
       "74367"
      ]
     },
     "execution_count": 10,
     "metadata": {},
     "output_type": "execute_result"
    }
   ],
   "source": [
    "sum(new_train_data.iloc[:,2] == 1)"
   ]
  },
  {
   "cell_type": "code",
   "execution_count": 7,
   "metadata": {},
   "outputs": [],
   "source": [
    "split_pair_path = \"../data/split_dev/new_split_pair_dev.txt\"\n",
    "\n",
    "new_train_data.to_csv(split_pair_path, sep='\\t', header=None, index=False)"
   ]
  },
  {
   "cell_type": "markdown",
   "metadata": {},
   "source": [
    "dev 74367/582173=0.127\n",
    "\n",
    "split_num = 1\n",
    "recall: 15795/36746\n",
    "positive sample: 95259/734920  = 0.1296\n",
    "negative sample: 639661/734920 = 0.8703\n",
    "\n",
    "split_num = 2\n",
    "recall:  /36746\n",
    "\n",
    "split_num = 3\n",
    "recall: 36745/36746\n",
    "positive sample: 94218/734920  = 0.1282\n",
    "negative sample: 640702/734920 = 0.8717\n",
    "\n",
    "split_num = 4\n",
    "recall: 36744/36746\n",
    "positive sample: 94365/734920  = 0.1284\n",
    "negative sample: 640555/734920 = 0.8715\n",
    "\n",
    "split_num = 5\n",
    "recall: 36744/36746\n",
    "positive sample: 94157/734920  = 0.1281\n",
    "negative sample: 640763/734920 = 0.8718\n",
    "\n",
    "split_num = 6\n",
    "recall: 36744/36746\n",
    "positive sample: 93945/734920  = 0.1278\n",
    "negative sample: 640975/734920 = 0.8721\n",
    "\n",
    "split_num = 7\n",
    "recall: 36747/36750\n",
    "positive sample: 92982/735000  = 0.1265\n",
    "negative sample: 642018/735000 = 0.8734"
   ]
  }
 ],
 "metadata": {
  "kernelspec": {
   "display_name": "Python 3",
   "language": "python",
   "name": "python3"
  },
  "language_info": {
   "codemirror_mode": {
    "name": "ipython",
    "version": 3
   },
   "file_extension": ".py",
   "mimetype": "text/x-python",
   "name": "python",
   "nbconvert_exporter": "python",
   "pygments_lexer": "ipython3",
   "version": "3.7.4"
  }
 },
 "nbformat": 4,
 "nbformat_minor": 2
}
