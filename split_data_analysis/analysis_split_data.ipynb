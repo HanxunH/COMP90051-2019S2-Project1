{
 "cells": [
  {
   "cell_type": "code",
   "execution_count": 1,
   "metadata": {},
   "outputs": [],
   "source": [
    "import numpy as np\n",
    "import pandas as pd\n",
    "from sklearn.metrics import accuracy_score"
   ]
  },
  {
   "cell_type": "code",
   "execution_count": 6,
   "metadata": {},
   "outputs": [],
   "source": [
    "top = 50\n",
    "split_pair_path = \"../data/split_dev/split_pair_dev_k_{0}.txt\".format(top)\n",
    "train_data_path = \"../data/split_dev/train_set.txt\"\n",
    "dev_data_path = \"../data/split_dev/dev_set_v1_4.txt\"\n",
    "\n",
    "\n",
    "train_data = pd.read_csv(train_data_path, sep='\\t', header=None)\n",
    "train_label = np.array(train_data.iloc[:,0]).astype('int')\n",
    "dev_data = pd.read_csv(dev_data_path, sep='\\t', header=None)\n",
    "dev_label = np.array(dev_data.iloc[:,0]).astype('int')\n",
    "split_data = pd.read_csv(split_pair_path, sep='\\t')"
   ]
  },
  {
   "cell_type": "code",
   "execution_count": 7,
   "metadata": {},
   "outputs": [
    {
     "name": "stdout",
     "output_type": "stream",
     "text": [
      "positive:negative = 127684:1513666\n"
     ]
    }
   ],
   "source": [
    "split_yes_no_list = np.array(split_data.iloc[:,2])\n",
    "print(\"positive:negative = {0}:{1}\".format(sum(split_yes_no_list==1), sum(split_yes_no_list==0)))"
   ]
  },
  {
   "cell_type": "code",
   "execution_count": 8,
   "metadata": {},
   "outputs": [
    {
     "name": "stdout",
     "output_type": "stream",
     "text": [
      "recall: 14682/32827=0.4473\n",
      "CPU times: user 25min 51s, sys: 42.6 s, total: 26min 34s\n",
      "Wall time: 6min 4s\n"
     ]
    }
   ],
   "source": [
    "%%time\n",
    "\n",
    "total_single_split_num = int(len(split_yes_no_list)/top)\n",
    "new_train_data = pd.DataFrame()\n",
    "counter = 0\n",
    "for i in range(0, len(split_yes_no_list), top):\n",
    "    single_split = split_yes_no_list[i:(i+top)]\n",
    "    if 1 in single_split:\n",
    "        new_train_data = new_train_data.append(split_data.iloc[i:(i+top),:])\n",
    "        counter += 1\n",
    "print(\"recall: {0}/{1}={2:.4f}\".format(counter, total_single_split_num, (counter/total_single_split_num)))\n"
   ]
  },
  {
   "cell_type": "code",
   "execution_count": 9,
   "metadata": {},
   "outputs": [
    {
     "name": "stdout",
     "output_type": "stream",
     "text": [
      "positive:negative = 127684:606416\n",
      "ratio: 0.21055513047149152\n",
      "ratio: 4.749349957708092\n"
     ]
    }
   ],
   "source": [
    "ratio = 1/ (sum(new_train_data.iloc[:,2]==1)/sum(new_train_data.iloc[:,2]==0))\n",
    "print(\"positive:negative = {0}:{1}\".format(sum(new_train_data.iloc[:,2]==1), sum(new_train_data.iloc[:,2]==0)))\n",
    "print(\"ratio: {0}\".format(1/ratio))\n",
    "print(\"ratio: {0}\".format(ratio))"
   ]
  },
  {
   "cell_type": "code",
   "execution_count": 10,
   "metadata": {
    "scrolled": false
   },
   "outputs": [],
   "source": [
    "split_pair_path = \"../data/split_dev/new_split_pair_dev_k_{0}.txt\".format(top)\n",
    "\n",
    "new_train_data.to_csv(split_pair_path, sep='\\t', index=False)\n",
    "#new_train_data = pd.read_csv(split_pair_path, sep='\\t')\n",
    "new_train_data = new_train_data.reset_index(drop=True)"
   ]
  },
  {
   "cell_type": "code",
   "execution_count": 11,
   "metadata": {},
   "outputs": [],
   "source": [
    "# from probability file, get top k candidates\n",
    "probability_file_path = \"/home/weizhuozhang/Downloads/test_results_4.csv\"\n",
    "\n",
    "probability_file = pd.read_csv(probability_file_path, sep='\\t',header=None).iloc[:,1]\n"
   ]
  },
  {
   "cell_type": "code",
   "execution_count": 13,
   "metadata": {},
   "outputs": [
    {
     "name": "stdout",
     "output_type": "stream",
     "text": [
      "CPU times: user 26min 20s, sys: 34.9 s, total: 26min 55s\n",
      "Wall time: 5min 59s\n"
     ]
    }
   ],
   "source": [
    "%%time\n",
    "new_top = 50\n",
    "probability_threshold = 1\n",
    "new_top_candidate_df = pd.DataFrame()\n",
    "new_candidate_list = []\n",
    "for i in range(0, len(new_train_data), top):\n",
    "    new_train_data_single_split = new_train_data[i:(i+top)]\n",
    "    new_train_label_single_split = np.array(new_train_data_single_split.candidate_label)\n",
    "    probability_single_split = probability_file[i:(i+top)]\n",
    "    sorted_index = np.array(np.argsort(probability_single_split)[::-1][:new_top])\n",
    "    sorted_probability_split = np.array(probability_single_split)[sorted_index]\n",
    "    new_train_label_single_split = new_train_label_single_split[sorted_index]\n",
    "    filted_probability_split = sorted_probability_split[sorted_probability_split > probability_threshold]\n",
    "    if 0 == len(filted_probability_split):\n",
    "        candidate_label = new_train_label_single_split[0]\n",
    "        new_candidate_list.append([candidate_label])\n",
    "    else:\n",
    "        candidate_label = new_train_label_single_split[:len(filted_probability_split)]\n",
    "        new_candidate_list.append(candidate_label)\n",
    "    new_top_candidate_df =new_top_candidate_df.append(new_train_data_single_split.iloc[sorted_index,:])\n",
    "    "
   ]
  },
  {
   "cell_type": "code",
   "execution_count": 14,
   "metadata": {
    "scrolled": true
   },
   "outputs": [],
   "source": [
    "#new_top_candidate_df = new_top_candidate_df.reset_index(drop=True)\n",
    "#np.mean(new_top_candidate_df.pair_result)"
   ]
  },
  {
   "cell_type": "code",
   "execution_count": 15,
   "metadata": {},
   "outputs": [],
   "source": [
    "new_top_true_label_list = []\n",
    "new_top_predict_label_list = []\n",
    "counter = 0\n",
    "for i in range(0, len(new_top_candidate_df), new_top):\n",
    "#     new_top_single_split = new_top_candidate_df[i:(i+new_top)]\n",
    "#     new_top_candidate_split_label = new_top_single_split.candidate_label\n",
    "#     predict_label = np.argmax(np.bincount(new_top_candidate_split_label))\n",
    "#     #new_top_candidate_split_label = new_top_single_split.pair_result\n",
    "#     #new_candidate_label_temp = new_top_candidate_split_label.reset_index(drop=True)\n",
    "#     #random_index = list(np.random.randint(0, high=new_top, size=1))\n",
    "#     #predict_label = int(new_candidate_label_temp[random_index])\n",
    "\n",
    "    new_top_true_label_list.append(new_top_candidate_df.true_label[i])\n",
    "\n",
    "    predict_label = np.argmax(np.bincount(new_candidate_list[counter]))\n",
    "    new_top_predict_label_list.append(predict_label)\n",
    "    counter += 1"
   ]
  },
  {
   "cell_type": "code",
   "execution_count": 16,
   "metadata": {},
   "outputs": [
    {
     "name": "stdout",
     "output_type": "stream",
     "text": [
      "accuracy: 0.674908050674295\n"
     ]
    }
   ],
   "source": [
    "new_top_true_label_list = np.array(new_top_true_label_list)\n",
    "accuracy = accuracy_score(new_top_true_label_list, new_top_predict_label_list)\n",
    "print(\"accuracy: {0}\".format(accuracy))"
   ]
  },
  {
   "cell_type": "markdown",
   "metadata": {},
   "source": [
    "dev 74367/582173=0.127\n",
    "\n",
    "split_num = 1\n",
    "recall: 15795/36746\n",
    "positive sample: 95259/734920  = 0.1296\n",
    "negative sample: 639661/734920 = 0.8703\n",
    "\n",
    "split_num = 2\n",
    "recall:  /36746\n",
    "\n",
    "split_num = 3\n",
    "recall: 36745/36746\n",
    "positive sample: 94218/734920  = 0.1282\n",
    "negative sample: 640702/734920 = 0.8717\n",
    "\n",
    "split_num = 4\n",
    "recall: 36744/36746\n",
    "positive sample: 94365/734920  = 0.1284\n",
    "negative sample: 640555/734920 = 0.8715\n",
    "\n",
    "split_num = 5\n",
    "recall: 36744/36746\n",
    "positive sample: 94157/734920  = 0.1281\n",
    "negative sample: 640763/734920 = 0.8718\n",
    "\n",
    "split_num = 6\n",
    "recall: 36744/36746\n",
    "positive sample: 93945/734920  = 0.1278\n",
    "negative sample: 640975/734920 = 0.8721\n",
    "\n",
    "split_num = 7\n",
    "recall: 36747/36750\n",
    "positive sample: 92982/735000  = 0.1265\n",
    "negative sample: 642018/735000 = 0.8734"
   ]
  },
  {
   "cell_type": "code",
   "execution_count": null,
   "metadata": {},
   "outputs": [],
   "source": []
  }
 ],
 "metadata": {
  "kernelspec": {
   "display_name": "Python 3",
   "language": "python",
   "name": "python3"
  },
  "language_info": {
   "codemirror_mode": {
    "name": "ipython",
    "version": 3
   },
   "file_extension": ".py",
   "mimetype": "text/x-python",
   "name": "python",
   "nbconvert_exporter": "python",
   "pygments_lexer": "ipython3",
   "version": "3.7.4"
  }
 },
 "nbformat": 4,
 "nbformat_minor": 2
}
