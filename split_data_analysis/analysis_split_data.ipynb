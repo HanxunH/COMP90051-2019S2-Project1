{
 "cells": [
  {
   "cell_type": "code",
   "execution_count": 14,
   "metadata": {},
   "outputs": [],
   "source": [
    "import numpy as np\n",
    "import pandas as pd\n",
    "from sklearn.metrics import accuracy_score"
   ]
  },
  {
   "cell_type": "code",
   "execution_count": 15,
   "metadata": {},
   "outputs": [],
   "source": [
    "top = 100\n",
    "# split_pair_path = \"../data/split_dev/split_pair_dev_k_{0}.txt\".format(top)\n",
    "# train_data_path = \"../data/split_dev/train_set.txt\"\n",
    "# dev_data_path = \"../data/split_dev/dev_set_v1_4.txt\"\n",
    "\n",
    "split_pair_path = \"../data/encode_3epoch/split_pair_dev_k_{0}.txt\".format(top)\n",
    "train_data_path = \"../data/encode_3epoch/train_set.txt\"\n",
    "dev_data_path = \"../data/encode_3epoch/dev_set_v1_4.txt\"\n",
    "\n",
    "\n",
    "train_data = pd.read_csv(train_data_path, sep='\\t', header=None)\n",
    "train_label = np.array(train_data.iloc[:,0]).astype('int')\n",
    "dev_data = pd.read_csv(dev_data_path, sep='\\t', header=None)\n",
    "dev_label = np.array(dev_data.iloc[:,0]).astype('int')\n",
    "split_data = pd.read_csv(split_pair_path, sep='\\t')"
   ]
  },
  {
   "cell_type": "code",
   "execution_count": 16,
   "metadata": {},
   "outputs": [
    {
     "name": "stdout",
     "output_type": "stream",
     "text": [
      "positive:negative = 178229:3104471\n"
     ]
    }
   ],
   "source": [
    "split_yes_no_list = np.array(split_data.iloc[:,2])\n",
    "print(\"positive:negative = {0}:{1}\".format(sum(split_yes_no_list==1), sum(split_yes_no_list==0)))"
   ]
  },
  {
   "cell_type": "code",
   "execution_count": 17,
   "metadata": {},
   "outputs": [
    {
     "name": "stdout",
     "output_type": "stream",
     "text": [
      "recall: 16601/32827=0.5057\n",
      "CPU times: user 83.4 ms, sys: 75 µs, total: 83.5 ms\n",
      "Wall time: 82.3 ms\n"
     ]
    }
   ],
   "source": [
    "%%time\n",
    "\n",
    "total_single_split_num = int(len(split_yes_no_list)/top)\n",
    "counter = 0\n",
    "index_list = []\n",
    "for i in range(0, len(split_yes_no_list), top):\n",
    "    single_split = split_yes_no_list[i:(i+top)]\n",
    "    if 1 in single_split:\n",
    "        #new_train_data = new_train_data.append(split_data.iloc[i:(i+top),:])\n",
    "        index_list.append(i)\n",
    "        counter += 1\n",
    "print(\"recall: {0}/{1}={2:.4f}\".format(counter, total_single_split_num, (counter/total_single_split_num)))"
   ]
  },
  {
   "cell_type": "code",
   "execution_count": 1,
   "metadata": {},
   "outputs": [
    {
     "ename": "NameError",
     "evalue": "name 'pd' is not defined",
     "output_type": "error",
     "traceback": [
      "\u001b[0;31m---------------------------------------------------------------------------\u001b[0m",
      "\u001b[0;31mNameError\u001b[0m                                 Traceback (most recent call last)",
      "\u001b[0;32m<timed exec>\u001b[0m in \u001b[0;36m<module>\u001b[0;34m\u001b[0m\n",
      "\u001b[0;31mNameError\u001b[0m: name 'pd' is not defined"
     ]
    }
   ],
   "source": [
    "%%time\n",
    "\n",
    "new_train_data = pd.DataFrame()\n",
    "for i in range(0, len(split_yes_no_list), top):\n",
    "    single_split = split_yes_no_list[i:(i+top)]\n",
    "    if 1 in single_split:\n",
    "        new_train_data = new_train_data.append(split_data.iloc[i:(i+top),:])"
   ]
  },
  {
   "cell_type": "code",
   "execution_count": 6,
   "metadata": {},
   "outputs": [
    {
     "name": "stdout",
     "output_type": "stream",
     "text": [
      "positive:negative = 177881:1479519\n",
      "ratio: 0.12022893927012768\n",
      "ratio: 8.317465046857167\n"
     ]
    }
   ],
   "source": [
    "ratio = 1/ (sum(new_train_data.iloc[:,2]==1)/sum(new_train_data.iloc[:,2]==0))\n",
    "print(\"positive:negative = {0}:{1}\".format(sum(new_train_data.iloc[:,2]==1), sum(new_train_data.iloc[:,2]==0)))\n",
    "print(\"ratio: {0}\".format(1/ratio))\n",
    "print(\"ratio: {0}\".format(ratio))"
   ]
  },
  {
   "cell_type": "code",
   "execution_count": 7,
   "metadata": {
    "scrolled": false
   },
   "outputs": [],
   "source": [
    "split_pair_path = \"../data/split_dev/new_split_pair_dev_k_{0}.txt\".format(top)\n",
    "\n",
    "new_train_data.to_csv(split_pair_path, sep='\\t', index=False)\n",
    "#new_train_data = pd.read_csv(split_pair_path, sep='\\t')\n",
    "new_train_data = new_train_data.reset_index(drop=True)"
   ]
  },
  {
   "cell_type": "code",
   "execution_count": 15,
   "metadata": {},
   "outputs": [],
   "source": [
    "k = 100\n",
    "split_pair_path = \"../data/first_filter_2epoch/new_split_pair_dev_2epoch_k_{0}.txt\".format(k)\n",
    "\n",
    "new_train_data = pd.read_csv(split_pair_path, sep='\\t')"
   ]
  },
  {
   "cell_type": "code",
   "execution_count": 16,
   "metadata": {},
   "outputs": [
    {
     "name": "stdout",
     "output_type": "stream",
     "text": [
      "CPU times: user 126 ms, sys: 12 ms, total: 138 ms\n",
      "Wall time: 90.5 ms\n"
     ]
    }
   ],
   "source": [
    "%%time\n",
    "total_len = len(new_train_data)\n",
    "unique_len = int(total_len/k)\n",
    "original_shape = (unique_len, k)\n",
    "true_sentence = np.array(new_train_data.true_sentence).reshape(original_shape)\n",
    "candidate_sentence = np.array(new_train_data.candidate_sentence).reshape(original_shape)\n",
    "pair_result = np.array(new_train_data.pair_result).reshape(original_shape)\n",
    "true_label = np.array(new_train_data.true_label).reshape(original_shape)\n",
    "candidate_label = np.array(new_train_data.candidate_label).reshape(original_shape)"
   ]
  },
  {
   "cell_type": "code",
   "execution_count": 17,
   "metadata": {},
   "outputs": [],
   "source": [
    "# from probability file, get top k candidates\n",
    "probability_file_path = \"../data/first_filter_2epoch/test_results_k_{0}_of_k_1000.csv\".format(k)\n",
    "\n",
    "probability_file = pd.read_csv(probability_file_path, sep='\\t',header=None).iloc[:,1]\n",
    "probability_mat = np.array(probability_file).reshape(original_shape)"
   ]
  },
  {
   "cell_type": "code",
   "execution_count": 18,
   "metadata": {},
   "outputs": [
    {
     "name": "stdout",
     "output_type": "stream",
     "text": [
      "CPU times: user 122 ms, sys: 11.9 ms, total: 134 ms\n",
      "Wall time: 134 ms\n"
     ]
    }
   ],
   "source": [
    "%%time\n",
    "sorted_candidate_label = np.zeros((original_shape)).astype('int')\n",
    "sorted_probability_mat = np.zeros((original_shape))\n",
    "for i in range(unique_len):\n",
    "    sorted_index = probability_mat[i].argsort()[::-1]\n",
    "    sorted_candidate_label[i] = candidate_label[i, sorted_index]\n",
    "    sorted_probability_mat[i] = probability_mat[i, sorted_index] "
   ]
  },
  {
   "cell_type": "code",
   "execution_count": 53,
   "metadata": {},
   "outputs": [
    {
     "data": {
      "text/plain": [
       "array([[ 503,  503,  503, ..., 7129, 5393, 5492],\n",
       "       [9796, 5245, 1887, ..., 6481, 9431, 9012],\n",
       "       [ 262,  262,  262, ...,  829, 4120, 5232],\n",
       "       ...,\n",
       "       [5098, 5098, 5098, ...,  933, 5098, 7661],\n",
       "       [9386, 9838, 9046, ..., 8673, 7717, 7785],\n",
       "       [9887, 8974, 3550, ..., 9005,  934, 7639]])"
      ]
     },
     "execution_count": 53,
     "metadata": {},
     "output_type": "execute_result"
    }
   ],
   "source": [
    "sorted_candidate_label"
   ]
  },
  {
   "cell_type": "code",
   "execution_count": 54,
   "metadata": {},
   "outputs": [
    {
     "data": {
      "text/plain": [
       "array([[0.6988538 , 0.50782937, 0.2562292 , ..., 0.0177156 , 0.016883  ,\n",
       "        0.01153505],\n",
       "       [0.23331267, 0.2290624 , 0.10045436, ..., 0.01757839, 0.01288076,\n",
       "        0.01103879],\n",
       "       [0.9986482 , 0.9984952 , 0.997982  , ..., 0.02205376, 0.01964841,\n",
       "        0.01539265],\n",
       "       ...,\n",
       "       [0.9987276 , 0.99706465, 0.99697363, ..., 0.01225922, 0.01073612,\n",
       "        0.00469577],\n",
       "       [0.78372437, 0.1429009 , 0.09616429, ..., 0.01279237, 0.01253942,\n",
       "        0.0110232 ],\n",
       "       [0.2605647 , 0.2118981 , 0.18246606, ..., 0.00762148, 0.00685781,\n",
       "        0.00669714]])"
      ]
     },
     "execution_count": 54,
     "metadata": {},
     "output_type": "execute_result"
    }
   ],
   "source": [
    "sorted_probability_mat"
   ]
  },
  {
   "cell_type": "code",
   "execution_count": 21,
   "metadata": {},
   "outputs": [],
   "source": [
    "def getFilteredLabel(weights, label_list):\n",
    "    unique_label = np.unique(label_list)\n",
    "    final_weights = np.zeros((unique_label.shape))\n",
    "    for i, label in enumerate(unique_label):\n",
    "        label_index = (label == label_list)\n",
    "        final_weights[i] = sum(weights[label_index])\n",
    "    sorted_index = final_weights.argsort()[::-1]\n",
    "    return unique_label[sorted_index[0]]\n",
    "\n",
    "def getWeightedLabel(weights, labels, threshold, filter=True):\n",
    "    if filter:\n",
    "        if weights[0] <= threshold:\n",
    "            return labels[0]\n",
    "        filtered_index = (weights > threshold)\n",
    "        return getFilteredLabel(weights[filtered_index], labels[filtered_index])\n",
    "    else:\n",
    "        return getFilteredLabel(weights, labels)\n",
    "\n",
    "def computeAccuracy(predicted, true_label):\n",
    "    accuracy = accuracy_score(true_label, predicted)\n",
    "    print(\"accuracy: {0}\".format(accuracy))"
   ]
  },
  {
   "cell_type": "code",
   "execution_count": 52,
   "metadata": {},
   "outputs": [
    {
     "name": "stdout",
     "output_type": "stream",
     "text": [
      "accuracy: 0.5643318167389694\n",
      "CPU times: user 159 ms, sys: 3.95 ms, total: 163 ms\n",
      "Wall time: 163 ms\n"
     ]
    }
   ],
   "source": [
    "%%time\n",
    "top = 100\n",
    "probability_threshold = 0.99\n",
    "new_candidate_list = np.zeros((unique_len, 1)).astype('int')\n",
    "for i in range(unique_len):\n",
    "    new_candidate_list[i] = \\\n",
    "            getWeightedLabel(\n",
    "                    sorted_probability_mat[i,:top],\n",
    "                    sorted_candidate_label[i,:top],\n",
    "                    probability_threshold)\n",
    "computeAccuracy(new_candidate_list, true_label[:,0])"
   ]
  },
  {
   "cell_type": "code",
   "execution_count": null,
   "metadata": {},
   "outputs": [],
   "source": []
  },
  {
   "cell_type": "code",
   "execution_count": null,
   "metadata": {},
   "outputs": [],
   "source": [
    "top = k\n",
    "new_candidate_list = [None] * int(len(new_train_data)/top)\n",
    "counter = 0\n",
    "for i in range(0, len(new_train_data), top):\n",
    "    new_train_data_single_split = new_train_data[i:(i+top)]\n",
    "    new_train_label_single_split = np.array(new_train_data_single_split.candidate_label)\n",
    "    probability_single_split = probability_file[i:(i+top)]\n",
    "    sorted_index = np.array(np.argsort(probability_single_split)[::-1][:new_top])\n",
    "    sorted_probability_split = np.array(probability_single_split)[sorted_index]\n",
    "    new_train_label_single_split = new_train_label_single_split[sorted_index]\n",
    "    filted_probability_split = sorted_probability_split[sorted_probability_split > probability_threshold]\n",
    "    candidate_label = np.array([new_train_label_single_split[0]])\n",
    "    if 0 != len(filted_probability_split):\n",
    "        candidate_label = new_train_label_single_split[:len(filted_probability_split)]\n",
    "    new_candidate_list[counter] = candidate_label\n",
    "    counter += 1\n",
    "   "
   ]
  },
  {
   "cell_type": "code",
   "execution_count": 12,
   "metadata": {},
   "outputs": [],
   "source": [
    "new_top_true_label_list = np.zeros((len(new_candidate_list), 1))\n",
    "new_top_predict_label_list = np.zeros((len(new_candidate_list), 1))\n",
    "counter = 0\n",
    "for i in range(0, len(new_candidate_list)):\n",
    "    new_top_true_label_list[i] = new_train_data.true_label[i*top]\n",
    "    predict_label = np.argmax(np.bincount(new_candidate_list[counter]))\n",
    "    new_top_predict_label_list[i] = predict_label\n",
    "    counter += 1"
   ]
  },
  {
   "cell_type": "code",
   "execution_count": 13,
   "metadata": {},
   "outputs": [
    {
     "name": "stdout",
     "output_type": "stream",
     "text": [
      "accuracy: 0.5623743519204317\n"
     ]
    }
   ],
   "source": [
    "new_top_true_label_list = np.array(new_top_true_label_list)\n",
    "accuracy = accuracy_score(new_top_true_label_list, new_top_predict_label_list)\n",
    "print(\"accuracy: {0}\".format(accuracy))"
   ]
  },
  {
   "cell_type": "code",
   "execution_count": 16,
   "metadata": {},
   "outputs": [
    {
     "name": "stdout",
     "output_type": "stream",
     "text": [
      "accuracy: 0.674908050674295\n"
     ]
    }
   ],
   "source": [
    "new_top_true_label_list = np.array(new_top_true_label_list)\n",
    "accuracy = accuracy_score(new_top_true_label_list, new_top_predict_label_list)\n",
    "print(\"accuracy: {0}\".format(accuracy))"
   ]
  },
  {
   "cell_type": "markdown",
   "metadata": {},
   "source": [
    "dev 74367/582173=0.127\n",
    "\n",
    "split_num = 1\n",
    "recall: 15795/36746\n",
    "positive sample: 95259/734920  = 0.1296\n",
    "negative sample: 639661/734920 = 0.8703\n",
    "\n",
    "split_num = 2\n",
    "recall:  /36746\n",
    "\n",
    "split_num = 3\n",
    "recall: 36745/36746\n",
    "positive sample: 94218/734920  = 0.1282\n",
    "negative sample: 640702/734920 = 0.8717\n",
    "\n",
    "split_num = 4\n",
    "recall: 36744/36746\n",
    "positive sample: 94365/734920  = 0.1284\n",
    "negative sample: 640555/734920 = 0.8715\n",
    "\n",
    "split_num = 5\n",
    "recall: 36744/36746\n",
    "positive sample: 94157/734920  = 0.1281\n",
    "negative sample: 640763/734920 = 0.8718\n",
    "\n",
    "split_num = 6\n",
    "recall: 36744/36746\n",
    "positive sample: 93945/734920  = 0.1278\n",
    "negative sample: 640975/734920 = 0.8721\n",
    "\n",
    "split_num = 7\n",
    "recall: 36747/36750\n",
    "positive sample: 92982/735000  = 0.1265\n",
    "negative sample: 642018/735000 = 0.8734"
   ]
  },
  {
   "cell_type": "code",
   "execution_count": null,
   "metadata": {},
   "outputs": [],
   "source": []
  }
 ],
 "metadata": {
  "kernelspec": {
   "display_name": "Python 3",
   "language": "python",
   "name": "python3"
  },
  "language_info": {
   "codemirror_mode": {
    "name": "ipython",
    "version": 3
   },
   "file_extension": ".py",
   "mimetype": "text/x-python",
   "name": "python",
   "nbconvert_exporter": "python",
   "pygments_lexer": "ipython3",
   "version": "3.7.4"
  }
 },
 "nbformat": 4,
 "nbformat_minor": 2
}
