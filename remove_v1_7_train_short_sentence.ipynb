{
 "cells": [
  {
   "cell_type": "code",
   "execution_count": 1,
   "metadata": {},
   "outputs": [],
   "source": [
    "import numpy as np\n",
    "import pandas as pd"
   ]
  },
  {
   "cell_type": "code",
   "execution_count": 9,
   "metadata": {},
   "outputs": [],
   "source": [
    "version = \"v1_7\"\n",
    "train_path = \"data/{0}/train_set_{0}.txt\".format(version)\n",
    "train_data = pd.read_csv(train_path, header=None, sep=\"\\t\")"
   ]
  },
  {
   "cell_type": "code",
   "execution_count": 7,
   "metadata": {},
   "outputs": [],
   "source": [
    "sentence_len = np.zeros((len(train_data), 1)).astype('int')\n",
    "\n",
    "for i in range(len(train_data)):\n",
    "    sentence = train_data.at[i,1]\n",
    "    sentence_len[i] = len(sentence.split())"
   ]
  },
  {
   "cell_type": "code",
   "execution_count": 35,
   "metadata": {},
   "outputs": [],
   "source": [
    "SENTENCE_LEN_LIMIT = 5\n",
    "# long_sentence_index = (sentence_len >= 5)\n",
    "#long_sentence_index = np.array(train_data.index)[long_sentence_index]\n",
    "output_train_data = train_data.iloc[np.where(sentence_len >= 5)[0]]"
   ]
  },
  {
   "cell_type": "code",
   "execution_count": 37,
   "metadata": {},
   "outputs": [],
   "source": [
    "long_sentence_train_file_path = \"data/{0}/train_set_{0}_long_sentence.txt\".format(version)\n",
    "output_train_data.to_csv(long_sentence_train_file_path, header=None, index=False, sep='\\t')"
   ]
  }
 ],
 "metadata": {
  "kernelspec": {
   "display_name": "Python 3",
   "language": "python",
   "name": "python3"
  },
  "language_info": {
   "codemirror_mode": {
    "name": "ipython",
    "version": 3
   },
   "file_extension": ".py",
   "mimetype": "text/x-python",
   "name": "python",
   "nbconvert_exporter": "python",
   "pygments_lexer": "ipython3",
   "version": "3.7.4"
  }
 },
 "nbformat": 4,
 "nbformat_minor": 2
}
