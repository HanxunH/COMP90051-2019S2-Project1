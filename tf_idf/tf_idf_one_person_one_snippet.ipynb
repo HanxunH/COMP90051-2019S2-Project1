{
 "cells": [
  {
   "cell_type": "code",
   "execution_count": 13,
   "metadata": {},
   "outputs": [],
   "source": [
    "import numpy as np\n",
    "import pandas as pd\n",
    "import math\n",
    "import string\n",
    "import pickle\n",
    "import nltk\n",
    "from sklearn.feature_extraction.text import CountVectorizer\n",
    "from sklearn.feature_extraction.text import TfidfVectorizer\n",
    "from sklearn.neighbors import KNeighborsClassifier\n",
    "from sklearn.metrics.pairwise import cosine_similarity\n",
    "from nltk.corpus import stopwords\n",
    "from scipy.cluster.vq import whiten\n",
    "\n",
    "def get_tf_idf_query_similarity(docs_tfidf, query_tfidf):\n",
    "    cosineSimilarities = cosine_similarity(query_tfidf, docs_tfidf).flatten()\n",
    "    return cosineSimilarities\n",
    "\n",
    "# def l2_norm(a):\n",
    "#     return math.sqrt(np.dot(a, a))\n",
    "\n",
    "# def cosine_similarity(a, b):\n",
    "#     return np.dot(a,b) / (l2_norm(a) * l2_norm(b))\n",
    "\n",
    "sentence_tokenizer = nltk.data.load('tokenizers/punkt/english.pickle')\n",
    "word_tokenizer = nltk.tokenize.RegexpTokenizer(r'\\w+')\n",
    "\n",
    "stops = stopwords.words('english')\n",
    "punctuation_str = string.punctuation\n",
    "symbol_emoji_list = [\":)\",  \";)\",  \":(\",  \":\\\\\",  \":|\", \":]\", \":[\",\n",
    "                     \":-)\", \";-)\", \":-(\", \":-\\\\\", \":-|\", \":-[\", \";-]\",\n",
    "                     \":D\", \":P\", \":-x\", \":'-(\", \":_(\", \":o)\", \"XD\", \":'(\", \":->\",\n",
    "                     \"o_O\", \"T_T\", \"^o^\", \n",
    "                     \":-D\", \":-P\",\"B-)\", \"8-)\", \":-o\", \":-O\", \":-0\", \":-s\", \":-S\"]\n",
    "# TODO hashtag #\n",
    "# TODO hmmmmm hhuuuuugg"
   ]
  },
  {
   "cell_type": "code",
   "execution_count": 20,
   "metadata": {},
   "outputs": [],
   "source": [
    "version = \"v2_1\"\n",
    "dev_set_path = '../data/{0}/dev_set_{0}.txt'.format(version)\n",
    "train_set_path = '../data/{0}/train_set_{0}.txt'.format(version)\n",
    "\n",
    "train_file = open(train_set_path, 'rb')\n",
    "train_data = pickle.load(train_file)\n",
    "dev_data = pd.read_csv(dev_set_path, header=None, sep='\\t')\n",
    "#train_label = (np.array(train_data)[:,0]).astype('int')\n",
    "dev_label = (np.array(dev_data)[:,0]).astype('int')\n",
    "#train_sentence_list = train_data[1]\n",
    "dev_sentence_list = dev_data[1]"
   ]
  },
  {
   "cell_type": "code",
   "execution_count": null,
   "metadata": {},
   "outputs": [],
   "source": []
  }
 ],
 "metadata": {
  "kernelspec": {
   "display_name": "Python 3",
   "language": "python",
   "name": "python3"
  },
  "language_info": {
   "codemirror_mode": {
    "name": "ipython",
    "version": 3
   },
   "file_extension": ".py",
   "mimetype": "text/x-python",
   "name": "python",
   "nbconvert_exporter": "python",
   "pygments_lexer": "ipython3",
   "version": "3.7.4"
  }
 },
 "nbformat": 4,
 "nbformat_minor": 2
}
