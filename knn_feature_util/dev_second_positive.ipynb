{
 "cells": [
  {
   "cell_type": "code",
   "execution_count": 33,
   "metadata": {},
   "outputs": [],
   "source": [
    "import pandas as pd\n",
    "import numpy as np\n",
    "from sklearn.metrics import accuracy_score"
   ]
  },
  {
   "cell_type": "code",
   "execution_count": 34,
   "metadata": {},
   "outputs": [],
   "source": [
    "def getSplitPairDataFrame(true_sentence_list,\n",
    "                          candidate_sentence_list,\n",
    "                          candidate_label_true_false,\n",
    "                          true_label_list,\n",
    "                          candidate_label_list):\n",
    "    return pd.DataFrame({'true_sentence':true_sentence_list,\n",
    "                         'candidate_sentence':candidate_sentence_list,\n",
    "                         'pair_result':candidate_label_true_false,\n",
    "                         'true_label':true_label_list,\n",
    "                         'candidate_label':candidate_label_list})\n",
    "    \n",
    "def getOutput(mat, index, top):\n",
    "    return mat[index, :top].ravel()\n",
    "\n",
    "def getSortedByProbability(original_shape, candidate_mat, probability_mat):\n",
    "    sorted_candidate_mat = np.zeros((original_shape)).astype('int')\n",
    "    sorted_probability_mat = np.zeros((original_shape))\n",
    "    for i in range(original_shape[0]):\n",
    "        sorted_index = probability_mat[i].argsort()[::-1]\n",
    "        sorted_candidate_mat[i] = candidate_mat[i, sorted_index]\n",
    "        sorted_probability_mat[i] = probability_mat[i, sorted_index] \n",
    "    return (sorted_candidate_mat, sorted_probability_mat)"
   ]
  },
  {
   "cell_type": "code",
   "execution_count": 42,
   "metadata": {},
   "outputs": [
    {
     "name": "stdout",
     "output_type": "stream",
     "text": [
      "CPU times: user 4.3 s, sys: 228 ms, total: 4.53 s\n",
      "Wall time: 3.61 s\n"
     ]
    }
   ],
   "source": [
    "%%time\n",
    "k = 100\n",
    "split_pair_path = \"../data/sep_9_lemonbear_triplet_1epoch/pair_siamese_bert_base_cased_v7.0_triplet_epoch1_k_100.txt\"\n",
    "\n",
    "\n",
    "split_data = pd.read_csv(split_pair_path, sep='\\t')"
   ]
  },
  {
   "cell_type": "code",
   "execution_count": 43,
   "metadata": {},
   "outputs": [
    {
     "name": "stdout",
     "output_type": "stream",
     "text": [
      "CPU times: user 199 ms, sys: 6.86 ms, total: 206 ms\n",
      "Wall time: 148 ms\n"
     ]
    }
   ],
   "source": [
    "%%time\n",
    "total_len = len(split_data)\n",
    "unique_len = int(total_len/k)\n",
    "original_shape = (unique_len, k)\n",
    "true_sentence = np.array(split_data.true_sentence).reshape(original_shape)\n",
    "candidate_sentence = np.array(split_data.candidate_sentence).reshape(original_shape)\n",
    "pair_result = np.array(split_data.pair_result).reshape(original_shape)\n",
    "true_label = np.array(split_data.true_label).reshape(original_shape)\n",
    "candidate_label = np.array(split_data.candidate_label).reshape(original_shape)"
   ]
  },
  {
   "cell_type": "code",
   "execution_count": 45,
   "metadata": {},
   "outputs": [
    {
     "data": {
      "text/plain": [
       "0.4701801901392881"
      ]
     },
     "execution_count": 45,
     "metadata": {},
     "output_type": "execute_result"
    }
   ],
   "source": [
    "top = 50\n",
    "np.mean(np.max(pair_result[:,:top], axis=1))"
   ]
  },
  {
   "cell_type": "code",
   "execution_count": 38,
   "metadata": {},
   "outputs": [],
   "source": [
    "probability_file_path = \"/home/weizhuozhang/Desktop/begin_again_2nd_iter_k_50_623w_3epoch/test_results.tsv\"\n",
    "\n",
    "\n",
    "probability_file = pd.read_csv(probability_file_path, sep='\\t',header=None).iloc[:,1]\n",
    "probability_mat = np.array(probability_file).reshape(original_shape)"
   ]
  },
  {
   "cell_type": "code",
   "execution_count": 39,
   "metadata": {},
   "outputs": [
    {
     "name": "stdout",
     "output_type": "stream",
     "text": [
      "CPU times: user 57.9 ms, sys: 3.41 ms, total: 61.3 ms\n",
      "Wall time: 225 ms\n"
     ]
    }
   ],
   "source": [
    "%%time\n",
    "# Sort according to probability, descending\n",
    "sorted_pair_label, sorted_probability_mat = \\\n",
    "        getSortedByProbability(original_shape,\n",
    "                               pair_result,\n",
    "                               probability_mat)"
   ]
  },
  {
   "cell_type": "code",
   "execution_count": 41,
   "metadata": {},
   "outputs": [
    {
     "data": {
      "text/plain": [
       "0.7201270893769858"
      ]
     },
     "execution_count": 41,
     "metadata": {},
     "output_type": "execute_result"
    }
   ],
   "source": [
    "top = 1\n",
    "np.mean(np.max(sorted_pair_label[:,:top], axis=1))"
   ]
  },
  {
   "cell_type": "code",
   "execution_count": 9,
   "metadata": {},
   "outputs": [
    {
     "data": {
      "text/plain": [
       "1"
      ]
     },
     "execution_count": 9,
     "metadata": {},
     "output_type": "execute_result"
    }
   ],
   "source": [
    "np.max(sorted_pair_label[:,:20])"
   ]
  },
  {
   "cell_type": "code",
   "execution_count": 11,
   "metadata": {},
   "outputs": [
    {
     "data": {
      "text/plain": [
       "0.30798249585030935"
      ]
     },
     "execution_count": 11,
     "metadata": {},
     "output_type": "execute_result"
    }
   ],
   "source": [
    "# np.mean(np.max(sorted_pair_label[:,:20], axis=1))\n",
    "np.mean(sorted_pair_label[:,0])"
   ]
  },
  {
   "cell_type": "code",
   "execution_count": 13,
   "metadata": {},
   "outputs": [
    {
     "name": "stdout",
     "output_type": "stream",
     "text": [
      "CPU times: user 2.13 s, sys: 58.6 ms, total: 2.19 s\n",
      "Wall time: 1.48 s\n"
     ]
    }
   ],
   "source": [
    "%%time\n",
    "k_top = 20\n",
    "# Store the positive pair(Recall pair) which contains true label in \"top\" candidates\n",
    "# output_positive_pair_file_path = \"../data/split_600w_2epoch/second_positive_pair_result_k_top_{0}_k_{1}_of_k_1000.csv\".format(k_top, k)\n",
    "output_positive_pair_file_path = \"../data/42recall_lemonbear_embedding/positive_pair_dev_600w_2epoch_top_20_from_k_top_100.txt\"\n",
    "\n",
    "positive_index = (np.max(sorted_pair_label[:,:k_top], axis=1) == 1)\n",
    "output_true_sentence = getOutput(true_sentence[:,:k_top], positive_index, k_top)\n",
    "output_candidate_sentence =  getOutput(candidate_sentence[:,:k_top], positive_index, k_top)\n",
    "output_pair_result = getOutput(pair_result[:,:k_top], positive_index, k_top)\n",
    "output_true_label = getOutput(true_label[:,:k_top], positive_index, k_top)\n",
    "output_candidate_label = getOutput(candidate_label[:,:k_top], positive_index, k_top)\n",
    "positive_pair_df = getSplitPairDataFrame(output_true_sentence,\n",
    "                                         output_candidate_sentence,\n",
    "                                         output_pair_result,\n",
    "                                         output_true_label,\n",
    "                                         output_candidate_label)                         \n",
    "positive_pair_df.to_csv(output_positive_pair_file_path, sep='\\t', index=False) "
   ]
  },
  {
   "cell_type": "code",
   "execution_count": null,
   "metadata": {},
   "outputs": [],
   "source": []
  }
 ],
 "metadata": {
  "kernelspec": {
   "display_name": "Python 3",
   "language": "python",
   "name": "python3"
  },
  "language_info": {
   "codemirror_mode": {
    "name": "ipython",
    "version": 3
   },
   "file_extension": ".py",
   "mimetype": "text/x-python",
   "name": "python",
   "nbconvert_exporter": "python",
   "pygments_lexer": "ipython3",
   "version": "3.7.4"
  }
 },
 "nbformat": 4,
 "nbformat_minor": 2
}
