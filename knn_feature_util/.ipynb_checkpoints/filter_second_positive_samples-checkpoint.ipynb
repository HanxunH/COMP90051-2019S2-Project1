{
 "cells": [
  {
   "cell_type": "code",
   "execution_count": null,
   "metadata": {},
   "outputs": [],
   "source": [
    "import pandas as pd\n",
    "import numpy as np\n",
    "from sklearn.metrics import accuracy_score"
   ]
  },
  {
   "cell_type": "code",
   "execution_count": null,
   "metadata": {},
   "outputs": [],
   "source": [
    "def getSplitPairDataFrame(true_sentence_list,\n",
    "                          candidate_sentence_list,\n",
    "                          candidate_label_true_false):\n",
    "    return pd.DataFrame({'true_sentence':true_sentence_list,\n",
    "                         'candidate_sentence':candidate_sentence_list,\n",
    "                         'pair_result':candidate_label_true_false})\n",
    "    \n",
    "def getOutput(mat, index, top):\n",
    "    return mat[index, :top].ravel()\n",
    "\n",
    "def getSortedByProbability(original_shape, candidate_mat, probability_mat):\n",
    "    sorted_candidate_mat = np.zeros((original_shape)).astype('int')\n",
    "    sorted_probability_mat = np.zeros((original_shape))\n",
    "    for i in range(original_shape[0]):\n",
    "        sorted_index = probability_mat[i].argsort()[::-1]\n",
    "        sorted_candidate_mat[i] = candidate_mat[i, sorted_index]\n",
    "        sorted_probability_mat[i] = probability_mat[i, sorted_index] \n",
    "    return (sorted_candidate_mat, sorted_probability_mat)"
   ]
  },
  {
   "cell_type": "code",
   "execution_count": null,
   "metadata": {},
   "outputs": [],
   "source": [
    "k = 100\n",
    "split_pair_path = \"../data/split_2019_09_04_16_11_47/split_result/positive_pair_all.txt\"\n",
    "split_data = pd.read_csv(split_pair_path, sep='\\t', header=None)"
   ]
  },
  {
   "cell_type": "code",
   "execution_count": null,
   "metadata": {},
   "outputs": [],
   "source": [
    "%%time\n",
    "total_len = len(split_data)\n",
    "unique_len = int(total_len/k)\n",
    "original_shape = (unique_len, k)\n",
    "true_sentence = np.array(split_data.true_sentence).reshape(original_shape)\n",
    "candidate_sentence = np.array(split_data.candidate_sentence).reshape(original_shape)\n",
    "pair_result = np.array(split_data.pair_result).reshape(original_shape)"
   ]
  },
  {
   "cell_type": "code",
   "execution_count": null,
   "metadata": {},
   "outputs": [],
   "source": [
    "probability_file_path = \"../data/split_2019_09_04_16_11_47/split_result/positice_probability_all.csv\"\n",
    "\n",
    "probability_file = pd.read_csv(probability_file_path, sep='\\t',header=None).iloc[:,1]\n",
    "probability_mat = np.array(probability_file).reshape(original_shape)"
   ]
  },
  {
   "cell_type": "code",
   "execution_count": null,
   "metadata": {},
   "outputs": [],
   "source": [
    "%%time\n",
    "# Sort according to probability, descending\n",
    "sorted_pair_label, sorted_probability_mat = \\\n",
    "        getSortedByProbability(original_shape,\n",
    "                               pair_result,\n",
    "                               probability_mat)"
   ]
  },
  {
   "cell_type": "code",
   "execution_count": null,
   "metadata": {},
   "outputs": [],
   "source": [
    "%%time\n",
    "k_top = 20\n",
    "# Store the positive pair(Recall pair) which contains true label in \"top\" candidates\n",
    "output_positive_pair_file_path = \"../data/split_2019_09_04_16_11_47/split_result/second_positive_pair_result.csv\"\n",
    "positive_index = (np.max(sorted_pair_label[:,:k_top], axis=1) == 1)\n",
    "output_true_sentence = getOutput(true_sentence[:,:k_top], positive_index, k_top)\n",
    "output_candidate_sentence =  getOutput(candidate_sentence[:,:k_top], positive_index, k_top)\n",
    "output_pair_result = getOutput(pair_result[:,:k_top], positive_index, k_top)\n",
    "positive_pair_df = getSplitPairDataFrame(output_true_sentence,\n",
    "                                         output_candidate_sentence,\n",
    "                                         output_pair_result)                         \n",
    "positive_pair_df.to_csv(output_positive_pair_file_path, sep='\\t', index=False) "
   ]
  }
 ],
 "metadata": {
  "kernelspec": {
   "display_name": "Python 3",
   "language": "python",
   "name": "python3"
  },
  "language_info": {
   "codemirror_mode": {
    "name": "ipython",
    "version": 3
   },
   "file_extension": ".py",
   "mimetype": "text/x-python",
   "name": "python",
   "nbconvert_exporter": "python",
   "pygments_lexer": "ipython3",
   "version": "3.7.4"
  }
 },
 "nbformat": 4,
 "nbformat_minor": 2
}
