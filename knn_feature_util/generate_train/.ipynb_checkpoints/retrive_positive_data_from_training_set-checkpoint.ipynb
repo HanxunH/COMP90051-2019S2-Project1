{
 "cells": [
  {
   "cell_type": "code",
   "execution_count": 1,
   "metadata": {},
   "outputs": [],
   "source": [
    "import pandas as pd\n",
    "import numpy as np\n",
    "from sklearn.metrics import accuracy_score"
   ]
  },
  {
   "cell_type": "code",
   "execution_count": 8,
   "metadata": {},
   "outputs": [],
   "source": [
    "k = 100\n",
    "split_pair_path = \"../data/split_2019_09_04_16_11_47/split_result/split_pair_all.txt\"\n",
    "split_data = pd.read_csv(split_pair_path, sep='\\t', header=None)"
   ]
  },
  {
   "cell_type": "code",
   "execution_count": 9,
   "metadata": {},
   "outputs": [
    {
     "name": "stdout",
     "output_type": "stream",
     "text": [
      "CPU times: user 1.15 s, sys: 168 ms, total: 1.32 s\n",
      "Wall time: 1.21 s\n"
     ]
    }
   ],
   "source": [
    "%%time\n",
    "total_len = len(split_data)\n",
    "unique_len = int(total_len/k)\n",
    "original_shape = (unique_len, k)\n",
    "true_sentence = np.array(split_data.iloc[:,0]).reshape(original_shape)\n",
    "candidate_sentence = np.array(split_data.iloc[:,1]).reshape(original_shape)\n",
    "pair_result = np.array(split_data.iloc[:,2]).reshape(original_shape)"
   ]
  },
  {
   "cell_type": "code",
   "execution_count": 12,
   "metadata": {},
   "outputs": [],
   "source": [
    "def getOutput(mat, index, top):\n",
    "    return mat[index, :top].ravel()\n",
    "\n",
    "def getSplitPairDataFrame(true_sentence_list,\n",
    "                          candidate_sentence_list,\n",
    "                          candidate_label_true_false):\n",
    "    return pd.DataFrame({'true_sentence':true_sentence_list,\n",
    "                         'candidate_sentence':candidate_sentence_list,\n",
    "                         'pair_result':candidate_label_true_false})"
   ]
  },
  {
   "cell_type": "code",
   "execution_count": 19,
   "metadata": {},
   "outputs": [
    {
     "name": "stdout",
     "output_type": "stream",
     "text": [
      "CPU times: user 53.7 s, sys: 1.96 s, total: 55.6 s\n",
      "Wall time: 55 s\n"
     ]
    }
   ],
   "source": [
    "%%time\n",
    "k_top = k\n",
    "# Store the positive pair(Recall pair) which contains true label in \"top\" candidates\n",
    "output_positive_pair_file_path = \"../data/split_2019_09_04_16_11_47/split_result/positive_pair_all.txt\"\n",
    "positive_index = (np.max(pair_result[:,:k_top], axis=1) == 1)\n",
    "output_true_sentence = getOutput(true_sentence[:,:k_top], positive_index, k_top)\n",
    "output_candidate_sentence =  getOutput(candidate_sentence[:,:k_top], positive_index, k_top)\n",
    "output_pair_result = getOutput(pair_result[:,:k_top], positive_index, k_top)\n",
    "positive_pair_df = getSplitPairDataFrame(output_true_sentence,\n",
    "                                         output_candidate_sentence,\n",
    "                                         output_pair_result)                         \n",
    "positive_pair_df.to_csv(output_positive_pair_file_path, sep='\\t', index=False) "
   ]
  }
 ],
 "metadata": {
  "kernelspec": {
   "display_name": "Python 3",
   "language": "python",
   "name": "python3"
  },
  "language_info": {
   "codemirror_mode": {
    "name": "ipython",
    "version": 3
   },
   "file_extension": ".py",
   "mimetype": "text/x-python",
   "name": "python",
   "nbconvert_exporter": "python",
   "pygments_lexer": "ipython3",
   "version": "3.7.4"
  }
 },
 "nbformat": 4,
 "nbformat_minor": 2
}
