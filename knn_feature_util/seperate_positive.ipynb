{
 "cells": [
  {
   "cell_type": "code",
   "execution_count": 2,
   "metadata": {},
   "outputs": [],
   "source": [
    "import pandas as pd\n",
    "import numpy as np"
   ]
  },
  {
   "cell_type": "code",
   "execution_count": 3,
   "metadata": {},
   "outputs": [],
   "source": [
    "def getSplitPairDataFrame(true_sentence_list,\n",
    "                          candidate_sentence_list,\n",
    "                          candidate_label_true_false):\n",
    "#                           candidate_label_true_false,\n",
    "#                           true_label_list,\n",
    "#                           candidate_label_list):\n",
    "    return pd.DataFrame({'true_sentence':true_sentence_list,\n",
    "                         'candidate_sentence':candidate_sentence_list,\n",
    "                         'pair_result':candidate_label_true_false})\n",
    "\n",
    "#                          'pair_result':candidate_label_true_false,\n",
    "#                          'true_label':true_label_list,\n",
    "#                          'candidate_label':candidate_label_list})\n",
    "    \n",
    "def getOutput(mat, index, top):\n",
    "    return mat[index, :top].ravel()\n",
    "\n",
    "def getSortedByProbability(original_shape, candidate_mat, probability_mat):\n",
    "    sorted_candidate_mat = np.zeros((original_shape)).astype('int')\n",
    "    sorted_probability_mat = np.zeros((original_shape))\n",
    "    for i in range(original_shape[0]):\n",
    "        sorted_index = probability_mat[i].argsort()[::-1]\n",
    "        sorted_candidate_mat[i] = candidate_mat[i, sorted_index]\n",
    "        sorted_probability_mat[i] = probability_mat[i, sorted_index] \n",
    "    return (sorted_candidate_mat, sorted_probability_mat)"
   ]
  },
  {
   "cell_type": "code",
   "execution_count": 28,
   "metadata": {},
   "outputs": [
    {
     "name": "stdout",
     "output_type": "stream",
     "text": [
      "CPU times: user 4.36 s, sys: 218 ms, total: 4.57 s\n",
      "Wall time: 3.13 s\n"
     ]
    }
   ],
   "source": [
    "%%time\n",
    "k = 70\n",
    "split_num = 6\n",
    "split_pair_path = \"../data/split_2019_09_09_lemonbear_epoch2_k_70/split_result/split_pair_{0}.txt\".format(split_num)\n",
    "\n",
    "split_data = pd.read_csv(split_pair_path, sep='\\t')"
   ]
  },
  {
   "cell_type": "code",
   "execution_count": 29,
   "metadata": {},
   "outputs": [
    {
     "name": "stdout",
     "output_type": "stream",
     "text": [
      "CPU times: user 213 ms, sys: 4.58 ms, total: 218 ms\n",
      "Wall time: 157 ms\n"
     ]
    }
   ],
   "source": [
    "%%time\n",
    "total_len = len(split_data)\n",
    "unique_len = int(total_len/k)\n",
    "original_shape = (unique_len, k)\n",
    "true_sentence = np.array(split_data.true_sentence).reshape(original_shape)\n",
    "candidate_sentence = np.array(split_data.candidate_sentence).reshape(original_shape)\n",
    "pair_result = np.array(split_data.pair_result).reshape(original_shape)\n",
    "# true_label = np.array(split_data.true_label).reshape(original_shape)\n",
    "# candidate_label = np.array(split_data.candidate_label).reshape(original_shape)"
   ]
  },
  {
   "cell_type": "code",
   "execution_count": 30,
   "metadata": {},
   "outputs": [
    {
     "data": {
      "text/plain": [
       "0.5088228518774476"
      ]
     },
     "execution_count": 30,
     "metadata": {},
     "output_type": "execute_result"
    }
   ],
   "source": [
    "top = k\n",
    "np.mean(np.max(pair_result[:,:top], axis=1))"
   ]
  },
  {
   "cell_type": "code",
   "execution_count": 31,
   "metadata": {
    "scrolled": true
   },
   "outputs": [
    {
     "name": "stdout",
     "output_type": "stream",
     "text": [
      "CPU times: user 6.35 s, sys: 359 ms, total: 6.71 s\n",
      "Wall time: 4.98 s\n"
     ]
    }
   ],
   "source": [
    "%%time\n",
    "k_top = top\n",
    "# Store the positive pair(Recall pair) which contains true label in \"top\" candidates\n",
    "output_positive_pair_file_path = \"../data/split_2019_09_09_lemonbear_epoch2_k_70/split_result/split_pair_positive_{0}.txt\".format(split_num)\n",
    "\n",
    "positive_index = (np.max(pair_result[:,:k_top], axis=1) == 1)\n",
    "output_true_sentence = getOutput(true_sentence[:,:k_top], positive_index, k_top)\n",
    "output_candidate_sentence =  getOutput(candidate_sentence[:,:k_top], positive_index, k_top)\n",
    "output_pair_result = getOutput(pair_result[:,:k_top], positive_index, k_top)\n",
    "# output_true_label = getOutput(true_label[:,:k_top], positive_index, k_top)\n",
    "# output_candidate_label = getOutput(candidate_label[:,:k_top], positive_index, k_top)\n",
    "positive_pair_df = getSplitPairDataFrame(output_true_sentence,\n",
    "                                         output_candidate_sentence,\n",
    "                                         output_pair_result)\n",
    "#                                          output_pair_result,\n",
    "#                                          output_true_label,\n",
    "#                                          output_candidate_label)                         \n",
    "positive_pair_df.to_csv(output_positive_pair_file_path, sep='\\t', index=False) "
   ]
  },
  {
   "cell_type": "code",
   "execution_count": null,
   "metadata": {},
   "outputs": [],
   "source": []
  },
  {
   "cell_type": "code",
   "execution_count": 32,
   "metadata": {},
   "outputs": [],
   "source": [
    "def getSplitPairDataFrame(true_sentence_list,\n",
    "                          candidate_sentence_list,\n",
    "#                           candidate_label_true_false):\n",
    "                          candidate_label_true_false,\n",
    "                          true_label_list,\n",
    "                          candidate_label_list):\n",
    "    return pd.DataFrame({'true_sentence':true_sentence_list,\n",
    "                         'candidate_sentence':candidate_sentence_list,\n",
    "#                          'pair_result':candidate_label_true_false})\n",
    "                         'pair_result':candidate_label_true_false,\n",
    "                         'true_label':true_label_list,\n",
    "                         'candidate_label':candidate_label_list})\n",
    "    \n",
    "def getOutput(mat, index, top):\n",
    "    return mat[index, :top].ravel()\n",
    "\n",
    "def getSortedByProbability(original_shape, candidate_mat, probability_mat):\n",
    "    sorted_candidate_mat = np.zeros((original_shape)).astype('int')\n",
    "    sorted_probability_mat = np.zeros((original_shape))\n",
    "    for i in range(original_shape[0]):\n",
    "        sorted_index = probability_mat[i].argsort()[::-1]\n",
    "        sorted_candidate_mat[i] = candidate_mat[i, sorted_index]\n",
    "        sorted_probability_mat[i] = probability_mat[i, sorted_index] \n",
    "    return (sorted_candidate_mat, sorted_probability_mat)"
   ]
  },
  {
   "cell_type": "code",
   "execution_count": 33,
   "metadata": {},
   "outputs": [
    {
     "name": "stdout",
     "output_type": "stream",
     "text": [
      "CPU times: user 1.03 s, sys: 43.5 ms, total: 1.07 s\n",
      "Wall time: 787 ms\n"
     ]
    }
   ],
   "source": [
    "%%time\n",
    "k = 20\n",
    "split_pair_path = \"../data/sep_9_lemonbear_triplet_1epoch/pair_siamese_bert_base_cased_v7.0_triplet_epoch1_k_20.txt\"\n",
    "\n",
    "split_data = pd.read_csv(split_pair_path, sep='\\t')"
   ]
  },
  {
   "cell_type": "code",
   "execution_count": 34,
   "metadata": {},
   "outputs": [
    {
     "name": "stdout",
     "output_type": "stream",
     "text": [
      "CPU times: user 95.1 ms, sys: 0 ns, total: 95.1 ms\n",
      "Wall time: 87.5 ms\n"
     ]
    }
   ],
   "source": [
    "%%time\n",
    "total_len = len(split_data)\n",
    "unique_len = int(total_len/k)\n",
    "original_shape = (unique_len, k)\n",
    "true_sentence = np.array(split_data.true_sentence).reshape(original_shape)\n",
    "candidate_sentence = np.array(split_data.candidate_sentence).reshape(original_shape)\n",
    "pair_result = np.array(split_data.pair_result).reshape(original_shape)\n",
    "true_label = np.array(split_data.true_label).reshape(original_shape)\n",
    "candidate_label = np.array(split_data.candidate_label).reshape(original_shape)"
   ]
  },
  {
   "cell_type": "code",
   "execution_count": 36,
   "metadata": {},
   "outputs": [
    {
     "data": {
      "text/plain": [
       "0.22863696661507849"
      ]
     },
     "execution_count": 36,
     "metadata": {},
     "output_type": "execute_result"
    }
   ],
   "source": [
    "top = 1\n",
    "np.mean(np.max(pair_result[:,:top], axis=1))"
   ]
  },
  {
   "cell_type": "code",
   "execution_count": 37,
   "metadata": {},
   "outputs": [
    {
     "name": "stdout",
     "output_type": "stream",
     "text": [
      "CPU times: user 2.29 s, sys: 68 ms, total: 2.36 s\n",
      "Wall time: 1.44 s\n"
     ]
    }
   ],
   "source": [
    "%%time\n",
    "k_top = k\n",
    "# Store the positive pair(Recall pair) which contains true label in \"top\" candidates\n",
    "output_positive_pair_file_path = \"../data/sep_9_lemonbear_triplet_1epoch/pair_siamese_bert_base_cased_v7.0_triplet_epoch1_k_20_positive.txt\"\n",
    "\n",
    "positive_index = (np.max(pair_result[:,:k_top], axis=1) == 1)\n",
    "output_true_sentence = getOutput(true_sentence[:,:k_top], positive_index, k_top)\n",
    "output_candidate_sentence =  getOutput(candidate_sentence[:,:k_top], positive_index, k_top)\n",
    "output_pair_result = getOutput(pair_result[:,:k_top], positive_index, k_top)\n",
    "output_true_label = getOutput(true_label[:,:k_top], positive_index, k_top)\n",
    "output_candidate_label = getOutput(candidate_label[:,:k_top], positive_index, k_top)\n",
    "positive_pair_df = getSplitPairDataFrame(output_true_sentence,\n",
    "                                         output_candidate_sentence,\n",
    "#                                          output_pair_result)\n",
    "                                         output_pair_result,\n",
    "                                         output_true_label,\n",
    "                                         output_candidate_label)                         \n",
    "positive_pair_df.to_csv(output_positive_pair_file_path, sep='\\t', index=False) "
   ]
  },
  {
   "cell_type": "code",
   "execution_count": null,
   "metadata": {},
   "outputs": [],
   "source": []
  }
 ],
 "metadata": {
  "kernelspec": {
   "display_name": "Python 3",
   "language": "python",
   "name": "python3"
  },
  "language_info": {
   "codemirror_mode": {
    "name": "ipython",
    "version": 3
   },
   "file_extension": ".py",
   "mimetype": "text/x-python",
   "name": "python",
   "nbconvert_exporter": "python",
   "pygments_lexer": "ipython3",
   "version": "3.7.4"
  }
 },
 "nbformat": 4,
 "nbformat_minor": 2
}
