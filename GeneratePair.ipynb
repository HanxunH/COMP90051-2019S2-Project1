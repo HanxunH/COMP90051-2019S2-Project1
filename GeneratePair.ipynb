{
 "cells": [
  {
   "cell_type": "code",
   "execution_count": 1,
   "metadata": {
    "ExecuteTime": {
     "end_time": "2019-08-25T02:37:27.783533Z",
     "start_time": "2019-08-25T02:37:26.945309Z"
    }
   },
   "outputs": [],
   "source": [
    "import pandas as pd \n",
    "import numpy as np \n",
    "\n",
    "SAMPLE_SIZE = 1200000   # 100w positive, 100w negative\n",
    "\n",
<<<<<<< HEAD
    "train = pd.read_csv(\"./data/train_set_v1_4.txt\", sep='\\t', header=None)\n"
=======
    "train = pd.read_csv(\"/home/weizhuozhang/workspace/COMP90051-Project1/data/v1_7/train_set_v1_7_long_sentence.txt\", sep='\\t', header=None)\n"
>>>>>>> cwbBranch
   ]
  },
  {
   "cell_type": "code",
   "execution_count": 2,
   "metadata": {},
   "outputs": [
    {
     "data": {
      "text/plain": [
<<<<<<< HEAD
       "257226"
=======
       "260450"
>>>>>>> cwbBranch
      ]
     },
     "execution_count": 2,
     "metadata": {},
     "output_type": "execute_result"
    }
   ],
   "source": [
    "len(train)"
   ]
  },
  {
   "cell_type": "code",
   "execution_count": 3,
   "metadata": {
    "ExecuteTime": {
     "end_time": "2019-08-25T02:37:28.648971Z",
     "start_time": "2019-08-25T02:37:28.642381Z"
    }
   },
   "outputs": [],
   "source": [
    "def generateSentencePair(sentence_list):\n",
    "    sentence_pair_list = []\n",
    "    if len(sentence_list) <= 1:\n",
    "        return sentence_pair_list\n",
    "    for i in range(len(sentence_list)):\n",
    "        for j in range(i+1, len(sentence_list)):\n",
    "            sentence_pair_list.append([sentence_list[i], sentence_list[j], 1])\n",
    "    return sentence_pair_list"
   ]
  },
  {
   "cell_type": "code",
   "execution_count": 4,
   "metadata": {
    "ExecuteTime": {
     "end_time": "2019-08-25T02:37:41.986944Z",
     "start_time": "2019-08-25T02:37:29.466505Z"
    }
   },
   "outputs": [
    {
     "data": {
      "text/plain": [
<<<<<<< HEAD
       "6002036"
=======
       "6024547"
>>>>>>> cwbBranch
      ]
     },
     "execution_count": 4,
     "metadata": {},
     "output_type": "execute_result"
    }
   ],
   "source": [
    "id_list = np.array(list(train[0]))\n",
    "sentence_list = np.array(list(train[1]))\n",
    "id_unique_list = np.unique(id_list)\n",
    "\n",
    "positive_pairs = []\n",
    "\n",
    "for i in id_unique_list:\n",
    "    index_list = (id_list == i)\n",
    "    id_list[index_list]\n",
    "    sentence_pairs = generateSentencePair(sentence_list[index_list])\n",
    "    positive_pairs.extend(sentence_pairs)\n",
    "len(positive_pairs)"
   ]
  },
  {
   "cell_type": "code",
   "execution_count": 5,
   "metadata": {},
   "outputs": [
    {
     "data": {
      "text/html": [
       "<div>\n",
       "<style scoped>\n",
       "    .dataframe tbody tr th:only-of-type {\n",
       "        vertical-align: middle;\n",
       "    }\n",
       "\n",
       "    .dataframe tbody tr th {\n",
       "        vertical-align: top;\n",
       "    }\n",
       "\n",
       "    .dataframe thead th {\n",
       "        text-align: right;\n",
       "    }\n",
       "</style>\n",
       "<table border=\"1\" class=\"dataframe\">\n",
       "  <thead>\n",
       "    <tr style=\"text-align: right;\">\n",
       "      <th></th>\n",
       "      <th>0</th>\n",
       "      <th>1</th>\n",
       "      <th>2</th>\n",
       "    </tr>\n",
       "  </thead>\n",
       "  <tbody>\n",
       "    <tr>\n",
       "      <th>0</th>\n",
<<<<<<< HEAD
       "      <td>Looking for a Mexico GETAWAY, GREAT</td>\n",
       "      <td>HIVE &amp; STD testing, 24/7 at location you choos...</td>\n",
=======
       "      <td>Jets is where it's at Chris! I promise! :-)</td>\n",
       "      <td>I'm craving a cookie, but not just any cookie....</td>\n",
>>>>>>> cwbBranch
       "      <td>1</td>\n",
       "    </tr>\n",
       "    <tr>\n",
       "      <th>1</th>\n",
<<<<<<< HEAD
       "      <td>great ideas! Thanks Chickie! 5 Keys to Pairing...</td>\n",
       "      <td>Chef Celebration of San Diego Beers is the clo...</td>\n",
=======
       "      <td>Wearing Sanita Marcelle's today &amp; luv them! Th...</td>\n",
       "      <td>I LOVE avocados so much I think I'm gonna marr...</td>\n",
>>>>>>> cwbBranch
       "      <td>1</td>\n",
       "    </tr>\n",
       "    <tr>\n",
       "      <th>2</th>\n",
<<<<<<< HEAD
       "      <td>Finally got all our stuff out of the moving tr...</td>\n",
       "      <td>New Blog Post: Heineken #beer</td>\n",
=======
       "      <td>Think Like a Smart Investor: (#video)</td>\n",
       "      <td>U.S. Small Business optimism edges higher in O...</td>\n",
>>>>>>> cwbBranch
       "      <td>1</td>\n",
       "    </tr>\n",
       "    <tr>\n",
       "      <th>3</th>\n",
<<<<<<< HEAD
       "      <td>Everybody sees the world through the idea they...</td>\n",
       "      <td>Joseph has interviewed Ingrid Michaelson #Leeds</td>\n",
=======
       "      <td>Dooney and Bourke Handbag or Purse \"Tassel Tot...</td>\n",
       "      <td>Dooney &amp; Bourke Handbag -Leather Dillen Tear D...</td>\n",
>>>>>>> cwbBranch
       "      <td>1</td>\n",
       "    </tr>\n",
       "    <tr>\n",
       "      <th>4</th>\n",
<<<<<<< HEAD
       "      <td>I'm thinking this mighty be floyds nite..altho...</td>\n",
       "      <td>yes you are absolutely right - no one can top ...</td>\n",
=======
       "      <td>Gandhi’s Top 10 Fundamentals for Changing the ...</td>\n",
       "      <td>8 #Twitter Apps That Make It Easy To Share Files</td>\n",
>>>>>>> cwbBranch
       "      <td>1</td>\n",
       "    </tr>\n",
       "    <tr>\n",
       "      <th>5</th>\n",
<<<<<<< HEAD
       "      <td>Spending way too much time looking at sexy exe...</td>\n",
       "      <td>Carlon sounding the best they ever have, on bo...</td>\n",
=======
       "      <td>twitpic - Darwish just made a waffle &amp; is watc...</td>\n",
       "      <td>Video: Artifacts - Wrong Side of Da Tracks Loo...</td>\n",
>>>>>>> cwbBranch
       "      <td>1</td>\n",
       "    </tr>\n",
       "    <tr>\n",
       "      <th>6</th>\n",
<<<<<<< HEAD
       "      <td>Sounds like there is a rodent with a hand saw ...</td>\n",
       "      <td>Watching Intervention. This girl's story is hi...</td>\n",
=======
       "      <td>FF# ill on the 1s and 2s! Awwww! Thank you, Av...</td>\n",
       "      <td>Serato cats get ya weight up cause when hooks ...</td>\n",
>>>>>>> cwbBranch
       "      <td>1</td>\n",
       "    </tr>\n",
       "    <tr>\n",
       "      <th>7</th>\n",
<<<<<<< HEAD
       "      <td>Is tired, I had a great thanksgiving but I'm r...</td>\n",
       "      <td>Is a little unsettled and have been all week, ...</td>\n",
=======
       "      <td>This week: Its Buy one jacket get the second f...</td>\n",
       "      <td>Happy Thanksgiving from everyone at Next!! if ...</td>\n",
>>>>>>> cwbBranch
       "      <td>1</td>\n",
       "    </tr>\n",
       "    <tr>\n",
       "      <th>8</th>\n",
<<<<<<< HEAD
       "      <td>Updated: The Wonder Pets: ...we&amp;#39;re Wonder ...</td>\n",
       "      <td>EX-BOXER JOE KNOCKED OUT OF I’M A CELEBRITY KN...</td>\n",
=======
       "      <td>For Low-income Families with Special Needs Kid...</td>\n",
       "      <td>Stopping MRSA Before It Becomes Dangerous Is P...</td>\n",
>>>>>>> cwbBranch
       "      <td>1</td>\n",
       "    </tr>\n",
       "    <tr>\n",
       "      <th>9</th>\n",
<<<<<<< HEAD
       "      <td>ooh aww. That's cool. Pf changs is really good...</td>\n",
       "      <td>I don't wanna sleep until this song is done bu...</td>\n",
=======
       "      <td>#whatwouldyoudo if I said I was gonna become a...</td>\n",
       "      <td>lmao I'm so serious. I was 16.</td>\n",
>>>>>>> cwbBranch
       "      <td>1</td>\n",
       "    </tr>\n",
       "    <tr>\n",
       "      <th>10</th>\n",
<<<<<<< HEAD
       "      <td>Another trip to NoPo vet. We didn't get needed...</td>\n",
       "      <td>Seems like the housing market is perking up. W...</td>\n",
=======
       "      <td>i just gotta say i wanna be on you...</td>\n",
       "      <td>my face was like 6 inches away from their ears...</td>\n",
>>>>>>> cwbBranch
       "      <td>1</td>\n",
       "    </tr>\n",
       "    <tr>\n",
       "      <th>11</th>\n",
<<<<<<< HEAD
       "      <td>I have a new featured site, \"Priscilla Loves P...</td>\n",
       "      <td>Just added 'Managing Tags | WordPress Training...</td>\n",
=======
       "      <td>Wrinkles A Problem? Frownies The Answer More i...</td>\n",
       "      <td>Our total skin care system supports skin healt...</td>\n",
>>>>>>> cwbBranch
       "      <td>1</td>\n",
       "    </tr>\n",
       "    <tr>\n",
       "      <th>12</th>\n",
<<<<<<< HEAD
       "      <td>just do something for your visual maybe mental...</td>\n",
       "      <td>well...we all get foolish at our work, it won'...</td>\n",
=======
       "      <td>Liam Neeson &amp; Tara Reid in Alone in the Darkma...</td>\n",
       "      <td>The Hurt Locker: 8/10. I wanted to love it, bu...</td>\n",
>>>>>>> cwbBranch
       "      <td>1</td>\n",
       "    </tr>\n",
       "    <tr>\n",
       "      <th>13</th>\n",
<<<<<<< HEAD
       "      <td>Bein at Power 99 in Philly reminds me of last ...</td>\n",
       "      <td>Just bought me some NeatReceipts!! Oh yeah bab...</td>\n",
=======
       "      <td>hey queen!!!! I hope things on your end are ma...</td>\n",
       "      <td>lol you get leezy to lay off me and i will kee...</td>\n",
>>>>>>> cwbBranch
       "      <td>1</td>\n",
       "    </tr>\n",
       "    <tr>\n",
       "      <th>14</th>\n",
<<<<<<< HEAD
       "      <td>Natural Balance Limited Ingredient Diets Chick...</td>\n",
       "      <td>48\"\" Fluorescent Strip Light in Black (Two Fra...</td>\n",
=======
       "      <td>oh yeah I saw that tweet earlier.</td>\n",
       "      <td>Just uploaded Hodgkins 'Survivor' Stan's 'voic...</td>\n",
>>>>>>> cwbBranch
       "      <td>1</td>\n",
       "    </tr>\n",
       "    <tr>\n",
       "      <th>15</th>\n",
<<<<<<< HEAD
       "      <td>I'll have to say today was the longest shift I...</td>\n",
       "      <td>I love you mcnabb!! Cuz of you I might get a w...</td>\n",
=======
       "      <td>Some great #Bruins/#Rangers fans to follow!</td>\n",
       "      <td>Real or Not: 15 Movie Restaurants We’d Love to...</td>\n",
>>>>>>> cwbBranch
       "      <td>1</td>\n",
       "    </tr>\n",
       "    <tr>\n",
       "      <th>16</th>\n",
<<<<<<< HEAD
       "      <td>See! Big yummy burrito twitpic</td>\n",
       "      <td>my my my you have it set! You should join me a...</td>\n",
=======
       "      <td>Mac Insider Info: MacMall's Manufacturer Refur...</td>\n",
       "      <td>Get a FREE bottle of Acai Berry Supplements to...</td>\n",
>>>>>>> cwbBranch
       "      <td>1</td>\n",
       "    </tr>\n",
       "    <tr>\n",
       "      <th>17</th>\n",
<<<<<<< HEAD
       "      <td>Eprocurement and eInvoice management tools pub...</td>\n",
       "      <td>Oh: #opensource If You're Looking For The Open...</td>\n",
=======
       "      <td>With Playboy sale, an icon bows to changing times</td>\n",
       "      <td>Pop 20: What&amp;#39;s next for paranormal pop cul...</td>\n",
>>>>>>> cwbBranch
       "      <td>1</td>\n",
       "    </tr>\n",
       "    <tr>\n",
       "      <th>18</th>\n",
<<<<<<< HEAD
       "      <td>HD: Mostly Cloudy and 43 F at New York/John F....</td>\n",
       "      <td>HD: ...COASTAL FLOODING DURING HIGH TIDE THIS ...</td>\n",
=======
       "      <td>The power of the story. A must see for screenw...</td>\n",
       "      <td>Went to the Universal Studio haunted house eve...</td>\n",
>>>>>>> cwbBranch
       "      <td>1</td>\n",
       "    </tr>\n",
       "    <tr>\n",
       "      <th>19</th>\n",
<<<<<<< HEAD
       "      <td>Truckinfo.net - Fuel prices and best places to...</td>\n",
       "      <td>Truckinfo.net - Fuel prices and best places to...</td>\n",
=======
       "      <td>Thank you for the #FOLLOWFRIDAY</td>\n",
       "      <td>Amazon says no plans to open rumored stores in UK</td>\n",
>>>>>>> cwbBranch
       "      <td>1</td>\n",
       "    </tr>\n",
       "    <tr>\n",
       "      <th>20</th>\n",
<<<<<<< HEAD
       "      <td>Physician - Er coverage-AZ - Our client is cur...</td>\n",
       "      <td>Physician - Easiest Locum Opportunity ever - T...</td>\n",
=======
       "      <td>NWT fugitive on social networking website</td>\n",
       "      <td>Industry bends FDA&amp;#39;s ear on social media</td>\n",
>>>>>>> cwbBranch
       "      <td>1</td>\n",
       "    </tr>\n",
       "    <tr>\n",
       "      <th>21</th>\n",
<<<<<<< HEAD
       "      <td>Armored releases nationwide tonight. Do you ha...</td>\n",
       "      <td>Win a free poster – 1st 10 people to See 50 Ce...</td>\n",
=======
       "      <td>Follow &amp; my favorite part of the Thanksgiving ...</td>\n",
       "      <td>TEN minutes left until I announce the Xbox 360...</td>\n",
>>>>>>> cwbBranch
       "      <td>1</td>\n",
       "    </tr>\n",
       "    <tr>\n",
       "      <th>22</th>\n",
<<<<<<< HEAD
       "      <td>IBM Study: The end of advertising as we know it</td>\n",
       "      <td>Promote Your Ad Agency Through the Recession</td>\n",
=======
       "      <td>If I told you that success was right around th...</td>\n",
       "      <td>Wanna learn and understand what the formula fo...</td>\n",
>>>>>>> cwbBranch
       "      <td>1</td>\n",
       "    </tr>\n",
       "    <tr>\n",
       "      <th>23</th>\n",
<<<<<<< HEAD
       "      <td>Economy, policies energizing Canada&amp;#39;s wind...</td>\n",
       "      <td>BC Hydro winnows list of renewable energy prop...</td>\n",
=======
       "      <td>New video tutorial: Importing video from a med...</td>\n",
       "      <td>New blog post: Why Color Correct Your Film?</td>\n",
>>>>>>> cwbBranch
       "      <td>1</td>\n",
       "    </tr>\n",
       "    <tr>\n",
       "      <th>24</th>\n",
<<<<<<< HEAD
       "      <td>twurl adtrend: MOBIZ: AdMob kickstarts interac...</td>\n",
       "      <td>twurl Vivendi Said to Prepare Sale of Stake in...</td>\n",
=======
       "      <td>Thank you for watching the show! Thrilled you ...</td>\n",
       "      <td>PeeWee to be a Presenter at Los Premios MTV an...</td>\n",
>>>>>>> cwbBranch
       "      <td>1</td>\n",
       "    </tr>\n",
       "    <tr>\n",
       "      <th>25</th>\n",
<<<<<<< HEAD
       "      <td>It does! LOL I just realized the iPhone Calend...</td>\n",
       "      <td>Seesmic Launches Native Twitter Client For Win...</td>\n",
=======
       "      <td>Oh how I hate biology</td>\n",
       "      <td>please tell them again ash!!! Cause winning in...</td>\n",
>>>>>>> cwbBranch
       "      <td>1</td>\n",
       "    </tr>\n",
       "    <tr>\n",
       "      <th>26</th>\n",
<<<<<<< HEAD
       "      <td>Everyone should follow She is very wise!</td>\n",
       "      <td>It happened about a year or so ago, they \"repa...</td>\n",
=======
       "      <td>Now that is just insanely great. I didn't know...</td>\n",
       "      <td>What a crazy/exciting/frazzling/awesome 24 hours.</td>\n",
>>>>>>> cwbBranch
       "      <td>1</td>\n",
       "    </tr>\n",
       "    <tr>\n",
       "      <th>27</th>\n",
<<<<<<< HEAD
       "      <td>Must-See Debuts at the 2009 SEMA Show</td>\n",
       "      <td>Five Key Elements of a Profitable Website /</td>\n",
=======
       "      <td>Gull with bagel: 1, large hadron collider: 0</td>\n",
       "      <td>referred to you by .... do you FB dev work?</td>\n",
>>>>>>> cwbBranch
       "      <td>1</td>\n",
       "    </tr>\n",
       "    <tr>\n",
       "      <th>28</th>\n",
<<<<<<< HEAD
       "      <td>nothing yet, what you doin 2day</td>\n",
       "      <td>oh wow, Idk, nothing really gets me n the mood.</td>\n",
=======
       "      <td>Lunch with — at Roti Grill gowal</td>\n",
       "      <td>Just nominated for Best Location Based Mobile ...</td>\n",
>>>>>>> cwbBranch
       "      <td>1</td>\n",
       "    </tr>\n",
       "    <tr>\n",
       "      <th>29</th>\n",
<<<<<<< HEAD
       "      <td>If you got $3 Billion lying around - MGM is fo...</td>\n",
       "      <td>Hungry for kicks - check it: twitpic</td>\n",
=======
       "      <td>Do muslims have piggy banks?</td>\n",
       "      <td>There is 293 different ways to make change for...</td>\n",
>>>>>>> cwbBranch
       "      <td>1</td>\n",
       "    </tr>\n",
       "    <tr>\n",
       "      <th>...</th>\n",
       "      <td>...</td>\n",
       "      <td>...</td>\n",
       "      <td>...</td>\n",
       "    </tr>\n",
       "    <tr>\n",
       "      <th>1199970</th>\n",
<<<<<<< HEAD
       "      <td>I am wanting to Broadcast something on Ustream...</td>\n",
       "      <td>New article (Just in): Ares I-X undergoing ord...</td>\n",
=======
       "      <td>Exclusive Premiere: \"Fantastic Mr. Fox\" Album ...</td>\n",
       "      <td>“I’m such a ____ lady.” rihannanow</td>\n",
>>>>>>> cwbBranch
       "      <td>1</td>\n",
       "    </tr>\n",
       "    <tr>\n",
       "      <th>1199971</th>\n",
<<<<<<< HEAD
       "      <td>Why Tipping Is The Best Investment Ever bte #RTW</td>\n",
       "      <td>Pick a Name and Get On With It! bte #RTW</td>\n",
=======
       "      <td>Health Care Outlook Not Improving: By ROBERT L...</td>\n",
       "      <td>F Your Clone: FMyLife Takes On FMySexLife: FMy...</td>\n",
>>>>>>> cwbBranch
       "      <td>1</td>\n",
       "    </tr>\n",
       "    <tr>\n",
       "      <th>1199972</th>\n",
<<<<<<< HEAD
       "      <td>Wolkenlos. 9°C. Luftfeuchtigkeit: 87% Windstae...</td>\n",
       "      <td>Wolkenlos. 10°C. Luftfeuchtigkeit: 82% Windsta...</td>\n",
=======
       "      <td>World Wide Day of Play is eight days away. Com...</td>\n",
       "      <td>Consider us a family friendly pitstop as you t...</td>\n",
>>>>>>> cwbBranch
       "      <td>1</td>\n",
       "    </tr>\n",
       "    <tr>\n",
       "      <th>1199973</th>\n",
<<<<<<< HEAD
       "      <td>Good luck Jim Thome edition of #FF</td>\n",
       "      <td>HAHAHAHAHAHAHAHA Nice catch Sorryano!!! #cubssuck</td>\n",
=======
       "      <td>\"Fall's Best Coats\" in Bazaar this month are\"e...</td>\n",
       "      <td>Bread Cheese Soup - Debrett's Table Manners an...</td>\n",
>>>>>>> cwbBranch
       "      <td>1</td>\n",
       "    </tr>\n",
       "    <tr>\n",
       "      <th>1199974</th>\n",
<<<<<<< HEAD
       "      <td>Mark Martin says he used to think Jimmie was \"...</td>\n",
       "      <td>Sauter struggles putting on ROY jacket. Says \"...</td>\n",
=======
       "      <td>RS confirms: The Who will play during halftime...</td>\n",
       "      <td>Aerosmith’s Kramer Speaks Out About Aerosmith ...</td>\n",
>>>>>>> cwbBranch
       "      <td>1</td>\n",
       "    </tr>\n",
       "    <tr>\n",
       "      <th>1199975</th>\n",
<<<<<<< HEAD
       "      <td>Lemme get this straight: UMG will send a clean...</td>\n",
       "      <td>yep, most of my 7th grade bball kids play foot...</td>\n",
=======
       "      <td>Finally up &amp; about since is all about the nigh...</td>\n",
       "      <td>Made the spread &amp; over! Thanks to the awesome ...</td>\n",
>>>>>>> cwbBranch
       "      <td>1</td>\n",
       "    </tr>\n",
       "    <tr>\n",
       "      <th>1199976</th>\n",
<<<<<<< HEAD
       "      <td>Tell me about it...my nose feels like someone ...</td>\n",
       "      <td>I might try that one tomorrow. That's if i eve...</td>\n",
=======
       "      <td>PI Newsletter: Health Information May Be Hazar...</td>\n",
       "      <td>PI Newsletter: Your Neighbor Next Door Is Writ...</td>\n",
>>>>>>> cwbBranch
       "      <td>1</td>\n",
       "    </tr>\n",
       "    <tr>\n",
       "      <th>1199977</th>\n",
<<<<<<< HEAD
       "      <td>BLOG: Deep threat is no sweat for Vikings</td>\n",
       "      <td>BLOG: Allen, Harvin honored at mid-year</td>\n",
=======
       "      <td>SAVE BIG at craniumfitteds Get 20% OFF right n...</td>\n",
       "      <td>Make real money with CraniumFitteds.com by fol...</td>\n",
>>>>>>> cwbBranch
       "      <td>1</td>\n",
       "    </tr>\n",
       "    <tr>\n",
       "      <th>1199978</th>\n",
<<<<<<< HEAD
       "      <td>Carestream unveils bone density software appli...</td>\n",
       "      <td>[A case of pulmonary hyalinizing granuloma wit...</td>\n",
=======
       "      <td>757 Makes crash landing in Italy? Anyone see t...</td>\n",
       "      <td>Vim Avia airlines confirms their 757 en route ...</td>\n",
>>>>>>> cwbBranch
       "      <td>1</td>\n",
       "    </tr>\n",
       "    <tr>\n",
       "      <th>1199979</th>\n",
<<<<<<< HEAD
       "      <td>tr Commercial Fitness Updates: Fit Baby Boomer...</td>\n",
       "      <td>tr Long Term Care Insurance (LTCI) – A Primer</td>\n",
=======
       "      <td>\"Tsunami Warning: Google Wave, will it replace...</td>\n",
       "      <td>How to Get Started Using Social Media for Ad A...</td>\n",
>>>>>>> cwbBranch
       "      <td>1</td>\n",
       "    </tr>\n",
       "    <tr>\n",
       "      <th>1199980</th>\n",
<<<<<<< HEAD
       "      <td>FREE Report! How Will Text Message Marketing I...</td>\n",
       "      <td>The Latest News About Mobile Advertising From ...</td>\n",
=======
       "      <td>Labor leaders implore G-20 attendees to create...</td>\n",
       "      <td>Historic church on Route 28 could become immig...</td>\n",
>>>>>>> cwbBranch
       "      <td>1</td>\n",
       "    </tr>\n",
       "    <tr>\n",
       "      <th>1199981</th>\n",
<<<<<<< HEAD
       "      <td>Illinois in the red: The news on Illinois is o...</td>\n",
       "      <td>Madame Oprah: Thousands of working people who ...</td>\n",
=======
       "      <td>While xbox Bans Modders, It's Ready to Embrace...</td>\n",
       "      <td>Facebook's value rises to $9.5bn - Telegraph.c...</td>\n",
>>>>>>> cwbBranch
       "      <td>1</td>\n",
       "    </tr>\n",
       "    <tr>\n",
       "      <th>1199982</th>\n",
<<<<<<< HEAD
       "      <td>New York i love this city!: New York i love th...</td>\n",
       "      <td>Doing trailer checks for New York I Love You! ...</td>\n",
=======
       "      <td>Very random but The Mancow show</td>\n",
       "      <td>Man there's something in the air tonight coz i...</td>\n",
>>>>>>> cwbBranch
       "      <td>1</td>\n",
       "    </tr>\n",
       "    <tr>\n",
       "      <th>1199983</th>\n",
<<<<<<< HEAD
       "      <td>. great youth service tonite. i'm so proud!</td>\n",
       "      <td>having a lazy saturday. going to the track if ...</td>\n",
=======
       "      <td>When you Buy Forex Trading Software, are They ...</td>\n",
       "      <td>forex support system Rapidshare Search1 files:...</td>\n",
>>>>>>> cwbBranch
       "      <td>1</td>\n",
       "    </tr>\n",
       "    <tr>\n",
       "      <th>1199984</th>\n",
<<<<<<< HEAD
       "      <td>And if the fake me is reading this, thanks for...</td>\n",
       "      <td>Tonight is our first live audience taping for ...</td>\n",
=======
       "      <td>Hmmm...have to talk to lil Fish first.... / wo...</td>\n",
       "      <td>I'm sure if the authors of the anti-federalist...</td>\n",
>>>>>>> cwbBranch
       "      <td>1</td>\n",
       "    </tr>\n",
       "    <tr>\n",
       "      <th>1199985</th>\n",
<<<<<<< HEAD
       "      <td>I used to see \"package store\" signs in NJ &amp; PA...</td>\n",
       "      <td>Last truck on #tacotrucktour: Atole, 41st &amp; fo...</td>\n",
=======
       "      <td>20 Scary Halloween Based Artwork | Web Design ...</td>\n",
       "      <td>Labels may be losing money, but artists are ma...</td>\n",
>>>>>>> cwbBranch
       "      <td>1</td>\n",
       "    </tr>\n",
       "    <tr>\n",
       "      <th>1199986</th>\n",
<<<<<<< HEAD
       "      <td>\"Stay Another Season\" by The Avalanches from \"...</td>\n",
       "      <td>\"(You'll Have To Swing It) Mr. Paganini\" by El...</td>\n",
=======
       "      <td>Imagining myself sipping a mai tai in Hawaii! ...</td>\n",
       "      <td>Watching UFC, but I want to watch the Mayweath...</td>\n",
>>>>>>> cwbBranch
       "      <td>1</td>\n",
       "    </tr>\n",
       "    <tr>\n",
       "      <th>1199987</th>\n",
<<<<<<< HEAD
       "      <td>First tweet in months. This onslaught of thoug...</td>\n",
       "      <td>Forging neo-human traits is a challenge posed ...</td>\n",
=======
       "      <td>Georgia Power, Centers for Disease Control and...</td>\n",
       "      <td>Two More Prominent Fashion Firms, Williamson D...</td>\n",
>>>>>>> cwbBranch
       "      <td>1</td>\n",
       "    </tr>\n",
       "    <tr>\n",
       "      <th>1199988</th>\n",
<<<<<<< HEAD
       "      <td>Add more followers on twitter, do it automatic...</td>\n",
       "      <td>Don't just get more followers, get the right f...</td>\n",
=======
       "      <td>yfrog - nice 2010 Proline Synergy handle</td>\n",
       "      <td>Read Trevor Hansen's new blog entry about his ...</td>\n",
>>>>>>> cwbBranch
       "      <td>1</td>\n",
       "    </tr>\n",
       "    <tr>\n",
       "      <th>1199989</th>\n",
<<<<<<< HEAD
       "      <td>I don't know, I drink them as soon as I make t...</td>\n",
       "      <td>Juice It Up offers unique yogurt, snacks - The...</td>\n",
=======
       "      <td>I have a show tonight in Claremont ca.......W/...</td>\n",
       "      <td>BRANDY FLOWER IS BOSS!!! Super Deluxe Set! Sec...</td>\n",
>>>>>>> cwbBranch
       "      <td>1</td>\n",
       "    </tr>\n",
       "    <tr>\n",
       "      <th>1199990</th>\n",
<<<<<<< HEAD
       "      <td>Extra points: Could the Patriots beat the Colt...</td>\n",
       "      <td>Extra points: The fourth-down call: What do yo...</td>\n",
=======
       "      <td>Hi, that is for general admission. Members wil...</td>\n",
       "      <td>let me find out for you!</td>\n",
>>>>>>> cwbBranch
       "      <td>1</td>\n",
       "    </tr>\n",
       "    <tr>\n",
       "      <th>1199991</th>\n",
<<<<<<< HEAD
       "      <td>Irish Supreme Court upholds legal rights of me...</td>\n",
       "      <td>: Lanny Wadkins, Jose Maria Olazabal, Christy ...</td>\n",
=======
       "      <td>Guess how many pregnant lbs. has gained! su Sh...</td>\n",
       "      <td>Pamper your pooch -- and yourself! WIN chew to...</td>\n",
>>>>>>> cwbBranch
       "      <td>1</td>\n",
       "    </tr>\n",
       "    <tr>\n",
       "      <th>1199992</th>\n",
<<<<<<< HEAD
       "      <td>Toyetic: The potential of a movie or TV show t...</td>\n",
       "      <td>A Jobless Recovery: An economist explains why ...</td>\n",
=======
       "      <td>why is this making me want to go shop at targe...</td>\n",
       "      <td>or to brush your boobs. REAL BOOBS!</td>\n",
>>>>>>> cwbBranch
       "      <td>1</td>\n",
       "    </tr>\n",
       "    <tr>\n",
       "      <th>1199993</th>\n",
<<<<<<< HEAD
       "      <td>And the colored girls sing dew dewddew dewddew...</td>\n",
       "      <td>on the wheelz of steel with me 2night at Winst...</td>\n",
=======
       "      <td>Having a tough time creating healthy comment c...</td>\n",
       "      <td>I've turned into an event planner. Putting tog...</td>\n",
>>>>>>> cwbBranch
       "      <td>1</td>\n",
       "    </tr>\n",
       "    <tr>\n",
       "      <th>1199994</th>\n",
<<<<<<< HEAD
       "      <td>Free desktop wallpapers, updated daily, someth...</td>\n",
       "      <td>Haha, what would have happened with a Royal Fl...</td>\n",
=======
       "      <td>Fishing with John Edd segment 3 -</td>\n",
       "      <td>New Hampshire seeks fishing instructors -</td>\n",
>>>>>>> cwbBranch
       "      <td>1</td>\n",
       "    </tr>\n",
       "    <tr>\n",
       "      <th>1199995</th>\n",
<<<<<<< HEAD
       "      <td>Partly Cloudy and 82 F at St. Petersburg / Cle...</td>\n",
       "      <td>TS: Fair and 73 F at St. Petersburg / Clea, FL...</td>\n",
=======
       "      <td>HaHa I caught that TD on NFL REDZONE. The Reds...</td>\n",
       "      <td>Incoming links from Twitter should now be fixe...</td>\n",
>>>>>>> cwbBranch
       "      <td>1</td>\n",
       "    </tr>\n",
       "    <tr>\n",
       "      <th>1199996</th>\n",
<<<<<<< HEAD
       "      <td>lol It seems more than it really was</td>\n",
       "      <td>Awww, Thanks!! :) #FollowFriday The Cool Kids!...</td>\n",
=======
       "      <td>say shikakai 3 times really really fast! hennahut</td>\n",
       "      <td>permanent natural hair dye! 100% chemical free...</td>\n",
>>>>>>> cwbBranch
       "      <td>1</td>\n",
       "    </tr>\n",
       "    <tr>\n",
       "      <th>1199997</th>\n",
<<<<<<< HEAD
       "      <td>This will help Sony Gets A TV Repairman</td>\n",
       "      <td>Real World marketing Work Local Trade Shows an...</td>\n",
=======
       "      <td>haha isn't that what I said about rules!? ;)</td>\n",
       "      <td>+1 for the new #tweetdec k minimizing to the i...</td>\n",
>>>>>>> cwbBranch
       "      <td>1</td>\n",
       "    </tr>\n",
       "    <tr>\n",
       "      <th>1199998</th>\n",
<<<<<<< HEAD
       "      <td>Thinking about designing a photo booth for ove...</td>\n",
       "      <td>\"Enough of these uptown girls\" - haculla</td>\n",
=======
       "      <td>SophisticatedFinance Leadership: Drew Faust, P...</td>\n",
       "      <td>5 Traits of Champions - is</td>\n",
>>>>>>> cwbBranch
       "      <td>1</td>\n",
       "    </tr>\n",
       "    <tr>\n",
       "      <th>1199999</th>\n",
<<<<<<< HEAD
       "      <td>Rasmussen 71% angry at policies of fed. gov......</td>\n",
       "      <td>Hi Dave. Thanks! I owe you a lot for helping m...</td>\n",
=======
       "      <td>u're tweets are mad funny honey.....i wish i w...</td>\n",
       "      <td>sure babe no problem......(still lmfao)</td>\n",
>>>>>>> cwbBranch
       "      <td>1</td>\n",
       "    </tr>\n",
       "  </tbody>\n",
       "</table>\n",
       "<p>1200000 rows × 3 columns</p>\n",
       "</div>"
      ],
      "text/plain": [
       "                                                         0  \\\n",
<<<<<<< HEAD
       "0                      Looking for a Mexico GETAWAY, GREAT   \n",
       "1        great ideas! Thanks Chickie! 5 Keys to Pairing...   \n",
       "2        Finally got all our stuff out of the moving tr...   \n",
       "3        Everybody sees the world through the idea they...   \n",
       "4        I'm thinking this mighty be floyds nite..altho...   \n",
       "5        Spending way too much time looking at sexy exe...   \n",
       "6        Sounds like there is a rodent with a hand saw ...   \n",
       "7        Is tired, I had a great thanksgiving but I'm r...   \n",
       "8        Updated: The Wonder Pets: ...we&#39;re Wonder ...   \n",
       "9        ooh aww. That's cool. Pf changs is really good...   \n",
       "10       Another trip to NoPo vet. We didn't get needed...   \n",
       "11       I have a new featured site, \"Priscilla Loves P...   \n",
       "12       just do something for your visual maybe mental...   \n",
       "13       Bein at Power 99 in Philly reminds me of last ...   \n",
       "14       Natural Balance Limited Ingredient Diets Chick...   \n",
       "15       I'll have to say today was the longest shift I...   \n",
       "16                          See! Big yummy burrito twitpic   \n",
       "17       Eprocurement and eInvoice management tools pub...   \n",
       "18       HD: Mostly Cloudy and 43 F at New York/John F....   \n",
       "19       Truckinfo.net - Fuel prices and best places to...   \n",
       "20       Physician - Er coverage-AZ - Our client is cur...   \n",
       "21       Armored releases nationwide tonight. Do you ha...   \n",
       "22         IBM Study: The end of advertising as we know it   \n",
       "23       Economy, policies energizing Canada&#39;s wind...   \n",
       "24       twurl adtrend: MOBIZ: AdMob kickstarts interac...   \n",
       "25       It does! LOL I just realized the iPhone Calend...   \n",
       "26                Everyone should follow She is very wise!   \n",
       "27                   Must-See Debuts at the 2009 SEMA Show   \n",
       "28                         nothing yet, what you doin 2day   \n",
       "29       If you got $3 Billion lying around - MGM is fo...   \n",
       "...                                                    ...   \n",
       "1199970  I am wanting to Broadcast something on Ustream...   \n",
       "1199971   Why Tipping Is The Best Investment Ever bte #RTW   \n",
       "1199972  Wolkenlos. 9°C. Luftfeuchtigkeit: 87% Windstae...   \n",
       "1199973                 Good luck Jim Thome edition of #FF   \n",
       "1199974  Mark Martin says he used to think Jimmie was \"...   \n",
       "1199975  Lemme get this straight: UMG will send a clean...   \n",
       "1199976  Tell me about it...my nose feels like someone ...   \n",
       "1199977          BLOG: Deep threat is no sweat for Vikings   \n",
       "1199978  Carestream unveils bone density software appli...   \n",
       "1199979  tr Commercial Fitness Updates: Fit Baby Boomer...   \n",
       "1199980  FREE Report! How Will Text Message Marketing I...   \n",
       "1199981  Illinois in the red: The news on Illinois is o...   \n",
       "1199982  New York i love this city!: New York i love th...   \n",
       "1199983        . great youth service tonite. i'm so proud!   \n",
       "1199984  And if the fake me is reading this, thanks for...   \n",
       "1199985  I used to see \"package store\" signs in NJ & PA...   \n",
       "1199986  \"Stay Another Season\" by The Avalanches from \"...   \n",
       "1199987  First tweet in months. This onslaught of thoug...   \n",
       "1199988  Add more followers on twitter, do it automatic...   \n",
       "1199989  I don't know, I drink them as soon as I make t...   \n",
       "1199990  Extra points: Could the Patriots beat the Colt...   \n",
       "1199991  Irish Supreme Court upholds legal rights of me...   \n",
       "1199992  Toyetic: The potential of a movie or TV show t...   \n",
       "1199993  And the colored girls sing dew dewddew dewddew...   \n",
       "1199994  Free desktop wallpapers, updated daily, someth...   \n",
       "1199995  Partly Cloudy and 82 F at St. Petersburg / Cle...   \n",
       "1199996               lol It seems more than it really was   \n",
       "1199997            This will help Sony Gets A TV Repairman   \n",
       "1199998  Thinking about designing a photo booth for ove...   \n",
       "1199999  Rasmussen 71% angry at policies of fed. gov......   \n",
       "\n",
       "                                                         1  2  \n",
       "0        HIVE & STD testing, 24/7 at location you choos...  1  \n",
       "1        Chef Celebration of San Diego Beers is the clo...  1  \n",
       "2                            New Blog Post: Heineken #beer  1  \n",
       "3          Joseph has interviewed Ingrid Michaelson #Leeds  1  \n",
       "4        yes you are absolutely right - no one can top ...  1  \n",
       "5        Carlon sounding the best they ever have, on bo...  1  \n",
       "6        Watching Intervention. This girl's story is hi...  1  \n",
       "7        Is a little unsettled and have been all week, ...  1  \n",
       "8        EX-BOXER JOE KNOCKED OUT OF I’M A CELEBRITY KN...  1  \n",
       "9        I don't wanna sleep until this song is done bu...  1  \n",
       "10       Seems like the housing market is perking up. W...  1  \n",
       "11       Just added 'Managing Tags | WordPress Training...  1  \n",
       "12       well...we all get foolish at our work, it won'...  1  \n",
       "13       Just bought me some NeatReceipts!! Oh yeah bab...  1  \n",
       "14       48\"\" Fluorescent Strip Light in Black (Two Fra...  1  \n",
       "15       I love you mcnabb!! Cuz of you I might get a w...  1  \n",
       "16       my my my you have it set! You should join me a...  1  \n",
       "17       Oh: #opensource If You're Looking For The Open...  1  \n",
       "18       HD: ...COASTAL FLOODING DURING HIGH TIDE THIS ...  1  \n",
       "19       Truckinfo.net - Fuel prices and best places to...  1  \n",
       "20       Physician - Easiest Locum Opportunity ever - T...  1  \n",
       "21       Win a free poster – 1st 10 people to See 50 Ce...  1  \n",
       "22            Promote Your Ad Agency Through the Recession  1  \n",
       "23       BC Hydro winnows list of renewable energy prop...  1  \n",
       "24       twurl Vivendi Said to Prepare Sale of Stake in...  1  \n",
       "25       Seesmic Launches Native Twitter Client For Win...  1  \n",
       "26       It happened about a year or so ago, they \"repa...  1  \n",
       "27             Five Key Elements of a Profitable Website /  1  \n",
       "28         oh wow, Idk, nothing really gets me n the mood.  1  \n",
       "29                    Hungry for kicks - check it: twitpic  1  \n",
       "...                                                    ... ..  \n",
       "1199970  New article (Just in): Ares I-X undergoing ord...  1  \n",
       "1199971           Pick a Name and Get On With It! bte #RTW  1  \n",
       "1199972  Wolkenlos. 10°C. Luftfeuchtigkeit: 82% Windsta...  1  \n",
       "1199973  HAHAHAHAHAHAHAHA Nice catch Sorryano!!! #cubssuck  1  \n",
       "1199974  Sauter struggles putting on ROY jacket. Says \"...  1  \n",
       "1199975  yep, most of my 7th grade bball kids play foot...  1  \n",
       "1199976  I might try that one tomorrow. That's if i eve...  1  \n",
       "1199977            BLOG: Allen, Harvin honored at mid-year  1  \n",
       "1199978  [A case of pulmonary hyalinizing granuloma wit...  1  \n",
       "1199979      tr Long Term Care Insurance (LTCI) – A Primer  1  \n",
       "1199980  The Latest News About Mobile Advertising From ...  1  \n",
       "1199981  Madame Oprah: Thousands of working people who ...  1  \n",
       "1199982  Doing trailer checks for New York I Love You! ...  1  \n",
       "1199983  having a lazy saturday. going to the track if ...  1  \n",
       "1199984  Tonight is our first live audience taping for ...  1  \n",
       "1199985  Last truck on #tacotrucktour: Atole, 41st & fo...  1  \n",
       "1199986  \"(You'll Have To Swing It) Mr. Paganini\" by El...  1  \n",
       "1199987  Forging neo-human traits is a challenge posed ...  1  \n",
       "1199988  Don't just get more followers, get the right f...  1  \n",
       "1199989  Juice It Up offers unique yogurt, snacks - The...  1  \n",
       "1199990  Extra points: The fourth-down call: What do yo...  1  \n",
       "1199991  : Lanny Wadkins, Jose Maria Olazabal, Christy ...  1  \n",
       "1199992  A Jobless Recovery: An economist explains why ...  1  \n",
       "1199993  on the wheelz of steel with me 2night at Winst...  1  \n",
       "1199994  Haha, what would have happened with a Royal Fl...  1  \n",
       "1199995  TS: Fair and 73 F at St. Petersburg / Clea, FL...  1  \n",
       "1199996  Awww, Thanks!! :) #FollowFriday The Cool Kids!...  1  \n",
       "1199997  Real World marketing Work Local Trade Shows an...  1  \n",
       "1199998           \"Enough of these uptown girls\" - haculla  1  \n",
       "1199999  Hi Dave. Thanks! I owe you a lot for helping m...  1  \n",
=======
       "0              Jets is where it's at Chris! I promise! :-)   \n",
       "1        Wearing Sanita Marcelle's today & luv them! Th...   \n",
       "2                    Think Like a Smart Investor: (#video)   \n",
       "3        Dooney and Bourke Handbag or Purse \"Tassel Tot...   \n",
       "4        Gandhi’s Top 10 Fundamentals for Changing the ...   \n",
       "...                                                    ...   \n",
       "1199995  HaHa I caught that TD on NFL REDZONE. The Reds...   \n",
       "1199996  say shikakai 3 times really really fast! hennahut   \n",
       "1199997       haha isn't that what I said about rules!? ;)   \n",
       "1199998  SophisticatedFinance Leadership: Drew Faust, P...   \n",
       "1199999  u're tweets are mad funny honey.....i wish i w...   \n",
       "\n",
       "                                                         1  2  \n",
       "0        I'm craving a cookie, but not just any cookie....  1  \n",
       "1        I LOVE avocados so much I think I'm gonna marr...  1  \n",
       "2        U.S. Small Business optimism edges higher in O...  1  \n",
       "3        Dooney & Bourke Handbag -Leather Dillen Tear D...  1  \n",
       "4         8 #Twitter Apps That Make It Easy To Share Files  1  \n",
       "...                                                    ... ..  \n",
       "1199995  Incoming links from Twitter should now be fixe...  1  \n",
       "1199996  permanent natural hair dye! 100% chemical free...  1  \n",
       "1199997  +1 for the new #tweetdec k minimizing to the i...  1  \n",
       "1199998                         5 Traits of Champions - is  1  \n",
       "1199999            sure babe no problem......(still lmfao)  1  \n",
>>>>>>> cwbBranch
       "\n",
       "[1200000 rows x 3 columns]"
      ]
     },
     "execution_count": 5,
     "metadata": {},
     "output_type": "execute_result"
    }
   ],
   "source": [
    "choices = np.random.choice(len(positive_pairs), SAMPLE_SIZE, replace=False)\n",
    "positive_pairs_np = np.array(positive_pairs)\n",
    "filtered_positive_pairs = positive_pairs_np[choices]\n",
    "positive_df = pd.DataFrame(filtered_positive_pairs)\n",
    "positive_df"
   ]
  },
  {
   "cell_type": "code",
   "execution_count": 6,
   "metadata": {
    "ExecuteTime": {
     "end_time": "2019-08-25T02:21:51.552740Z",
     "start_time": "2019-08-25T02:21:51.520356Z"
    }
   },
   "outputs": [
    {
     "data": {
      "text/html": [
       "<div>\n",
       "<style scoped>\n",
       "    .dataframe tbody tr th:only-of-type {\n",
       "        vertical-align: middle;\n",
       "    }\n",
       "\n",
       "    .dataframe tbody tr th {\n",
       "        vertical-align: top;\n",
       "    }\n",
       "\n",
       "    .dataframe thead th {\n",
       "        text-align: right;\n",
       "    }\n",
       "</style>\n",
       "<table border=\"1\" class=\"dataframe\">\n",
       "  <thead>\n",
       "    <tr style=\"text-align: right;\">\n",
       "      <th></th>\n",
       "      <th>0</th>\n",
       "      <th>1</th>\n",
       "      <th>2</th>\n",
       "    </tr>\n",
       "  </thead>\n",
       "  <tbody>\n",
       "    <tr>\n",
       "      <th>0</th>\n",
<<<<<<< HEAD
       "      <td>can't get this song out of my head: \"And I ran...</td>\n",
       "      <td>Passenger numbers at the Pitt-Greenville Airpo...</td>\n",
=======
       "      <td>I think if you had a regular 9 to 5 job, you w...</td>\n",
       "      <td>New Dedicated Hosting Packages up at Check it ...</td>\n",
>>>>>>> cwbBranch
       "      <td>0</td>\n",
       "    </tr>\n",
       "    <tr>\n",
       "      <th>1</th>\n",
<<<<<<< HEAD
       "      <td>Beware of the man who exhales the odor of the ...</td>\n",
       "      <td>Damn this dude got a hard ass switch lol</td>\n",
=======
       "      <td>Awww Nando :( I'll pray for her too. I hope sh...</td>\n",
       "      <td>Orlando to Philadelphia starting at $169 #trav...</td>\n",
>>>>>>> cwbBranch
       "      <td>0</td>\n",
       "    </tr>\n",
       "    <tr>\n",
       "      <th>2</th>\n",
<<<<<<< HEAD
       "      <td>Good morning! Let's start the day by asking th...</td>\n",
       "      <td>Excecute new ways to get new results #wang</td>\n",
=======
       "      <td>Wow just stuffed my face with musinex echinace...</td>\n",
       "      <td>I love me some #Obama...he's the man. F what e...</td>\n",
>>>>>>> cwbBranch
       "      <td>0</td>\n",
       "    </tr>\n",
       "    <tr>\n",
       "      <th>3</th>\n",
<<<<<<< HEAD
       "      <td>just crankin up the day going to work-out</td>\n",
       "      <td>Wow... raining big time cats and dogs here in ...</td>\n",
=======
       "      <td>Cost: The Common Question « Otaku-Yakuza</td>\n",
       "      <td>#Digg: A Career in Design can Lead to a Higher...</td>\n",
>>>>>>> cwbBranch
       "      <td>0</td>\n",
       "    </tr>\n",
       "    <tr>\n",
       "      <th>4</th>\n",
<<<<<<< HEAD
       "      <td>i didn't want to laugh but \"barbeque and fire\"...</td>\n",
       "      <td>\"There is nowhere we are more honest than the ...</td>\n",
=======
       "      <td>I can tell these last 25 mins of work is gonna...</td>\n",
       "      <td>NASA fixes Hubble...now Rover is stuck in mud.</td>\n",
>>>>>>> cwbBranch
       "      <td>0</td>\n",
       "    </tr>\n",
       "    <tr>\n",
       "      <th>5</th>\n",
<<<<<<< HEAD
       "      <td>I just happen to have an acorn squash that nee...</td>\n",
       "      <td>twitpic - Morning glow in orange and yellow wi...</td>\n",
=======
       "      <td>Tiger Woods got himself in a mess huh lol! Gla...</td>\n",
       "      <td>On the Steelers: New rule won't change Ward: H...</td>\n",
>>>>>>> cwbBranch
       "      <td>0</td>\n",
       "    </tr>\n",
       "    <tr>\n",
       "      <th>6</th>\n",
<<<<<<< HEAD
       "      <td>Beasley center challenges gillnet fishing</td>\n",
       "      <td>ABC's Good Morning America in San Antonio this...</td>\n",
=======
       "      <td>I can now, finally, sleep; after drinks, food ...</td>\n",
       "      <td>You're sweet to say so, sometimes I don't feel...</td>\n",
>>>>>>> cwbBranch
       "      <td>0</td>\n",
       "    </tr>\n",
       "    <tr>\n",
       "      <th>7</th>\n",
<<<<<<< HEAD
       "      <td>About to get ready for work......Is it Friday ...</td>\n",
       "      <td>The 350 project, Please Get behind \"Saving The...</td>\n",
=======
       "      <td>#Apple. It's all about Innovative, Progressive...</td>\n",
       "      <td>What gives for Tide with one less day to prepa...</td>\n",
>>>>>>> cwbBranch
       "      <td>0</td>\n",
       "    </tr>\n",
       "    <tr>\n",
       "      <th>8</th>\n",
<<<<<<< HEAD
       "      <td>WEATHER WARNING : frost warning!</td>\n",
       "      <td>haha, if you say so</td>\n",
=======
       "      <td>refreshing my facebook page every ten seconds ...</td>\n",
       "      <td>Awesome! Thanks so much. Will post the link on...</td>\n",
>>>>>>> cwbBranch
       "      <td>0</td>\n",
       "    </tr>\n",
       "    <tr>\n",
       "      <th>9</th>\n",
<<<<<<< HEAD
       "      <td>They also want to figure out how much you'll n...</td>\n",
       "      <td>wut? Please try not to obliterate the language...</td>\n",
=======
       "      <td>I'm so thirsty. It's probably because I didn't...</td>\n",
       "      <td>Greg Oden will undergo surgery to repair fract...</td>\n",
>>>>>>> cwbBranch
       "      <td>0</td>\n",
       "    </tr>\n",
       "    <tr>\n",
       "      <th>10</th>\n",
<<<<<<< HEAD
       "      <td>just voted \"Hayley Williams\" on \"Who's the bes...</td>\n",
       "      <td>Yes. It is well known that I work for Comcast,...</td>\n",
=======
       "      <td>twitpic - go doyers! nestle dugout seats yo! t...</td>\n",
       "      <td>You may want to focus your attention on the ma...</td>\n",
>>>>>>> cwbBranch
       "      <td>0</td>\n",
       "    </tr>\n",
       "    <tr>\n",
       "      <th>11</th>\n",
<<<<<<< HEAD
       "      <td>All I Want for Christmas Is my 12 Trillion Bac...</td>\n",
       "      <td>cloudmysql link seems to link to plaxo?</td>\n",
=======
       "      <td>if his mustache smell like vagina juice. #brea...</td>\n",
       "      <td>China Yuan Flat Late; Obama Visit Unlikely To ...</td>\n",
>>>>>>> cwbBranch
       "      <td>0</td>\n",
       "    </tr>\n",
       "    <tr>\n",
       "      <th>12</th>\n",
<<<<<<< HEAD
       "      <td>Hey that's exactly like me! I was also wide aw...</td>\n",
       "      <td>For being 'such a storyteller' with Tom's Dine...</td>\n",
=======
       "      <td>#Newsie v1.2 is in the wild! #iphone #google #...</td>\n",
       "      <td>Stop making all that noise !</td>\n",
>>>>>>> cwbBranch
       "      <td>0</td>\n",
       "    </tr>\n",
       "    <tr>\n",
       "      <th>13</th>\n",
<<<<<<< HEAD
       "      <td>One of the best SNL Openers in a while, Obama ...</td>\n",
       "      <td>Please Help! A special needs child is fundrais...</td>\n",
=======
       "      <td>15 Business Reasons to Use Twitter - ping</td>\n",
       "      <td>stay single.....as long as you can....</td>\n",
>>>>>>> cwbBranch
       "      <td>0</td>\n",
       "    </tr>\n",
       "    <tr>\n",
       "      <th>14</th>\n",
<<<<<<< HEAD
       "      <td>What does the Tweet read?</td>\n",
       "      <td>Hi did you check out the italy flight?? Mom wa...</td>\n",
=======
       "      <td>Napped. Semi-conscious. Time to get cracking.</td>\n",
       "      <td>There are 2 more days to view \"FAY\" - the Will...</td>\n",
>>>>>>> cwbBranch
       "      <td>0</td>\n",
       "    </tr>\n",
       "    <tr>\n",
       "      <th>15</th>\n",
<<<<<<< HEAD
       "      <td>shoot-too much to go to! Going to Eyebeam for ...</td>\n",
       "      <td>#aintnothinglike spending your paycheck the da...</td>\n",
=======
       "      <td>lil wayne is so cute =] lol...</td>\n",
       "      <td>Huh, the Keynote Remote app for iPhone kinda r...</td>\n",
>>>>>>> cwbBranch
       "      <td>0</td>\n",
       "    </tr>\n",
       "    <tr>\n",
       "      <th>16</th>\n",
<<<<<<< HEAD
       "      <td>i didnt even watch it im still mad them for se...</td>\n",
       "      <td>CSU Water Experts Hold Inaugural Meeting to Ad...</td>\n",
=======
       "      <td>Twitter you are the worst distraction.</td>\n",
       "      <td>3.5-Star Disneyland Hotels Just $59/night This...</td>\n",
>>>>>>> cwbBranch
       "      <td>0</td>\n",
       "    </tr>\n",
       "    <tr>\n",
       "      <th>17</th>\n",
<<<<<<< HEAD
       "      <td>eBay Certified Provider Workshop - September 2...</td>\n",
       "      <td>Got a new WinMo or Android phone today for you...</td>\n",
=======
       "      <td>New movement check my new joint out on EnzMusi...</td>\n",
       "      <td>Watermans weekend is kicking off, we are all s...</td>\n",
>>>>>>> cwbBranch
       "      <td>0</td>\n",
       "    </tr>\n",
       "    <tr>\n",
       "      <th>18</th>\n",
<<<<<<< HEAD
       "      <td>Injured North Logan infant on life support; fa...</td>\n",
       "      <td>by Help the West Seattle Soccer Club round out...</td>\n",
=======
       "      <td>FRONT ROW Trans-Siberian Orchestra tickets on ...</td>\n",
       "      <td>Palm Springs man charged with wearing unauthor...</td>\n",
>>>>>>> cwbBranch
       "      <td>0</td>\n",
       "    </tr>\n",
       "    <tr>\n",
       "      <th>19</th>\n",
<<<<<<< HEAD
       "      <td>Going to bed to simply after an amazing world ...</td>\n",
       "      <td>If you're the kind of person who needs to incr...</td>\n",
=======
       "      <td>10th and final Blog in the series from CEO Jer...</td>\n",
       "      <td>This battle is getting epic!</td>\n",
>>>>>>> cwbBranch
       "      <td>0</td>\n",
       "    </tr>\n",
       "    <tr>\n",
       "      <th>20</th>\n",
<<<<<<< HEAD
       "      <td>twitpic - Kim Main Tap Tavern AGHORI'D</td>\n",
       "      <td>Needs to be an IN-N-Out up the street from whe...</td>\n",
=======
       "      <td>Become Debt Free, then start earning 6 Figures...</td>\n",
       "      <td>Philippines Place Money Makers ::</td>\n",
>>>>>>> cwbBranch
       "      <td>0</td>\n",
       "    </tr>\n",
       "    <tr>\n",
       "      <th>21</th>\n",
<<<<<<< HEAD
       "      <td>Angles just let up a 2 run HR.. WTF! Down 5-1</td>\n",
       "      <td>you are in for an amaaazzzzinnngggg treat! :)</td>\n",
=======
       "      <td>WE DID IT WE ON DAT OBAMA LETS GET ELECTED STATUS</td>\n",
       "      <td>God never gives us discernment in order that w...</td>\n",
>>>>>>> cwbBranch
       "      <td>0</td>\n",
       "    </tr>\n",
       "    <tr>\n",
       "      <th>22</th>\n",
<<<<<<< HEAD
       "      <td>Children's Book Reviews: 9/28/2009 -</td>\n",
       "      <td>i'm sooo not good at those! i will rent it tho...</td>\n",
=======
       "      <td>We must disengage from the tyranny of self-dec...</td>\n",
       "      <td>you are on a winning streak, isn't that the se...</td>\n",
>>>>>>> cwbBranch
       "      <td>0</td>\n",
       "    </tr>\n",
       "    <tr>\n",
       "      <th>23</th>\n",
<<<<<<< HEAD
       "      <td>#musicmonday: stereophonics - maybe tomorrow</td>\n",
       "      <td>H1N1 Flu Virus Changing Spending</td>\n",
=======
       "      <td>Want to see some real faith, check this out......</td>\n",
       "      <td>it was embarrassing to watch</td>\n",
>>>>>>> cwbBranch
       "      <td>0</td>\n",
       "    </tr>\n",
       "    <tr>\n",
       "      <th>24</th>\n",
<<<<<<< HEAD
       "      <td>happy b-day to you, happy-bday to you! Happy B...</td>\n",
       "      <td>At #wolftrap listening to the legend, B.B. Kin...</td>\n",
=======
       "      <td>Developing employee service aptitude to develo...</td>\n",
       "      <td>Intuitive Painting Class in Grand Jct, CO Aug....</td>\n",
>>>>>>> cwbBranch
       "      <td>0</td>\n",
       "    </tr>\n",
       "    <tr>\n",
       "      <th>25</th>\n",
<<<<<<< HEAD
       "      <td>is \" bah bah bah ba-ah\"</td>\n",
       "      <td>This is a cute neighborhood. Drive it every da...</td>\n",
=======
       "      <td>I hope everyone had a wonderful Thanksgiving!</td>\n",
       "      <td>\"Tolerance means excusing the mistakes others ...</td>\n",
>>>>>>> cwbBranch
       "      <td>0</td>\n",
       "    </tr>\n",
       "    <tr>\n",
       "      <th>26</th>\n",
<<<<<<< HEAD
       "      <td>I have returned. With Ovaltine and a copy of T...</td>\n",
       "      <td>Finished essay #1. Honor society essay and app...</td>\n",
=======
       "      <td>#Technogadgets®- Women know more about gadgets...</td>\n",
       "      <td>MocoNews: The iPhone Wrap: App Store Revenues ...</td>\n",
>>>>>>> cwbBranch
       "      <td>0</td>\n",
       "    </tr>\n",
       "    <tr>\n",
       "      <th>27</th>\n",
<<<<<<< HEAD
       "      <td>Thanks for being our 100th follower, and thank...</td>\n",
       "      <td>Just updated my twitter background, take a loo...</td>\n",
=======
       "      <td>Top Ticket of the week in Denver is Insane Clo...</td>\n",
       "      <td>In Somalia, Islamist militants beat women for ...</td>\n",
>>>>>>> cwbBranch
       "      <td>0</td>\n",
       "    </tr>\n",
       "    <tr>\n",
       "      <th>28</th>\n",
<<<<<<< HEAD
       "      <td>LoL yea u asked 4 it.</td>\n",
       "      <td>Coffee With Keith sproutbuilder #sprout Peter....</td>\n",
=======
       "      <td>Twitter Trumps Online Conference – Six Steps F...</td>\n",
       "      <td>1 hour 30 minutes and the expo opens - I can f...</td>\n",
>>>>>>> cwbBranch
       "      <td>0</td>\n",
       "    </tr>\n",
       "    <tr>\n",
       "      <th>29</th>\n",
<<<<<<< HEAD
       "      <td>There's got to be a natural law that declares ...</td>\n",
       "      <td>32 days remaining for the holiday order countd...</td>\n",
=======
       "      <td>Tonight Tessa bday bash with tasha velez &amp; Lad...</td>\n",
       "      <td>SBNation.com: Astros fire manager Cecil Cooper...</td>\n",
>>>>>>> cwbBranch
       "      <td>0</td>\n",
       "    </tr>\n",
       "    <tr>\n",
       "      <th>...</th>\n",
       "      <td>...</td>\n",
       "      <td>...</td>\n",
       "      <td>...</td>\n",
       "    </tr>\n",
       "    <tr>\n",
       "      <th>1199970</th>\n",
<<<<<<< HEAD
       "      <td>What do you get for the man who has everything...</td>\n",
       "      <td>i'll take a plate of that</td>\n",
=======
       "      <td>Agreed, but you'd think it would've shown up i...</td>\n",
       "      <td>In the most followed users list is number 3264...</td>\n",
>>>>>>> cwbBranch
       "      <td>0</td>\n",
       "    </tr>\n",
       "    <tr>\n",
       "      <th>1199971</th>\n",
<<<<<<< HEAD
       "      <td>On my way to the airport, it is too early to f...</td>\n",
       "      <td>Reading The Mood Cure right now. Claims Nutrit...</td>\n",
=======
       "      <td>I still don't know it's too hot!! It's HARD, t...</td>\n",
       "      <td>syndrome--------tweedly dee dum---------- humd...</td>\n",
>>>>>>> cwbBranch
       "      <td>0</td>\n",
       "    </tr>\n",
       "    <tr>\n",
       "      <th>1199972</th>\n",
<<<<<<< HEAD
       "      <td>I uploaded a YouTube video -- film shoot aug 2...</td>\n",
       "      <td>...and you're welcome for the perfect setup.</td>\n",
=======
       "      <td>GO COSMIC! Calming down with some Love this al...</td>\n",
       "      <td>Tiger Woods Attacked by Wife ff</td>\n",
>>>>>>> cwbBranch
       "      <td>0</td>\n",
       "    </tr>\n",
       "    <tr>\n",
       "      <th>1199973</th>\n",
<<<<<<< HEAD
       "      <td>I totally get it! :)</td>\n",
       "      <td>Gonna grab brunch with the family... then off ...</td>\n",
=======
       "      <td>people really need to stop with the indirects ...</td>\n",
       "      <td>Final Fall “Commissioners’ Night Out” Takes Pl...</td>\n",
>>>>>>> cwbBranch
       "      <td>0</td>\n",
       "    </tr>\n",
       "    <tr>\n",
       "      <th>1199974</th>\n",
<<<<<<< HEAD
       "      <td>VMware releases vSphere 4.0 Update 1: The firs...</td>\n",
       "      <td>My Halloween plans? Just gonna eat candy, turn...</td>\n",
=======
       "      <td>Just saw Jennifer's Body and liked it. Megan F...</td>\n",
       "      <td>Learn how to be happy with what you have while...</td>\n",
>>>>>>> cwbBranch
       "      <td>0</td>\n",
       "    </tr>\n",
       "    <tr>\n",
       "      <th>1199975</th>\n",
<<<<<<< HEAD
       "      <td>So all you hoodrats want sew-ins? I aint mad, ...</td>\n",
       "      <td>I laugh inside myself at my coworker who insis...</td>\n",
=======
       "      <td>I'm finding that Denver CO sucks at tweeting!!!</td>\n",
       "      <td>thanx...u think he plays on our team???</td>\n",
>>>>>>> cwbBranch
       "      <td>0</td>\n",
       "    </tr>\n",
       "    <tr>\n",
       "      <th>1199976</th>\n",
<<<<<<< HEAD
       "      <td>Ok I admit I was exaggerating somewhat. But my...</td>\n",
       "      <td>Thanks, KB. Already made a mental note to be s...</td>\n",
=======
       "      <td>Double Happines $$ Chinese 10% off take out or...</td>\n",
       "      <td>do you have a protools studio out there? Maybe...</td>\n",
>>>>>>> cwbBranch
       "      <td>0</td>\n",
       "    </tr>\n",
       "    <tr>\n",
       "      <th>1199977</th>\n",
<<<<<<< HEAD
       "      <td>Diet, Dessert and Dogs » Lucky Comestible 6(3)...</td>\n",
       "      <td>Ugh. Those are TOO \"chicky\" - go for The Holiday!</td>\n",
=======
       "      <td>okay good (: ohhh and Kirsten and I might go t...</td>\n",
       "      <td>Sometimes we all have to realise that our yout...</td>\n",
>>>>>>> cwbBranch
       "      <td>0</td>\n",
       "    </tr>\n",
       "    <tr>\n",
       "      <th>1199978</th>\n",
<<<<<<< HEAD
       "      <td>Let's do this the easy way, shall we? Sketches...</td>\n",
       "      <td>This totally rocks! Check out my Recession Coo...</td>\n",
=======
       "      <td>Rocking a show this Friday 11.13.09. At Synaxi...</td>\n",
       "      <td>Protein engineering, the no-bullsh*t pathway t...</td>\n",
>>>>>>> cwbBranch
       "      <td>0</td>\n",
       "    </tr>\n",
       "    <tr>\n",
       "      <th>1199979</th>\n",
<<<<<<< HEAD
       "      <td>Or make it squeak like clown shoes when I walk...</td>\n",
       "      <td>Last of the 4 through the negotiation house wi...</td>\n",
=======
       "      <td>Do you have 70 minutes to spare this Wednesday?</td>\n",
       "      <td>Post to Twitter from Wordpress using Twitter O...</td>\n",
>>>>>>> cwbBranch
       "      <td>0</td>\n",
       "    </tr>\n",
       "    <tr>\n",
       "      <th>1199980</th>\n",
<<<<<<< HEAD
       "      <td>I would like to thank the creepy old dude at m...</td>\n",
       "      <td>Classic humor in Milwaukee - flying in I saw a...</td>\n",
=======
       "      <td>tweetburst character got us out of bed commitm...</td>\n",
       "      <td>receive a personalized autographed photo and b...</td>\n",
>>>>>>> cwbBranch
       "      <td>0</td>\n",
       "    </tr>\n",
       "    <tr>\n",
       "      <th>1199981</th>\n",
<<<<<<< HEAD
       "      <td>Randy Bresnik is already on his way to see his...</td>\n",
       "      <td>Congratulations on making the ABA's Blawg100!!</td>\n",
=======
       "      <td>thanks for trying it out. feel free to send us...</td>\n",
       "      <td>Producer - ESPNU #1 rated hoop player Harrison...</td>\n",
>>>>>>> cwbBranch
       "      <td>0</td>\n",
       "    </tr>\n",
       "    <tr>\n",
       "      <th>1199982</th>\n",
<<<<<<< HEAD
       "      <td>Can't wait till the end of the day!!!!! :) :)</td>\n",
       "      <td>Mike Parker on Times New Roman</td>\n",
=======
       "      <td>I'm also currently addicted to Sam Sparro's \"B...</td>\n",
       "      <td>been seeing a lot of love on twitter lately. m...</td>\n",
>>>>>>> cwbBranch
       "      <td>0</td>\n",
       "    </tr>\n",
       "    <tr>\n",
       "      <th>1199983</th>\n",
<<<<<<< HEAD
       "      <td>Do you need more tools and resources for your ...</td>\n",
       "      <td>last tweet of da nite..ttyl tweeters</td>\n",
=======
       "      <td>Gave Avery a shower then he took a nap on me f...</td>\n",
       "      <td>Sometimes when working through a solution I pu...</td>\n",
>>>>>>> cwbBranch
       "      <td>0</td>\n",
       "    </tr>\n",
       "    <tr>\n",
       "      <th>1199984</th>\n",
<<<<<<< HEAD
       "      <td>Avanti Mining receives positive prefeasibility...</td>\n",
       "      <td>Ha! I'm in too...rt twitpic - We agree! You sh...</td>\n",
=======
       "      <td>Patio is open all night for walk-ins. It's loo...</td>\n",
       "      <td>Yes, really picked up btwn 8-9, cleaned us out!</td>\n",
>>>>>>> cwbBranch
       "      <td>0</td>\n",
       "    </tr>\n",
       "    <tr>\n",
       "      <th>1199985</th>\n",
<<<<<<< HEAD
       "      <td>The 10 States On The Verge Of A Fiscal Catastr...</td>\n",
       "      <td>Tomorrow is not going to be a good day I proba...</td>\n",
=======
       "      <td>Looking for (2) more spkrs for Minneapolis #CT...</td>\n",
       "      <td>Palin photographer breached contract with sale...</td>\n",
>>>>>>> cwbBranch
       "      <td>0</td>\n",
       "    </tr>\n",
       "    <tr>\n",
       "      <th>1199986</th>\n",
<<<<<<< HEAD
       "      <td>mp this saturday with THE IDJUT BOYS and JACKM...</td>\n",
       "      <td>EyesOntheStreet Inside the Dixon Trial, Part 1...</td>\n",
=======
       "      <td>The Portland Head Light flic</td>\n",
       "      <td>Mazal tov! is celebrating 3 wonderful years of...</td>\n",
>>>>>>> cwbBranch
       "      <td>0</td>\n",
       "    </tr>\n",
       "    <tr>\n",
       "      <th>1199987</th>\n",
<<<<<<< HEAD
       "      <td>Ya viene el adelanto de lo que veran mañana......</td>\n",
       "      <td>Was watching Basement Jaxx at Glastonbury 2005...</td>\n",
=======
       "      <td>Preparing for our Executive Meeting and Board ...</td>\n",
       "      <td>I think its perfect for the #twiterlys Loo LOL...</td>\n",
>>>>>>> cwbBranch
       "      <td>0</td>\n",
       "    </tr>\n",
       "    <tr>\n",
       "      <th>1199988</th>\n",
<<<<<<< HEAD
       "      <td>Jonny Lee Miller talking about Masterpiece T's...</td>\n",
       "      <td>8 tips to consider when selling your business</td>\n",
=======
       "      <td>Facebook status update provides alibi for teen...</td>\n",
       "      <td>Enterprise social networking may enhance, not ...</td>\n",
>>>>>>> cwbBranch
       "      <td>0</td>\n",
       "    </tr>\n",
       "    <tr>\n",
       "      <th>1199989</th>\n",
<<<<<<< HEAD
       "      <td>Headed to for the night shift!</td>\n",
       "      <td>Forging neo-human traits is a challenge posed ...</td>\n",
=======
       "      <td>The weekly Pac-10 Volleyball Release is also o...</td>\n",
       "      <td>I agree! Ah, Stephanie Stricklen. Best reason ...</td>\n",
>>>>>>> cwbBranch
       "      <td>0</td>\n",
       "    </tr>\n",
       "    <tr>\n",
       "      <th>1199990</th>\n",
<<<<<<< HEAD
       "      <td>FalcBlog &gt;&gt; Giants disappoint Falcons in OT</td>\n",
       "      <td>oh really? you can explain? i dare you.</td>\n",
=======
       "      <td>but sukiyaki... would be better.</td>\n",
       "      <td>Lucky says: On Sunday, Steelers wide receiver ...</td>\n",
>>>>>>> cwbBranch
       "      <td>0</td>\n",
       "    </tr>\n",
       "    <tr>\n",
       "      <th>1199991</th>\n",
<<<<<<< HEAD
       "      <td>Everyones got their \"let's drive like assholes...</td>\n",
       "      <td>Become Debt Free, then start earning 6 Figures...</td>\n",
=======
       "      <td>***Please vote for my friend!!! Can I have you...</td>\n",
       "      <td>LA SUAD YUH ZEET INNA THE PLACE-SLACK WENZDEZ ...</td>\n",
>>>>>>> cwbBranch
       "      <td>0</td>\n",
       "    </tr>\n",
       "    <tr>\n",
       "      <th>1199992</th>\n",
<<<<<<< HEAD
       "      <td>1 party in the unwanted dad complaint is also ...</td>\n",
       "      <td>New RS Content: Review: G. – American Scholar</td>\n",
=======
       "      <td>I came across these pictures of Facebook's new...</td>\n",
       "      <td>Just finished the Mad Men finale ... big fan o...</td>\n",
>>>>>>> cwbBranch
       "      <td>0</td>\n",
       "    </tr>\n",
       "    <tr>\n",
       "      <th>1199993</th>\n",
<<<<<<< HEAD
       "      <td>great for healthy hair hennahut</td>\n",
       "      <td>Red Carpet Rewards members - bid now on a #Twi...</td>\n",
=======
       "      <td>If you are a concerned Patriot like me stop be...</td>\n",
       "      <td>it's coke from Mexico. It has real cane sugar ...</td>\n",
>>>>>>> cwbBranch
       "      <td>0</td>\n",
       "    </tr>\n",
       "    <tr>\n",
       "      <th>1199994</th>\n",
<<<<<<< HEAD
       "      <td>Past 2 Fridays: Lolita, Bar Symon. Is it too m...</td>\n",
       "      <td>Anybody who thinks talk is cheap never argued ...</td>\n",
=======
       "      <td>Just saw a great bumper sticker \"Republicans f...</td>\n",
       "      <td>does this count? #bacon twitpic</td>\n",
>>>>>>> cwbBranch
       "      <td>0</td>\n",
       "    </tr>\n",
       "    <tr>\n",
       "      <th>1199995</th>\n",
<<<<<<< HEAD
       "      <td>Then we should have a party the day it officia...</td>\n",
       "      <td>so shes skipping practice??? im confused.</td>\n",
=======
       "      <td>check out our suite of keyword tools, kids wor...</td>\n",
       "      <td>[ELD] Church begins considering the work given...</td>\n",
>>>>>>> cwbBranch
       "      <td>0</td>\n",
       "    </tr>\n",
       "    <tr>\n",
       "      <th>1199996</th>\n",
<<<<<<< HEAD
       "      <td>Only a few more days to launch, get your email...</td>\n",
       "      <td>CSC to resell Microsoft Cloud Services. Very i...</td>\n",
=======
       "      <td>all i wanted was a brownie from mcallisters......</td>\n",
       "      <td>Back on the no-nailbiting bandwagon. It's been...</td>\n",
>>>>>>> cwbBranch
       "      <td>0</td>\n",
       "    </tr>\n",
       "    <tr>\n",
       "      <th>1199997</th>\n",
<<<<<<< HEAD
       "      <td>Super excited for things coming down the pike on</td>\n",
       "      <td>Pier 7, 3 up/down, Barcelona bank mannypad, UC...</td>\n",
=======
       "      <td>Recent NYTimes article on increasing dependenc...</td>\n",
       "      <td>Chris Johnson for MVP!: He is currently on pac...</td>\n",
>>>>>>> cwbBranch
       "      <td>0</td>\n",
       "    </tr>\n",
       "    <tr>\n",
       "      <th>1199998</th>\n",
<<<<<<< HEAD
       "      <td>#UnFollowMe IF your pussy IS loose ,lol or if ...</td>\n",
       "      <td>Thanks, I saw that. It seems they only offer e...</td>\n",
=======
       "      <td>I want to read: \"Sharpe\" Cut by Linda Blandford -</td>\n",
       "      <td>taking naked pics of myself</td>\n",
>>>>>>> cwbBranch
       "      <td>0</td>\n",
       "    </tr>\n",
       "    <tr>\n",
       "      <th>1199999</th>\n",
<<<<<<< HEAD
       "      <td>Until he extends his circle of compassion 2 in...</td>\n",
       "      <td>Wow, I have loved today. Wish there was an ext...</td>\n",
=======
       "      <td>How to Use Twitter Lists To Create Reputation ...</td>\n",
       "      <td>You may be the only other person besides my au...</td>\n",
>>>>>>> cwbBranch
       "      <td>0</td>\n",
       "    </tr>\n",
       "  </tbody>\n",
       "</table>\n",
       "<p>1200000 rows × 3 columns</p>\n",
       "</div>"
      ],
      "text/plain": [
       "                                                         0  \\\n",
<<<<<<< HEAD
       "0        can't get this song out of my head: \"And I ran...   \n",
       "1        Beware of the man who exhales the odor of the ...   \n",
       "2        Good morning! Let's start the day by asking th...   \n",
       "3                just crankin up the day going to work-out   \n",
       "4        i didn't want to laugh but \"barbeque and fire\"...   \n",
       "5        I just happen to have an acorn squash that nee...   \n",
       "6                Beasley center challenges gillnet fishing   \n",
       "7        About to get ready for work......Is it Friday ...   \n",
       "8                         WEATHER WARNING : frost warning!   \n",
       "9        They also want to figure out how much you'll n...   \n",
       "10       just voted \"Hayley Williams\" on \"Who's the bes...   \n",
       "11       All I Want for Christmas Is my 12 Trillion Bac...   \n",
       "12       Hey that's exactly like me! I was also wide aw...   \n",
       "13       One of the best SNL Openers in a while, Obama ...   \n",
       "14                               What does the Tweet read?   \n",
       "15       shoot-too much to go to! Going to Eyebeam for ...   \n",
       "16       i didnt even watch it im still mad them for se...   \n",
       "17       eBay Certified Provider Workshop - September 2...   \n",
       "18       Injured North Logan infant on life support; fa...   \n",
       "19       Going to bed to simply after an amazing world ...   \n",
       "20                  twitpic - Kim Main Tap Tavern AGHORI'D   \n",
       "21           Angles just let up a 2 run HR.. WTF! Down 5-1   \n",
       "22                    Children's Book Reviews: 9/28/2009 -   \n",
       "23            #musicmonday: stereophonics - maybe tomorrow   \n",
       "24       happy b-day to you, happy-bday to you! Happy B...   \n",
       "25                                 is \" bah bah bah ba-ah\"   \n",
       "26       I have returned. With Ovaltine and a copy of T...   \n",
       "27       Thanks for being our 100th follower, and thank...   \n",
       "28                                   LoL yea u asked 4 it.   \n",
       "29       There's got to be a natural law that declares ...   \n",
       "...                                                    ...   \n",
       "1199970  What do you get for the man who has everything...   \n",
       "1199971  On my way to the airport, it is too early to f...   \n",
       "1199972  I uploaded a YouTube video -- film shoot aug 2...   \n",
       "1199973                               I totally get it! :)   \n",
       "1199974  VMware releases vSphere 4.0 Update 1: The firs...   \n",
       "1199975  So all you hoodrats want sew-ins? I aint mad, ...   \n",
       "1199976  Ok I admit I was exaggerating somewhat. But my...   \n",
       "1199977  Diet, Dessert and Dogs » Lucky Comestible 6(3)...   \n",
       "1199978  Let's do this the easy way, shall we? Sketches...   \n",
       "1199979  Or make it squeak like clown shoes when I walk...   \n",
       "1199980  I would like to thank the creepy old dude at m...   \n",
       "1199981  Randy Bresnik is already on his way to see his...   \n",
       "1199982      Can't wait till the end of the day!!!!! :) :)   \n",
       "1199983  Do you need more tools and resources for your ...   \n",
       "1199984  Avanti Mining receives positive prefeasibility...   \n",
       "1199985  The 10 States On The Verge Of A Fiscal Catastr...   \n",
       "1199986  mp this saturday with THE IDJUT BOYS and JACKM...   \n",
       "1199987  Ya viene el adelanto de lo que veran mañana......   \n",
       "1199988  Jonny Lee Miller talking about Masterpiece T's...   \n",
       "1199989                     Headed to for the night shift!   \n",
       "1199990        FalcBlog >> Giants disappoint Falcons in OT   \n",
       "1199991  Everyones got their \"let's drive like assholes...   \n",
       "1199992  1 party in the unwanted dad complaint is also ...   \n",
       "1199993                    great for healthy hair hennahut   \n",
       "1199994  Past 2 Fridays: Lolita, Bar Symon. Is it too m...   \n",
       "1199995  Then we should have a party the day it officia...   \n",
       "1199996  Only a few more days to launch, get your email...   \n",
       "1199997   Super excited for things coming down the pike on   \n",
       "1199998  #UnFollowMe IF your pussy IS loose ,lol or if ...   \n",
       "1199999  Until he extends his circle of compassion 2 in...   \n",
       "\n",
       "                                                         1  2  \n",
       "0        Passenger numbers at the Pitt-Greenville Airpo...  0  \n",
       "1                 Damn this dude got a hard ass switch lol  0  \n",
       "2               Excecute new ways to get new results #wang  0  \n",
       "3        Wow... raining big time cats and dogs here in ...  0  \n",
       "4        \"There is nowhere we are more honest than the ...  0  \n",
       "5        twitpic - Morning glow in orange and yellow wi...  0  \n",
       "6        ABC's Good Morning America in San Antonio this...  0  \n",
       "7        The 350 project, Please Get behind \"Saving The...  0  \n",
       "8                                      haha, if you say so  0  \n",
       "9        wut? Please try not to obliterate the language...  0  \n",
       "10       Yes. It is well known that I work for Comcast,...  0  \n",
       "11                 cloudmysql link seems to link to plaxo?  0  \n",
       "12       For being 'such a storyteller' with Tom's Dine...  0  \n",
       "13       Please Help! A special needs child is fundrais...  0  \n",
       "14       Hi did you check out the italy flight?? Mom wa...  0  \n",
       "15       #aintnothinglike spending your paycheck the da...  0  \n",
       "16       CSU Water Experts Hold Inaugural Meeting to Ad...  0  \n",
       "17       Got a new WinMo or Android phone today for you...  0  \n",
       "18       by Help the West Seattle Soccer Club round out...  0  \n",
       "19       If you're the kind of person who needs to incr...  0  \n",
       "20       Needs to be an IN-N-Out up the street from whe...  0  \n",
       "21           you are in for an amaaazzzzinnngggg treat! :)  0  \n",
       "22       i'm sooo not good at those! i will rent it tho...  0  \n",
       "23                        H1N1 Flu Virus Changing Spending  0  \n",
       "24       At #wolftrap listening to the legend, B.B. Kin...  0  \n",
       "25       This is a cute neighborhood. Drive it every da...  0  \n",
       "26       Finished essay #1. Honor society essay and app...  0  \n",
       "27       Just updated my twitter background, take a loo...  0  \n",
       "28       Coffee With Keith sproutbuilder #sprout Peter....  0  \n",
       "29       32 days remaining for the holiday order countd...  0  \n",
       "...                                                    ... ..  \n",
       "1199970                          i'll take a plate of that  0  \n",
       "1199971  Reading The Mood Cure right now. Claims Nutrit...  0  \n",
       "1199972       ...and you're welcome for the perfect setup.  0  \n",
       "1199973  Gonna grab brunch with the family... then off ...  0  \n",
       "1199974  My Halloween plans? Just gonna eat candy, turn...  0  \n",
       "1199975  I laugh inside myself at my coworker who insis...  0  \n",
       "1199976  Thanks, KB. Already made a mental note to be s...  0  \n",
       "1199977  Ugh. Those are TOO \"chicky\" - go for The Holiday!  0  \n",
       "1199978  This totally rocks! Check out my Recession Coo...  0  \n",
       "1199979  Last of the 4 through the negotiation house wi...  0  \n",
       "1199980  Classic humor in Milwaukee - flying in I saw a...  0  \n",
       "1199981     Congratulations on making the ABA's Blawg100!!  0  \n",
       "1199982                     Mike Parker on Times New Roman  0  \n",
       "1199983               last tweet of da nite..ttyl tweeters  0  \n",
       "1199984  Ha! I'm in too...rt twitpic - We agree! You sh...  0  \n",
       "1199985  Tomorrow is not going to be a good day I proba...  0  \n",
       "1199986  EyesOntheStreet Inside the Dixon Trial, Part 1...  0  \n",
       "1199987  Was watching Basement Jaxx at Glastonbury 2005...  0  \n",
       "1199988      8 tips to consider when selling your business  0  \n",
       "1199989  Forging neo-human traits is a challenge posed ...  0  \n",
       "1199990            oh really? you can explain? i dare you.  0  \n",
       "1199991  Become Debt Free, then start earning 6 Figures...  0  \n",
       "1199992      New RS Content: Review: G. – American Scholar  0  \n",
       "1199993  Red Carpet Rewards members - bid now on a #Twi...  0  \n",
       "1199994  Anybody who thinks talk is cheap never argued ...  0  \n",
       "1199995          so shes skipping practice??? im confused.  0  \n",
       "1199996  CSC to resell Microsoft Cloud Services. Very i...  0  \n",
       "1199997  Pier 7, 3 up/down, Barcelona bank mannypad, UC...  0  \n",
       "1199998  Thanks, I saw that. It seems they only offer e...  0  \n",
       "1199999  Wow, I have loved today. Wish there was an ext...  0  \n",
=======
       "0        I think if you had a regular 9 to 5 job, you w...   \n",
       "1        Awww Nando :( I'll pray for her too. I hope sh...   \n",
       "2        Wow just stuffed my face with musinex echinace...   \n",
       "3                 Cost: The Common Question « Otaku-Yakuza   \n",
       "4        I can tell these last 25 mins of work is gonna...   \n",
       "...                                                    ...   \n",
       "1199995  check out our suite of keyword tools, kids wor...   \n",
       "1199996  all i wanted was a brownie from mcallisters......   \n",
       "1199997  Recent NYTimes article on increasing dependenc...   \n",
       "1199998  I want to read: \"Sharpe\" Cut by Linda Blandford -   \n",
       "1199999  How to Use Twitter Lists To Create Reputation ...   \n",
       "\n",
       "                                                         1  2  \n",
       "0        New Dedicated Hosting Packages up at Check it ...  0  \n",
       "1        Orlando to Philadelphia starting at $169 #trav...  0  \n",
       "2        I love me some #Obama...he's the man. F what e...  0  \n",
       "3        #Digg: A Career in Design can Lead to a Higher...  0  \n",
       "4           NASA fixes Hubble...now Rover is stuck in mud.  0  \n",
       "...                                                    ... ..  \n",
       "1199995  [ELD] Church begins considering the work given...  0  \n",
       "1199996  Back on the no-nailbiting bandwagon. It's been...  0  \n",
       "1199997  Chris Johnson for MVP!: He is currently on pac...  0  \n",
       "1199998                        taking naked pics of myself  0  \n",
       "1199999  You may be the only other person besides my au...  0  \n",
>>>>>>> cwbBranch
       "\n",
       "[1200000 rows x 3 columns]"
      ]
     },
     "execution_count": 6,
     "metadata": {},
     "output_type": "execute_result"
    }
   ],
   "source": [
    "negative_pairs = []\n",
    "\n",
    "i = 0\n",
    "while i < SAMPLE_SIZE:\n",
    "    a, b = np.random.randint(low=0, high=len(train), size=2)\n",
    "    if train[0][a] != train[0][b]:\n",
    "        negative_pairs.append([train[1][a], train[1][b], 0])\n",
    "        i += 1\n",
    "negative_df = pd.DataFrame(negative_pairs)\n",
    "negative_df"
   ]
  },
  {
   "cell_type": "code",
   "execution_count": 7,
   "metadata": {},
   "outputs": [],
   "source": [
    "positive_train = positive_df[0: int(SAMPLE_SIZE / 6 * 5)]\n",
    "positive_dev = positive_df[int(SAMPLE_SIZE / 6 * 5): SAMPLE_SIZE]\n",
    "\n",
    "negative_train = negative_df[0: int(SAMPLE_SIZE / 6 * 5)]\n",
    "negative_dev = negative_df[int(SAMPLE_SIZE / 6 * 5): SAMPLE_SIZE]"
   ]
  },
  {
   "cell_type": "code",
   "execution_count": 8,
   "metadata": {},
   "outputs": [],
   "source": [
    "all_train = positive_train.append(negative_train)\n",
    "all_dev = positive_dev.append(negative_dev)"
   ]
  },
  {
   "cell_type": "code",
   "execution_count": 9,
   "metadata": {},
   "outputs": [],
   "source": [
    "from sklearn.utils import shuffle\n",
    "shuffled_train = shuffle(all_train)\n",
    "shuffled_dev = shuffle(all_dev)"
   ]
  },
  {
   "cell_type": "code",
   "execution_count": 10,
   "metadata": {},
   "outputs": [],
   "source": [
<<<<<<< HEAD
    "shuffled_train.to_csv(\"./Train_pair/paired_sentences_train.csv\", sep='\\t', header=None, index=False)\n",
    "shuffled_dev.to_csv(\"./Train_pair/paired_sentences_dev.csv\", sep='\\t', header=None, index=False)"
=======
    "shuffled_train.to_csv(\"/home/weizhuozhang/workspace/COMP90051-Project1/data/v1_7/paired_sentences_train.csv\", sep='\\t', header=None, index=False)\n",
    "shuffled_dev.to_csv(\"/home/weizhuozhang/workspace/COMP90051-Project1/data/v1_7/paired_sentences_dev.csv\", sep='\\t', header=None, index=False)"
>>>>>>> cwbBranch
   ]
  },
  {
   "cell_type": "code",
   "execution_count": null,
   "metadata": {},
   "outputs": [],
   "source": []
  }
 ],
 "metadata": {
  "hide_input": false,
  "kernelspec": {
   "display_name": "Python 3",
   "language": "python",
   "name": "python3"
  },
  "language_info": {
   "codemirror_mode": {
    "name": "ipython",
    "version": 3
   },
   "file_extension": ".py",
   "mimetype": "text/x-python",
   "name": "python",
   "nbconvert_exporter": "python",
   "pygments_lexer": "ipython3",
   "version": "3.7.4"
  },
  "toc": {
   "base_numbering": 1,
   "nav_menu": {},
   "number_sections": true,
   "sideBar": true,
   "skip_h1_title": false,
   "title_cell": "Table of Contents",
   "title_sidebar": "Contents",
   "toc_cell": false,
   "toc_position": {},
   "toc_section_display": true,
   "toc_window_display": false
  },
  "varInspector": {
   "cols": {
    "lenName": 16,
    "lenType": 16,
    "lenVar": 40
   },
   "kernels_config": {
    "python": {
     "delete_cmd_postfix": "",
     "delete_cmd_prefix": "del ",
     "library": "var_list.py",
     "varRefreshCmd": "print(var_dic_list())"
    },
    "r": {
     "delete_cmd_postfix": ") ",
     "delete_cmd_prefix": "rm(",
     "library": "var_list.r",
     "varRefreshCmd": "cat(var_dic_list()) "
    }
   },
   "types_to_exclude": [
    "module",
    "function",
    "builtin_function_or_method",
    "instance",
    "_Feature"
   ],
   "window_display": false
  }
 },
 "nbformat": 4,
 "nbformat_minor": 2
}
