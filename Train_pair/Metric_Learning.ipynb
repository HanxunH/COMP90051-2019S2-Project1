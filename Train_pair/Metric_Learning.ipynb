{
 "cells": [
  {
   "cell_type": "code",
   "execution_count": 1,
   "metadata": {
    "scrolled": true
   },
   "outputs": [],
   "source": [
    "from metric_learn import MMC\n",
    "import numpy as np\n",
    "import pandas as pd"
   ]
  },
  {
   "cell_type": "code",
   "execution_count": 2,
   "metadata": {},
   "outputs": [],
   "source": [
    "sentence_0 = np.load('set_0_encode_tuned.npy')"
   ]
  },
  {
   "cell_type": "code",
   "execution_count": 3,
   "metadata": {},
   "outputs": [],
   "source": [
    "sentence_1 = np.load('set_1_encode_tuned.npy')"
   ]
  },
  {
   "cell_type": "code",
   "execution_count": 4,
   "metadata": {},
   "outputs": [
    {
     "data": {
      "text/plain": [
       "array([[-0.4031608 ,  0.09910132,  0.13707325, ...,  0.17745048,\n",
       "         0.15601051,  0.00927632],\n",
       "       [-0.39091754, -0.34049246, -0.04642393, ..., -0.01925146,\n",
       "         0.25868866, -0.14022087],\n",
       "       [-0.23655014, -0.08733393,  0.05471252, ...,  0.11986972,\n",
       "         0.2724274 ,  0.01932399],\n",
       "       ...,\n",
       "       [-0.25493136,  0.4328945 , -0.43775085, ...,  0.06072914,\n",
       "        -0.14260052,  0.1633145 ],\n",
       "       [-0.49075985, -0.14284535,  0.04198701, ...,  0.29748785,\n",
       "         0.40059954,  0.03369416],\n",
       "       [-0.17995124,  0.24920142,  0.06292257, ...,  0.42803177,\n",
       "        -0.22196472,  0.4834156 ]], dtype=float32)"
      ]
     },
     "execution_count": 4,
     "metadata": {},
     "output_type": "execute_result"
    }
   ],
   "source": [
    "sentence_0"
   ]
  },
  {
   "cell_type": "code",
   "execution_count": 5,
   "metadata": {},
   "outputs": [
    {
     "data": {
      "text/plain": [
       "array([[-0.58468354,  0.42356303, -0.21234314, ...,  0.16264045,\n",
       "         0.59831786,  0.55633956],\n",
       "       [-0.41837022, -0.40866455,  0.26692834, ..., -0.22964239,\n",
       "         0.38614017,  0.03808852],\n",
       "       [-0.3292835 ,  0.15078744, -0.1803688 , ..., -0.3230258 ,\n",
       "         0.50659543,  0.26861453],\n",
       "       ...,\n",
       "       [ 0.12297407,  0.36362353,  0.04716713, ...,  0.03534498,\n",
       "         0.05932343, -0.12772197],\n",
       "       [-0.6109691 , -0.2996093 , -0.07812105, ...,  0.05455432,\n",
       "        -0.08963366,  0.26489708],\n",
       "       [ 0.25188857,  0.0078741 , -0.06164432, ...,  0.18195423,\n",
       "        -0.06198646,  0.5124667 ]], dtype=float32)"
      ]
     },
     "execution_count": 5,
     "metadata": {},
     "output_type": "execute_result"
    }
   ],
   "source": [
    "sentence_1"
   ]
  },
  {
   "cell_type": "code",
   "execution_count": 6,
   "metadata": {},
   "outputs": [],
   "source": [
    "origin_set = pd.read_csv('paired_sentences_dev.csv' , sep='\\t', header=None)"
   ]
  },
  {
   "cell_type": "code",
   "execution_count": 7,
   "metadata": {},
   "outputs": [],
   "source": [
    "label = np.array(origin_set[2])\n",
    "for i in range(len(label)):\n",
    "    if label[i] == 0:\n",
    "        label[i] = -1"
   ]
  },
  {
   "cell_type": "code",
   "execution_count": 8,
   "metadata": {},
   "outputs": [
    {
     "data": {
      "text/plain": [
       "(400000, 768)"
      ]
     },
     "execution_count": 8,
     "metadata": {},
     "output_type": "execute_result"
    }
   ],
   "source": [
    "sentence_0.shape"
   ]
  },
  {
   "cell_type": "code",
   "execution_count": 9,
   "metadata": {},
   "outputs": [
    {
     "data": {
      "text/plain": [
       "(400000, 768)"
      ]
     },
     "execution_count": 9,
     "metadata": {},
     "output_type": "execute_result"
    }
   ],
   "source": [
    "sentence_1.shape"
   ]
  },
  {
   "cell_type": "code",
   "execution_count": 10,
   "metadata": {},
   "outputs": [],
   "source": [
    "paired_sentence = []\n",
    "for i in range(len(sentence_0)):\n",
    "    newpair = np.array([sentence_0[i], sentence_1[i]])\n",
    "    paired_sentence.append(newpair)"
   ]
  },
  {
   "cell_type": "code",
   "execution_count": 11,
   "metadata": {},
   "outputs": [],
   "source": [
    "paired_sentence = np.array(paired_sentence)"
   ]
  },
  {
   "cell_type": "code",
   "execution_count": 16,
   "metadata": {},
   "outputs": [],
   "source": [
    "paired_sentence = paired_sentence[0: 10000]\n",
    "label = label[0: 10000]"
   ]
  },
  {
   "cell_type": "code",
   "execution_count": 17,
   "metadata": {},
   "outputs": [
    {
     "data": {
      "text/plain": [
       "(10000, 2, 768)"
      ]
     },
     "execution_count": 17,
     "metadata": {},
     "output_type": "execute_result"
    }
   ],
   "source": [
    "paired_sentence.shape"
   ]
  },
  {
   "cell_type": "code",
   "execution_count": 21,
   "metadata": {},
   "outputs": [
    {
     "data": {
      "text/plain": [
       "MMC(A0='deprecated', convergence_threshold=0.001, diagonal=False,\n",
       "    diagonal_c=1.0, init=None, max_iter=5, max_proj=10000, preprocessor=None,\n",
       "    random_state=42, verbose=False)"
      ]
     },
     "execution_count": 21,
     "metadata": {},
     "output_type": "execute_result"
    }
   ],
   "source": [
    "mmc = MMC(random_state=42, max_iter=5)\n",
    "mmc"
   ]
  },
  {
   "cell_type": "code",
   "execution_count": 22,
   "metadata": {},
   "outputs": [
    {
     "name": "stderr",
     "output_type": "stream",
     "text": [
      "/usr/local/lib/python3.5/dist-packages/metric_learn/mmc.py:53: ChangedBehaviorWarning: Warning, no init was set (`init=None`). As of version 0.5.0, the default init will now be set to 'identity', instead of the identity divided by a scaling factor of 10. If you still want to use the same init as in previous versions, set init=np.eye(d)/10, where d is the dimension of your input space (d=pairs.shape[1]). This warning will disappear in v0.6.0, and `init` parameter's default value will be set to 'auto'.\n",
      "  warnings.warn(msg, ChangedBehaviorWarning)\n"
     ]
    },
    {
     "data": {
      "text/plain": [
       "MMC(A0='deprecated', convergence_threshold=0.001, diagonal=False,\n",
       "    diagonal_c=1.0, init=None, max_iter=5, max_proj=10000, preprocessor=None,\n",
       "    random_state=42, verbose=False)"
      ]
     },
     "execution_count": 22,
     "metadata": {},
     "output_type": "execute_result"
    }
   ],
   "source": [
    "mmc.fit(paired_sentence, label)"
   ]
  },
  {
   "cell_type": "code",
   "execution_count": null,
   "metadata": {},
   "outputs": [],
   "source": []
  },
  {
   "cell_type": "code",
   "execution_count": null,
   "metadata": {},
   "outputs": [],
   "source": []
  },
  {
   "cell_type": "code",
   "execution_count": null,
   "metadata": {},
   "outputs": [],
   "source": []
  }
 ],
 "metadata": {
  "kernelspec": {
   "display_name": "Python 3",
   "language": "python",
   "name": "python3"
  },
  "language_info": {
   "codemirror_mode": {
    "name": "ipython",
    "version": 3
   },
   "file_extension": ".py",
   "mimetype": "text/x-python",
   "name": "python",
   "nbconvert_exporter": "python",
   "pygments_lexer": "ipython3",
   "version": "3.5.2"
  }
 },
 "nbformat": 4,
 "nbformat_minor": 2
}
