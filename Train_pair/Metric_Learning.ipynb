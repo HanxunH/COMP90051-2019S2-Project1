{
 "cells": [
  {
   "cell_type": "code",
   "execution_count": 1,
   "metadata": {
    "scrolled": true
   },
   "outputs": [],
   "source": [
    "from metric_learn import MMC\n",
    "import numpy as np\n",
    "import pandas as pd\n",
    "\n",
    "SAMPLE_SIZE = 100000"
   ]
  },
  {
   "cell_type": "code",
   "execution_count": null,
   "metadata": {},
   "outputs": [],
   "source": [
    "train_data = pd.read_csv('../data/train_set_v1.txt', sep='\\t', header=None)\n",
    "train_embed = np.load('../data/BERT_encoding/train_encode_tuned.npy')"
   ]
  },
  {
   "cell_type": "code",
   "execution_count": null,
   "metadata": {},
   "outputs": [],
   "source": [
    "def generateSentencePair(sentence_list):\n",
    "    sentence_pair_list = []\n",
    "    if len(sentence_list) <= 1:\n",
    "        return sentence_pair_list\n",
    "    for i in range(len(sentence_list)):\n",
    "        for j in range(i+1, len(sentence_list)):\n",
    "            sentence_pair_list.append(i, j, 1])\n",
    "    return sentence_pair_list"
   ]
  },
  {
   "cell_type": "code",
   "execution_count": null,
   "metadata": {},
   "outputs": [],
   "source": [
    "id_list = np.array(list(train[0]))\n",
    "sentence_list = np.array(list(train[1]))\n",
    "id_unique_list = np.unique(id_list)\n",
    "\n",
    "positive_pairs = []\n",
    "\n",
    "for i in id_unique_list:\n",
    "    index_list = (id_list == i)\n",
    "    id_list[index_list]\n",
    "    sentence_pairs = generateSentencePair(sentence_list[index_list])\n",
    "    positive_pairs.extend(sentence_pairs)\n",
    "len(positive_pairs)"
   ]
  },
  {
   "cell_type": "code",
   "execution_count": null,
   "metadata": {},
   "outputs": [],
   "source": [
    "choices = np.random.choice(len(positive_pairs), SAMPLE_SIZE, replace=False)\n",
    "positive_pairs_np = np.array(positive_pairs)\n",
    "filtered_positive_pairs = positive_pairs_np[choices]\n"
   ]
  },
  {
   "cell_type": "code",
   "execution_count": null,
   "metadata": {},
   "outputs": [],
   "source": [
    "negative_pairs = []\n",
    "\n",
    "i = 0\n",
    "while i < SAMPLE_SIZE:\n",
    "    a, b = np.random.randint(low=0, high=len(train), size=2)\n",
    "    if train[0][a] != train[0][b]:\n",
    "        negative_pairs.append(a, b, 0])\n",
    "        i += 1\n"
   ]
  },
  {
   "cell_type": "code",
   "execution_count": null,
   "metadata": {},
   "outputs": [],
   "source": [
    "# >>> from metric_learn import MMC\n",
    "# >>> X = np.array([[-0.7 , -0.23],\n",
    "# >>>               [-0.43, -0.49],\n",
    "# >>>               [ 0.14, -0.37]])  # array of 3 samples of 2 features\n",
    "# >>> pairs_indices = np.array([[2, 0], [1, 0]])\n",
    "# >>> y_pairs = np.array([1, -1])\n",
    "# >>>\n",
    "# >>> mmc = MMC(preprocessor=X)\n",
    "# >>> mmc.fit(pairs_indices, y_pairs)\n",
    "# >>> # under the hood the algorithm will create\n",
    "# >>> # pairs = np.array([[[ 0.14, -0.37], [-0.7 , -0.23]],\n",
    "# >>> #                    [[-0.43, -0.49], [-0.7 , -0.23]]]) and fit on it"
   ]
  },
  {
   "cell_type": "code",
   "execution_count": null,
   "metadata": {},
   "outputs": [],
   "source": []
  }
 ],
 "metadata": {
  "kernelspec": {
   "display_name": "Python 3",
   "language": "python",
   "name": "python3"
  },
  "language_info": {
   "codemirror_mode": {
    "name": "ipython",
    "version": 3
   },
   "file_extension": ".py",
   "mimetype": "text/x-python",
   "name": "python",
   "nbconvert_exporter": "python",
   "pygments_lexer": "ipython3",
   "version": "3.6.4"
  },
  "toc": {
   "base_numbering": 1,
   "nav_menu": {},
   "number_sections": true,
   "sideBar": true,
   "skip_h1_title": false,
   "title_cell": "Table of Contents",
   "title_sidebar": "Contents",
   "toc_cell": false,
   "toc_position": {},
   "toc_section_display": true,
   "toc_window_display": false
  }
 },
 "nbformat": 4,
 "nbformat_minor": 2
}
