{
 "cells": [
  {
   "cell_type": "code",
   "execution_count": 133,
   "metadata": {},
   "outputs": [],
   "source": [
    "import numpy as np\n",
    "import pandas as pd\n",
    "\n",
    "threshold = 0.5"
   ]
  },
  {
   "cell_type": "code",
   "execution_count": 2,
   "metadata": {},
   "outputs": [],
   "source": [
    "train_embedding = np.load('./data/BERT_encoding/train_encode_tuned.npy')"
   ]
  },
  {
   "cell_type": "code",
   "execution_count": 144,
   "metadata": {},
   "outputs": [],
   "source": [
    "dev_embedding = np.load('./data/BERT_encoding/dev_encode_tuned.npy')\n",
    "dev_embedding = dev_embedding[0: 300]"
   ]
  },
  {
   "cell_type": "code",
   "execution_count": 145,
   "metadata": {},
   "outputs": [
    {
     "data": {
      "text/plain": [
       "(291862, 768)"
      ]
     },
     "execution_count": 145,
     "metadata": {},
     "output_type": "execute_result"
    }
   ],
   "source": [
    "train_embedding.shape"
   ]
  },
  {
   "cell_type": "code",
   "execution_count": 146,
   "metadata": {},
   "outputs": [
    {
     "data": {
      "text/plain": [
       "(300, 768)"
      ]
     },
     "execution_count": 146,
     "metadata": {},
     "output_type": "execute_result"
    }
   ],
   "source": [
    "dev_embedding.shape"
   ]
  },
  {
   "cell_type": "code",
   "execution_count": 143,
   "metadata": {},
   "outputs": [],
   "source": [
    "dev_data = pd.read_csv('./data/dev_set_v1.txt', sep='\\t', header=None)\n",
    "dev_data = dev_data[0: 300]"
   ]
  },
  {
   "cell_type": "code",
   "execution_count": 7,
   "metadata": {},
   "outputs": [],
   "source": [
    "train_data = pd.read_csv('./data/train_set_v1.txt', sep='\\t', header=None)"
   ]
  },
  {
   "cell_type": "code",
   "execution_count": null,
   "metadata": {},
   "outputs": [],
   "source": []
  },
  {
   "cell_type": "markdown",
   "metadata": {},
   "source": [
    "### Load keras model"
   ]
  },
  {
   "cell_type": "code",
   "execution_count": 8,
   "metadata": {},
   "outputs": [
    {
     "name": "stderr",
     "output_type": "stream",
     "text": [
      "Using TensorFlow backend.\n"
     ]
    },
    {
     "name": "stdout",
     "output_type": "stream",
     "text": [
      "WARNING:tensorflow:From /usr/local/lib/python3.5/dist-packages/tensorflow/python/framework/op_def_library.py:263: colocate_with (from tensorflow.python.framework.ops) is deprecated and will be removed in a future version.\n",
      "Instructions for updating:\n",
      "Colocations handled automatically by placer.\n",
      "WARNING:tensorflow:From /usr/local/lib/python3.5/dist-packages/keras/backend/tensorflow_backend.py:3445: calling dropout (from tensorflow.python.ops.nn_ops) with keep_prob is deprecated and will be removed in a future version.\n",
      "Instructions for updating:\n",
      "Please use `rate` instead of `keep_prob`. Rate should be set to `rate = 1 - keep_prob`.\n",
      "_________________________________________________________________\n",
      "Layer (type)                 Output Shape              Param #   \n",
      "=================================================================\n",
      "dense_1 (Dense)              (None, 768)               1180416   \n",
      "_________________________________________________________________\n",
      "dropout_1 (Dropout)          (None, 768)               0         \n",
      "_________________________________________________________________\n",
      "dense_2 (Dense)              (None, 2)                 1538      \n",
      "=================================================================\n",
      "Total params: 1,181,954\n",
      "Trainable params: 1,181,954\n",
      "Non-trainable params: 0\n",
      "_________________________________________________________________\n"
     ]
    }
   ],
   "source": [
    "\n",
    "import keras\n",
    "from keras.callbacks import ModelCheckpoint, EarlyStopping\n",
    "from keras.models import Sequential\n",
    "from keras.layers import Dense, Dropout\n",
    "from IPython.display import SVG\n",
    "from keras.utils.vis_utils import model_to_dot\n",
    "from keras.optimizers import Adam\n",
    "\n",
    "seed = 7\n",
    "np.random.seed(seed)\n",
    "\n",
    "model = Sequential()\n",
    "model.add(Dense(units=768, activation='relu', input_dim=1536))\n",
    "# model.add(Dense(units=50, activation='relu', input_dim=x_train.shape[1]))\n",
    "model.add(Dropout(0.3))\n",
    "model.add(Dense(units=2, activation='softmax'))\n",
    "# optimizer = Adam(lr=0.01)\n",
    "model.compile(loss=keras.losses.categorical_crossentropy,\n",
    "              optimizer='adam', metrics=['accuracy'])\n",
    "\n",
    "model.summary()\n",
    "# SVG(model_to_dot(model).create(prog='dot', format='svg'))\n",
    "\n",
    "# callbacks\n",
    "filepath=\"best_weights_tough_head.hdf5\"\n",
    "checkpoint = ModelCheckpoint(filepath, monitor='val_acc', verbose=1, save_best_only=True, mode='auto')\n",
    "earlyStopping = EarlyStopping(monitor='val_acc', patience=1, verbose=0, mode='auto')\n",
    "\n",
    "callbacks_list = [checkpoint, earlyStopping]"
   ]
  },
  {
   "cell_type": "code",
   "execution_count": 128,
   "metadata": {},
   "outputs": [],
   "source": [
    "model.load_weights(\"pair_classifier_weights.hdf5\")\n",
    "# y_test = model.predict(x_dev, batch_size=128, verbose=1)\n"
   ]
  },
  {
   "cell_type": "code",
   "execution_count": 152,
   "metadata": {},
   "outputs": [
    {
     "name": "stdout",
     "output_type": "stream",
     "text": [
      "291862/291862 [==============================] - 1s 3us/step\n",
      "CPU times: user 1.27 s, sys: 748 ms, total: 2.02 s\n",
      "Wall time: 1.9 s\n"
     ]
    }
   ],
   "source": [
    "%%time\n",
    "top_k = 10\n",
    "\n",
    "pairs = np.concatenate((np.repeat([dev_embedding[0]], [len(train_embedding)], axis=0), train_embedding), axis=1)\n",
    "result = model.predict(pairs, batch_size=1024, verbose=1)"
   ]
  },
  {
   "cell_type": "code",
   "execution_count": 157,
   "metadata": {},
   "outputs": [],
   "source": [
    "top_k_idx=result[:,1].argsort()[::-1][0:top_k]"
   ]
  },
  {
   "cell_type": "code",
   "execution_count": 161,
   "metadata": {},
   "outputs": [
    {
     "data": {
      "text/plain": [
       "array([3220, 7907, 2717,  176, 1698, 3225, 5523, 5523, 3220, 1017])"
      ]
     },
     "execution_count": 161,
     "metadata": {},
     "output_type": "execute_result"
    }
   ],
   "source": [
    "np.array(train_data[0])[top_k_idx]"
   ]
  },
  {
   "cell_type": "code",
   "execution_count": 162,
   "metadata": {},
   "outputs": [
    {
     "data": {
      "text/plain": [
       "3220"
      ]
     },
     "execution_count": 162,
     "metadata": {},
     "output_type": "execute_result"
    }
   ],
   "source": [
    "counts = np.bincount(np.array(train_data[0])[top_k_idx])\n",
    "np.argmax(counts)"
   ]
  },
  {
   "cell_type": "code",
   "execution_count": null,
   "metadata": {},
   "outputs": [
    {
     "name": "stdout",
     "output_type": "stream",
     "text": [
      "291862/291862 [==============================] - 1s 3us/step\n",
      "291862/291862 [==============================] - 1s 3us/step\n",
      "291862/291862 [==============================] - 1s 3us/step\n",
      "291862/291862 [==============================] - 1s 3us/step\n",
      "291862/291862 [==============================] - 1s 3us/step\n",
      "291862/291862 [==============================] - 1s 3us/step\n",
      "291862/291862 [==============================] - 1s 3us/step\n",
      "291862/291862 [==============================] - 1s 3us/step\n",
      "291862/291862 [==============================] - 1s 3us/step\n",
      "291862/291862 [==============================] - 1s 3us/step\n",
      "291862/291862 [==============================] - 1s 3us/step\n",
      "291862/291862 [==============================] - 1s 3us/step\n",
      "291862/291862 [==============================] - 1s 3us/step\n",
      "291862/291862 [==============================] - 1s 3us/step\n",
      "291862/291862 [==============================] - 1s 3us/step\n",
      "291862/291862 [==============================] - 1s 3us/step\n",
      "291862/291862 [==============================] - 1s 3us/step\n",
      "291862/291862 [==============================] - 1s 3us/step\n",
      "291862/291862 [==============================] - 1s 3us/step\n",
      "291862/291862 [==============================] - 1s 3us/step\n",
      "291862/291862 [==============================] - 1s 3us/step\n",
      "291862/291862 [==============================] - 1s 3us/step\n",
      "291862/291862 [==============================] - 1s 3us/step\n",
      "291862/291862 [==============================] - 1s 3us/step\n",
      "291862/291862 [==============================] - 1s 3us/step\n",
      "291862/291862 [==============================] - 1s 3us/step\n",
      "291862/291862 [==============================] - 1s 3us/step\n",
      "291862/291862 [==============================] - 1s 3us/step\n",
      "291862/291862 [==============================] - 1s 3us/step\n",
      "291862/291862 [==============================] - 1s 3us/step\n",
      "291862/291862 [==============================] - 1s 3us/step\n",
      "291862/291862 [==============================] - 1s 3us/step\n",
      "291862/291862 [==============================] - 1s 3us/step\n",
      "291862/291862 [==============================] - 1s 3us/step\n"
     ]
    }
   ],
   "source": [
    "correct = 0\n",
    "\n",
    "for i in range(len(dev_data)):\n",
    "    pairs = np.concatenate((np.repeat([dev_embedding[i]], [len(train_embedding)], axis=0), train_embedding), axis=1)\n",
    "    result = model.predict(pairs, batch_size=1024, verbose=1)\n",
    "#     max_index = np.argmax(result[:,1])\n",
    "    top_k_idx=result[:,1].argsort()[::-1][0:top_k]\n",
    "    np.array(train_data[0])[top_k_idx]\n",
    "    counts = np.bincount(np.array(train_data[0])[top_k_idx])\n",
    "    \n",
    "    if dev_data[0][i] == np.argmax(counts):\n",
    "        print(\"correct\")\n",
    "        correct += 1\n",
    "\n",
    "correct"
   ]
  },
  {
   "cell_type": "code",
   "execution_count": null,
   "metadata": {},
   "outputs": [],
   "source": []
  },
  {
   "cell_type": "code",
   "execution_count": null,
   "metadata": {},
   "outputs": [],
   "source": []
  },
  {
   "cell_type": "code",
   "execution_count": null,
   "metadata": {},
   "outputs": [],
   "source": []
  },
  {
   "cell_type": "code",
   "execution_count": null,
   "metadata": {},
   "outputs": [],
   "source": []
  },
  {
   "cell_type": "code",
   "execution_count": null,
   "metadata": {},
   "outputs": [],
   "source": []
  },
  {
   "cell_type": "code",
   "execution_count": 134,
   "metadata": {},
   "outputs": [
    {
     "name": "stdout",
     "output_type": "stream",
     "text": [
      "291862/291862 [==============================] - 1s 3us/step\n"
     ]
    }
   ],
   "source": [
    "result = model.predict(pairs, batch_size=1024, verbose=1)"
   ]
  },
  {
   "cell_type": "code",
   "execution_count": 135,
   "metadata": {},
   "outputs": [
    {
     "data": {
      "text/plain": [
       "(24746, 2)"
      ]
     },
     "execution_count": 135,
     "metadata": {},
     "output_type": "execute_result"
    }
   ],
   "source": [
    "result[result[:,1] > threshold].shape"
   ]
  },
  {
   "cell_type": "code",
   "execution_count": 139,
   "metadata": {},
   "outputs": [
    {
     "name": "stdout",
     "output_type": "stream",
     "text": [
      "[0.00761543 0.99238455]\n"
     ]
    },
    {
     "data": {
      "text/plain": [
       "7565"
      ]
     },
     "execution_count": 139,
     "metadata": {},
     "output_type": "execute_result"
    }
   ],
   "source": [
    "max_index = np.argmax(result[:,1])\n",
    "#np.array(train_data[0])[result[:,1] > threshold]\n",
    "print(result[max_index])\n",
    "train_data[0][max_index]"
   ]
  },
  {
   "cell_type": "code",
   "execution_count": 141,
   "metadata": {},
   "outputs": [
    {
     "data": {
      "text/plain": [
       "3088"
      ]
     },
     "execution_count": 141,
     "metadata": {},
     "output_type": "execute_result"
    }
   ],
   "source": [
    "dev_data[0][3]"
   ]
  },
  {
   "cell_type": "code",
   "execution_count": null,
   "metadata": {},
   "outputs": [],
   "source": []
  },
  {
   "cell_type": "code",
   "execution_count": null,
   "metadata": {},
   "outputs": [],
   "source": []
  },
  {
   "cell_type": "code",
   "execution_count": null,
   "metadata": {},
   "outputs": [],
   "source": []
  }
 ],
 "metadata": {
  "kernelspec": {
   "display_name": "Python 3",
   "language": "python",
   "name": "python3"
  },
  "language_info": {
   "codemirror_mode": {
    "name": "ipython",
    "version": 3
   },
   "file_extension": ".py",
   "mimetype": "text/x-python",
   "name": "python",
   "nbconvert_exporter": "python",
   "pygments_lexer": "ipython3",
   "version": "3.5.2"
  }
 },
 "nbformat": 4,
 "nbformat_minor": 2
}
