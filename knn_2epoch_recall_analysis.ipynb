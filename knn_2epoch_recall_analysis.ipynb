{
 "cells": [
  {
   "cell_type": "code",
   "execution_count": 14,
   "metadata": {},
   "outputs": [],
   "source": [
    "import numpy as np\n",
    "import pandas as pd"
   ]
  },
  {
   "cell_type": "code",
   "execution_count": 15,
   "metadata": {},
   "outputs": [],
   "source": [
    "# k = 1000\n",
    "# split_pair_path = \"data/split_dev/split_pair_dev_k_{0}_all.txt\".format(k)\n",
    "\n",
    "k = 100\n",
    "split_pair_path = \"data/split_dev/split_pair_dev_k_{0}.txt\".format(k)\n",
    "\n",
    "\n",
    "#k=100\n",
    "#split_pair_path = \"data/first_filter_2epoch/new_split_pair_dev_2epoch_k_{0}.txt\".format(k)\n",
    "\n",
    "\n",
    "split_data = pd.read_csv(split_pair_path, sep='\\t')\n"
   ]
  },
  {
   "cell_type": "code",
   "execution_count": 16,
   "metadata": {},
   "outputs": [
    {
     "data": {
      "text/plain": [
       "3282700"
      ]
     },
     "execution_count": 16,
     "metadata": {},
     "output_type": "execute_result"
    }
   ],
   "source": [
    "len(split_data)"
   ]
  },
  {
   "cell_type": "code",
   "execution_count": 17,
   "metadata": {},
   "outputs": [
    {
     "name": "stdout",
     "output_type": "stream",
     "text": [
      "CPU times: user 498 ms, sys: 38.3 ms, total: 536 ms\n",
      "Wall time: 401 ms\n"
     ]
    }
   ],
   "source": [
    "%%time\n",
    "total_len = len(split_data)\n",
    "unique_len = int(total_len/k)\n",
    "original_shape = (unique_len, k)\n",
    "true_sentence = np.array(split_data.true_sentence).reshape(original_shape)\n",
    "candidate_sentence = np.array(split_data.candidate_sentence).reshape(original_shape)\n",
    "pair_result = np.array(split_data.pair_result).reshape(original_shape)\n",
    "true_label = np.array(split_data.true_label).reshape(original_shape)\n",
    "candidate_label = np.array(split_data.candidate_label).reshape(original_shape)"
   ]
  },
  {
   "cell_type": "code",
   "execution_count": 18,
   "metadata": {},
   "outputs": [],
   "source": [
    "# from probability file, get top k candidates\n",
    "probability_file_path = \"data/split_dev/split_pair_dev_k_{0}_prob_3_sep.csv\".format(k)\n",
    "#probability_file_path = \"data/first_filter_2epoch/test_results_k_{0}_of_k_1000.csv\".format(k)\n",
    "#probability_file_path = \"data/first_filter_2epoch/test_results_k_{0}_split_all.csv\".format(k)\n",
    "\n",
    "\n",
    "probability_file = pd.read_csv(probability_file_path, sep='\\t',header=None).iloc[:,1]\n",
    "probability_mat = np.array(probability_file).reshape(original_shape)"
   ]
  },
  {
   "cell_type": "code",
   "execution_count": 19,
   "metadata": {
    "scrolled": true
   },
   "outputs": [
    {
     "name": "stdout",
     "output_type": "stream",
     "text": [
      "CPU times: user 1.14 s, sys: 47.3 ms, total: 1.19 s\n",
      "Wall time: 1.19 s\n"
     ]
    }
   ],
   "source": [
    "%%time\n",
    "sorted_pair_result = np.zeros((original_shape)).astype('int')\n",
    "sorted_candidate_sentence = np.zeros((original_shape), dtype=object)\n",
    "sorted_candidate_label = np.zeros((original_shape)).astype('int')\n",
    "for i in range(unique_len):\n",
    "    sorted_index = probability_mat[i].argsort()[::-1]\n",
    "    sorted_pair_result[i] = pair_result[i, sorted_index]\n",
    "    sorted_candidate_sentence[i] = candidate_sentence[i, sorted_index]\n",
    "    sorted_candidate_label[i] = candidate_label[i, sorted_index]"
   ]
  },
  {
   "cell_type": "code",
   "execution_count": 24,
   "metadata": {},
   "outputs": [
    {
     "data": {
      "text/plain": [
       "0.4861546897371066"
      ]
     },
     "execution_count": 24,
     "metadata": {},
     "output_type": "execute_result"
    }
   ],
   "source": [
    "top = 50\n",
    "np.mean(np.max(sorted_pair_result[:,:top], axis=1))\n",
    "#np.mean(sorted_pair_result[:,:top].ravel())"
   ]
  },
  {
   "cell_type": "code",
   "execution_count": 11,
   "metadata": {},
   "outputs": [],
   "source": [
    "def getOutput(mat, index, top):\n",
    "    return mat[index, :top].ravel()"
   ]
  },
  {
   "cell_type": "code",
   "execution_count": 12,
   "metadata": {},
   "outputs": [],
   "source": [
    "positive_index = (np.max(sorted_pair_result[:,:top], axis=1) == 1)\n",
    "output_true_sentence = getOutput(true_sentence, positive_index, top)\n",
    "output_candidate_sentence =  getOutput(sorted_candidate_sentence, positive_index, top)\n",
    "output_pair_result = getOutput(sorted_pair_result, positive_index, top)\n",
    "output_true_label = getOutput(true_label, positive_index, top)\n",
    "output_candidate_label = getOutput(sorted_candidate_label, positive_index, top)"
   ]
  },
  {
   "cell_type": "code",
   "execution_count": 13,
   "metadata": {},
   "outputs": [],
   "source": [
    "output_file_path = \"data/first_filter_2epoch/new_split_pair_dev_2epoch_k_{0}.txt\".format(top)\n",
    "pair_df = pd.DataFrame({'true_sentence':output_true_sentence,                               \n",
    "                         'candidate_sentence':output_candidate_sentence,                     \n",
    "                         'pair_result':output_pair_result,                         \n",
    "                         'true_label':output_true_label,                                     \n",
    "                         'candidate_label':output_candidate_label})                          \n",
    "pair_df.to_csv(output_file_path, sep='\\t', index=False) "
   ]
  }
 ],
 "metadata": {
  "kernelspec": {
   "display_name": "Python 3",
   "language": "python",
   "name": "python3"
  },
  "language_info": {
   "codemirror_mode": {
    "name": "ipython",
    "version": 3
   },
   "file_extension": ".py",
   "mimetype": "text/x-python",
   "name": "python",
   "nbconvert_exporter": "python",
   "pygments_lexer": "ipython3",
   "version": "3.7.4"
  }
 },
 "nbformat": 4,
 "nbformat_minor": 2
}
