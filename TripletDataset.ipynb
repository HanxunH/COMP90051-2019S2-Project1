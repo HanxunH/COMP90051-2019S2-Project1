{
 "cells": [
  {
   "cell_type": "code",
   "execution_count": 3,
   "metadata": {},
   "outputs": [
    {
     "name": "stderr",
     "output_type": "stream",
     "text": [
      "[nltk_data] Downloading package wordnet to\n",
      "[nltk_data]     /Users/hanxunhuang/nltk_data...\n",
      "[nltk_data]   Package wordnet is already up-to-date!\n"
     ]
    }
   ],
   "source": [
    "# Triplet Select Samples\n",
    "# Anchor Positive Negative\n",
    "from nltk.stem import WordNetLemmatizer \n",
    "import nltk\n",
    "import string\n",
    "nltk.download('wordnet')\n",
    "\n",
    "\n",
    "remove_words = [\"@handle\", \"RT\", \"http\"]\n",
    "lemmatizer = WordNetLemmatizer() \n",
    "vocab = set()\n",
    "\n",
    "def pre_process(sentence, max_length):\n",
    "    sentence = sentence.lower()\n",
    "    sentence = sentence.translate(str.maketrans('', '', string.punctuation))\n",
    "    sentence = sentence.split()\n",
    "    target_remove = set()\n",
    "    for i, token in enumerate(sentence):\n",
    "        for target in remove_words:\n",
    "            if (target == \"http\") and (target in token.lower()):\n",
    "                target_remove.add(token)\n",
    "                break\n",
    "            if target in token:\n",
    "                target_remove.add(token)\n",
    "                break\n",
    "    for target in target_remove:\n",
    "        while target in sentence:\n",
    "            sentence.remove(target)\n",
    "            \n",
    "    for i, token in enumerate(sentence):\n",
    "        if len(token) == 0:\n",
    "            continue\n",
    "#         sentence[i] = token\n",
    "#         print(sentence[i])\n",
    "        vocab.add(sentence[i])\n",
    "\n",
    "    max_length = max(max_length, len(sentence))\n",
    "    sentence = ' '.join(sentence)\n",
    "    return sentence, max_length"
   ]
  },
  {
   "cell_type": "code",
   "execution_count": 4,
   "metadata": {},
   "outputs": [
    {
     "name": "stdout",
     "output_type": "stream",
     "text": [
      "Total rows: 291861\n",
      "Total ids: 9266\n",
      "Longest Sentence: 36\n",
      "Vocab Size: 162591\n",
      "gruden divergent\n"
     ]
    }
   ],
   "source": [
    "import csv\n",
    "import collections\n",
    "import numpy as np\n",
    "\n",
    "train_file_path = \"/Users/hanxunhuang/Desktop/UniMelb/2019-semester2/COMP90051-SML/project1/COMP90051-Project1/data/lemon_bear_files/lemonBearData/train_set_v1.txt\"\n",
    "train_dict = collections.defaultdict(list)\n",
    "max_length = 0\n",
    "\n",
    "length_array = []\n",
    "with open(train_file_path, encoding='utf-8') as tsvfile:\n",
    "    reader = tsvfile.readlines()\n",
    "    for i, row in enumerate(reader):\n",
    "        row = row.strip().split(\"\\t\")\n",
    "        id = int(row[0])\n",
    "        instance, max_length = pre_process(row[1], max_length)\n",
    "        if not instance == \"\":\n",
    "            train_dict[id].append(instance)\n",
    "            length_array.append(len(instance.split()))\n",
    "            if len(instance) == 0:\n",
    "                print(\"Error\")\n",
    "    print(\"Total rows: %d\" % i)\n",
    "    \n",
    "vocab = list(vocab)\n",
    "print(\"Total ids: %d\" % len(train_dict))\n",
    "print(\"Longest Sentence: %d\" % (max_length))\n",
    "print(\"Vocab Size: %d\" % (len(vocab)))\n",
    "\n",
    "print(vocab[0], vocab[1])\n",
    "    "
   ]
  },
  {
   "cell_type": "code",
   "execution_count": 19,
   "metadata": {},
   "outputs": [
    {
     "name": "stdout",
     "output_type": "stream",
     "text": [
      "172484\n",
      "172484\n"
     ]
    }
   ],
   "source": [
    "from pytorch_transformers import BertTokenizer, BertModel\n",
    "import pickle\n",
    "\n",
    "# with open(\"data/lemon_bear_files/lemonBearData/vocab.pickle\", 'wb') as handle:\n",
    "#     pickle.dump(vocab[:1000], handle, protocol=pickle.HIGHEST_PROTOCOL)\n",
    "\n",
    "model = BertModel.from_pretrained('bert-base-uncased', output_hidden_states=True, output_attentions=True)\n",
    "tokenizer = BertTokenizer.from_pretrained('bert-base-uncased')\n",
    "\n",
    "tokenizer.add_tokens(vocab)\n",
    "model.resize_token_embeddings(len(tokenizer))\n",
    "print(len(tokenizer))\n",
    "\n",
    "model.save_pretrained('checkpoints/v10/')\n",
    "tokenizer.save_pretrained('checkpoints/v10/')\n",
    "\n",
    "model = BertModel.from_pretrained('checkpoints/v10/', output_hidden_states=True, output_attentions=True)\n",
    "tokenizer = BertTokenizer.from_pretrained('checkpoints/v10/')\n",
    "print(len(tokenizer))"
   ]
  },
  {
   "cell_type": "code",
   "execution_count": null,
   "metadata": {},
   "outputs": [],
   "source": [
    "# For Now, Just Use Random\n",
    "import random\n",
    "import pandas as pd\n",
    "from tqdm import tnrange\n",
    "\n",
    "df = pd.DataFrame()\n",
    "df[\"anchor\"] = \"\"\n",
    "df[\"positive\"] = \"\"\n",
    "df[\"negative\"] = \"\"\n",
    "\n",
    "total_nums_of_rows = 1200000\n",
    "ids = list(train_dict.keys())\n",
    "\n",
    "for i in range(total_nums_of_rows):\n",
    "    positive_id = random.choice(ids)\n",
    "    negative_id = random.choice(ids)\n",
    "    positive_sentence = train_dict[positive_id]\n",
    "    negative_sentence = train_dict[negative_id]\n",
    "    \n",
    "    while len(positive_sentence) < 2 or positive_id == negative_id or len(negative_sentence) < 1:\n",
    "        positive_id = random.choice(ids)\n",
    "        negative_id = random.choice(ids)\n",
    "        positive_sentence = train_dict[positive_id]\n",
    "        negative_sentence = train_dict[negative_id]\n",
    "        \n",
    "    anchor = random.choice(positive_sentence)\n",
    "    positive_sentence.remove(anchor)\n",
    "    \n",
    "    positive = random.choice(positive_sentence)\n",
    "    positive_sentence.remove(positive)\n",
    "    \n",
    "    negative = random.choice(negative_sentence)\n",
    "    negative_sentence.remove(negative)\n",
    "    \n",
    "    new_df = pd.DataFrame({\"anchor\": [anchor],\n",
    "                           \"positive\": [positive],\n",
    "                           \"negative\": [negative]})\n",
    "    \n",
    "    df = df.append(new_df, ignore_index = True)\n",
    "\n",
    "    \n",
    "    \n",
    "    "
   ]
  },
  {
   "cell_type": "code",
   "execution_count": null,
   "metadata": {},
   "outputs": [],
   "source": [
    "print(len(df))"
   ]
  },
  {
   "cell_type": "code",
   "execution_count": null,
   "metadata": {},
   "outputs": [],
   "source": [
    "# Save to File\n",
    "file_path = 'data/triplet_random/dataset.csv'\n",
    "dataframe.to_csv(file_path, index=False, sep='\\t', header=None)"
   ]
  }
 ],
 "metadata": {
  "kernelspec": {
   "display_name": "Python 3",
   "language": "python",
   "name": "python3"
  },
  "language_info": {
   "codemirror_mode": {
    "name": "ipython",
    "version": 3
   },
   "file_extension": ".py",
   "mimetype": "text/x-python",
   "name": "python",
   "nbconvert_exporter": "python",
   "pygments_lexer": "ipython3",
   "version": "3.7.4"
  }
 },
 "nbformat": 4,
 "nbformat_minor": 2
}
