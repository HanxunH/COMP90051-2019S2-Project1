{
 "cells": [
  {
   "cell_type": "code",
   "execution_count": 67,
   "metadata": {},
   "outputs": [],
   "source": [
    "import pandas as pd\n",
    "import numpy as np\n",
    "from sklearn.neighbors import KNeighborsClassifier"
   ]
  },
  {
   "cell_type": "code",
   "execution_count": 68,
   "metadata": {},
   "outputs": [],
   "source": [
    "model_version = \"margin5.0_v6_epoch2\"\n",
    "train_set_path = \"/home/weizhuozhang/Desktop/cwb/COMP90051-Project1/data/BERT_encoding/train_{0}.npy\".format(model_version)\n",
    "dev_set_path = \"/home/weizhuozhang/Desktop/cwb/COMP90051-Project1/data/BERT_encoding/dev_{0}.npy\".format(model_version)\n",
    "train_set_csv = \"/home/weizhuozhang/Desktop/cwb/COMP90051-Project1/data/train_set_v1.txt\"\n",
    "dev_set_csv = \"/home/weizhuozhang/Desktop/cwb/COMP90051-Project1/data/dev_set_v1.txt\"\n",
    "\n",
    "train_set = np.load(train_set_path)\n",
    "train_csv = pd.read_csv(train_set_csv, sep='\\t', header=None)\n",
    "train_csv = np.array(train_csv)\n",
    "dev_set = np.load(dev_set_path)\n",
    "dev_csv = pd.read_csv(dev_set_csv, sep='\\t', header=None)\n",
    "dev_csv = np.array(dev_csv)\n",
    "\n",
    "train_label = (train_csv[:,0]).astype('int')\n",
    "dev_label = (dev_csv[:,0]).astype('int')"
   ]
  },
  {
   "cell_type": "code",
   "execution_count": 69,
   "metadata": {
    "scrolled": true
   },
   "outputs": [
    {
     "name": "stdout",
     "output_type": "stream",
     "text": [
      "0.09229321226885173\n",
      "CPU times: user 44min 34s, sys: 6.15 s, total: 44min 40s\n",
      "Wall time: 9min 20s\n"
     ]
    }
   ],
   "source": [
    "%%time\n",
    "k = 13\n",
    "knn_clf = KNeighborsClassifier(n_jobs=-1, n_neighbors=k, weights=\"distance\")\n",
    "knn_clf.fit(train_set, train_label)\n",
    "predicted = knn_clf.predict(dev_set)\n",
    "accuracy = sum(predicted == dev_label)/len(predicted)\n",
    "print(accuracy)"
   ]
  },
  {
   "cell_type": "code",
   "execution_count": 70,
   "metadata": {},
   "outputs": [
    {
     "name": "stdout",
     "output_type": "stream",
     "text": [
      "CPU times: user 45min 30s, sys: 5.43 s, total: 45min 35s\n",
      "Wall time: 9min 16s\n"
     ]
    }
   ],
   "source": [
    "%%time\n",
    "k = 20\n",
    "knn_clf = KNeighborsClassifier(n_jobs=-1, n_neighbors=k, weights=\"distance\")\n",
    "knn_clf.fit(train_set, train_label)\n",
    "\n",
    "k_neighbors_list = knn_clf.kneighbors(dev_set)\n",
    "k_neigbbors_path = \"/home/weizhuozhang/workspace/COMP90051-Project1/data/result/k_neighbors_list_k_eq_{0}\".format(k)\n",
    "np.save(k_neigbbors_path, k_neighbors_list)"
   ]
  },
  {
   "cell_type": "code",
   "execution_count": 71,
   "metadata": {},
   "outputs": [],
   "source": [
    "k_neigbbors_npy_path = \"/home/weizhuozhang/workspace/COMP90051-Project1/data/result/k_neighbors_list_k_eq_{0}.npy\".format(k)\n",
    "k_neighbors_list = np.load(k_neigbbors_npy_path)\n",
    "k_neighbors_dist_list = k_neighbors_list[0]\n",
    "k_neighbors_index_list = k_neighbors_list[1]\n",
    "label_k_neighbors_np = []\n",
    "for i, index_list in enumerate(k_neighbors_index_list):\n",
    "    line = []\n",
    "    line.append(dev_label[i])\n",
    "    candidate = list(train_label[index_list.astype('int')])\n",
    "    line.append(candidate)\n",
    "    label_k_neighbors_np.append(line)\n",
    "label_k_neighbors_np = np.array(label_k_neighbors_np)"
   ]
  },
  {
   "cell_type": "code",
   "execution_count": 72,
   "metadata": {},
   "outputs": [
    {
     "name": "stdout",
     "output_type": "stream",
     "text": [
      "0.15886944967334735\n"
     ]
    }
   ],
   "source": [
    "true_label_list = label_k_neighbors_np[:,0]\n",
    "candidate_label_list = label_k_neighbors_np[:,1]\n",
    "counter = 0\n",
    "for i, label in enumerate(true_label_list):\n",
    "    if label in candidate_label_list[i]:\n",
    "        counter += 1\n",
    "candidate_accuracy = counter / len(true_label_list)\n",
    "print(candidate_accuracy)"
   ]
  },
  {
   "cell_type": "code",
   "execution_count": 73,
   "metadata": {},
   "outputs": [
    {
     "name": "stdout",
     "output_type": "stream",
     "text": [
      "18.500083047281585\n"
     ]
    }
   ],
   "source": [
    "counter = 0\n",
    "for i, label in enumerate(true_label_list):\n",
    "    counter += len(np.unique(candidate_label_list[i]))\n",
    "avg_user_counter = counter / len(candidate_label_list)\n",
    "print(avg_user_counter)"
   ]
  },
  {
   "cell_type": "code",
   "execution_count": null,
   "metadata": {
    "scrolled": true
   },
   "outputs": [],
   "source": [
    "import time\n",
    "k_neighbors = [3, 7, 9, 13, 15]\n",
    "for k in k_neighbors:\n",
    "    knn_clf = KNeighborsClassifier(n_jobs=-1, n_neighbors=k)\n",
    "    knn_clf.fit(train_set, train_label)\n",
    "    time_start=time.time()\n",
    "    predicted = knn_clf.predict(dev_set)\n",
    "    accuracy = sum(predicted == dev_label)/len(predicted)\n",
    "    time_end=time.time()\n",
    "    print(\"---------------------------------\")\n",
    "    print(\"knn k={0}\".format(k))\n",
    "    print(\"accuracy: {0}\".format(accuracy))\n",
    "    print(\"Time spent: {0:.2f}ms\".format((time_end-time_start)*1000))\n"
   ]
  }
 ],
 "metadata": {
  "kernelspec": {
   "display_name": "Python 3",
   "language": "python",
   "name": "python3"
  },
  "language_info": {
   "codemirror_mode": {
    "name": "ipython",
    "version": 3
   },
   "file_extension": ".py",
   "mimetype": "text/x-python",
   "name": "python",
   "nbconvert_exporter": "python",
   "pygments_lexer": "ipython3",
   "version": "3.7.4"
  }
 },
 "nbformat": 4,
 "nbformat_minor": 2
}
