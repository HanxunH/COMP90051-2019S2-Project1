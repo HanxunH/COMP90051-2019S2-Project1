{
 "cells": [
  {
   "cell_type": "code",
   "execution_count": 2,
   "metadata": {},
   "outputs": [],
   "source": [
    "import numpy as np\n",
    "import pandas as pd\n",
    "import tensorflow as tf\n",
    "from tensorflow.python.framework import ops\n",
    "from tensorflow.contrib.losses.python.metric_learning import metric_loss_ops"
   ]
  },
  {
   "cell_type": "code",
   "execution_count": 3,
   "metadata": {},
   "outputs": [],
   "source": [
    "train_set_path = \"/home/weizhuozhang/Desktop/cwb/COMP90051-Project1/data/BERT_encoding/train_encode_tuned.npy\"\n",
    "dev_set_path = \"/home/weizhuozhang/Desktop/cwb/COMP90051-Project1/data/BERT_encoding/dev_encode_tuned.npy\"\n",
    "train_set_csv = \"/home/weizhuozhang/Desktop/cwb/COMP90051-Project1/data/train_set_v1.txt\"\n",
    "dev_set_csv = \"/home/weizhuozhang/Desktop/cwb/COMP90051-Project1/data/dev_set_v1.txt\"\n",
    "\n",
    "train_set = np.load(train_set_path).astype(np.float32)\n",
    "train_csv = pd.read_csv(train_set_csv, sep='\\t', header=None)\n",
    "train_csv = np.array(train_csv)\n",
    "dev_set = np.load(dev_set_path).astype(np.float32)\n",
    "dev_csv = pd.read_csv(dev_set_csv, sep='\\t', header=None)\n",
    "dev_csv = np.array(dev_csv)\n",
    "\n",
    "train_label = (train_csv[:,0]).astype(np.float32)\n",
    "dev_label = (dev_csv[:,0]).astype(np.float32)\n"
   ]
  },
  {
   "cell_type": "code",
   "execution_count": 1,
   "metadata": {},
   "outputs": [
    {
     "ename": "NameError",
     "evalue": "name 'tf' is not defined",
     "output_type": "error",
     "traceback": [
      "\u001b[0;31m---------------------------------------------------------------------------\u001b[0m",
      "\u001b[0;31mNameError\u001b[0m                                 Traceback (most recent call last)",
      "\u001b[0;32m<ipython-input-1-76cb41321207>\u001b[0m in \u001b[0;36m<module>\u001b[0;34m\u001b[0m\n\u001b[0;32m----> 1\u001b[0;31m \u001b[0;32mwith\u001b[0m \u001b[0mtf\u001b[0m\u001b[0;34m.\u001b[0m\u001b[0mSession\u001b[0m\u001b[0;34m(\u001b[0m\u001b[0;34m)\u001b[0m \u001b[0;32mas\u001b[0m \u001b[0msession\u001b[0m\u001b[0;34m:\u001b[0m\u001b[0;34m\u001b[0m\u001b[0;34m\u001b[0m\u001b[0m\n\u001b[0m\u001b[1;32m      2\u001b[0m     loss_tf = metric_loss_ops.lifted_struct_loss(\n\u001b[1;32m      3\u001b[0m        \u001b[0mlabels\u001b[0m\u001b[0;34m=\u001b[0m\u001b[0mops\u001b[0m\u001b[0;34m.\u001b[0m\u001b[0mconvert_to_tensor\u001b[0m\u001b[0;34m(\u001b[0m\u001b[0mtrain_label\u001b[0m\u001b[0;34m)\u001b[0m\u001b[0;34m,\u001b[0m\u001b[0;34m\u001b[0m\u001b[0;34m\u001b[0m\u001b[0m\n\u001b[1;32m      4\u001b[0m        \u001b[0membeddings\u001b[0m\u001b[0;34m=\u001b[0m\u001b[0mops\u001b[0m\u001b[0;34m.\u001b[0m\u001b[0mconvert_to_tensor\u001b[0m\u001b[0;34m(\u001b[0m\u001b[0mtrain_set\u001b[0m\u001b[0;34m)\u001b[0m\u001b[0;34m\u001b[0m\u001b[0;34m\u001b[0m\u001b[0m\n\u001b[1;32m      5\u001b[0m     )\n",
      "\u001b[0;31mNameError\u001b[0m: name 'tf' is not defined"
     ]
    }
   ],
   "source": [
    "with tf.Session() as session:\n",
    "    loss_tf = metric_loss_ops.lifted_struct_loss(\n",
    "       labels=ops.convert_to_tensor(train_label),\n",
    "       embeddings=ops.convert_to_tensor(train_set)\n",
    "    )\n",
    "    loss_tf = loss_tf.eval()\n",
    "    print('tensorflow version: ',loss_tf)"
   ]
  }
 ],
 "metadata": {
  "kernelspec": {
   "display_name": "Python 3",
   "language": "python",
   "name": "python3"
  },
  "language_info": {
   "codemirror_mode": {
    "name": "ipython",
    "version": 3
   },
   "file_extension": ".py",
   "mimetype": "text/x-python",
   "name": "python",
   "nbconvert_exporter": "python",
   "pygments_lexer": "ipython3",
   "version": "3.7.4"
  }
 },
 "nbformat": 4,
 "nbformat_minor": 2
}
